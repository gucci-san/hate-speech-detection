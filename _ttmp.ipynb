{
 "cells": [
  {
   "cell_type": "code",
   "execution_count": 33,
   "metadata": {},
   "outputs": [],
   "source": [
    "import pandas as pd\n",
    "import numpy as np\n",
    "\n",
    "from tqdm import tqdm\n",
    "from config import *"
   ]
  },
  {
   "cell_type": "code",
   "execution_count": 144,
   "metadata": {},
   "outputs": [],
   "source": [
    "train_df = pd.read_csv(data_path+\"train.csv\")\n",
    "test_df = pd.read_csv(data_path+\"test.csv\")"
   ]
  },
  {
   "cell_type": "code",
   "execution_count": 119,
   "metadata": {},
   "outputs": [],
   "source": [
    "train_dup = pd.read_json(\"input/dataset_with_original_text/train_duplicated_index.json\", typ=\"series\")\n",
    "train_nofinds = pd.read_json(\"input/dataset_with_original_text/train_nofinds_index.json\", typ=\"series\")\n",
    "test_dup = pd.read_json(\"input/dataset_with_original_text/test_duplicated_index.json\", typ=\"series\")\n",
    "test_nofinds = pd.read_json(\"input/dataset_with_original_text/test_nofinds_index.json\", typ=\"series\")"
   ]
  },
  {
   "cell_type": "code",
   "execution_count": 36,
   "metadata": {},
   "outputs": [
    {
     "name": "stderr",
     "output_type": "stream",
     "text": [
      "217296it [00:00, 1144538.90it/s]\n",
      "1983626it [00:01, 1355912.03it/s]\n",
      "5948218it [00:03, 1494261.19it/s]\n"
     ]
    }
   ],
   "source": [
    "# ##########################################\n",
    "#\n",
    "#               原文tsvの読み込み\n",
    "#\n",
    "# ##########################################\n",
    "corpus_df_list = []\n",
    "for source in [\"newsplus\", \"news4vip\", \"livejupiter\"]:\n",
    "    corpus_df = pd.DataFrame(columns=[\"id\", \"source\", \"text\"])\n",
    "    tsv_line_list = []\n",
    "    with open(input_root+f\"corpus/{source}.tsv\", encoding=\"utf-8\") as f:\n",
    "        for i, l in tqdm(enumerate(f)):\n",
    "            tsv_line_list.append(l)\n",
    "    corpus_df[\"text\"] = tsv_line_list\n",
    "    corpus_df[\"source\"] = source\n",
    "    corpus_df = corpus_df.reset_index(drop=False)\n",
    "    corpus_df[\"id\"] = corpus_df[\"source\"] + \"_\" + corpus_df[\"index\"].astype(str)\n",
    "    corpus_df = corpus_df.drop([\"index\"], axis=1)\n",
    "    corpus_df_list.append(corpus_df)\n",
    "\n",
    "corpus_df = pd.concat(corpus_df_list)\n",
    "corpus_df = corpus_df.reset_index(drop=True)"
   ]
  },
  {
   "cell_type": "code",
   "execution_count": 138,
   "metadata": {},
   "outputs": [],
   "source": [
    "def recover_original_text(df, corpus_df):\n",
    "\n",
    "    original_text_list = []\n",
    "    nofinds_data_index_list = []\n",
    "    duplicated_data_index_list = []\n",
    "\n",
    "    df[\"first_sentence\"] = df[\"text\"].map(lambda x: x.split(\"\\n\")[0])\n",
    "\n",
    "    for i in tqdm(range(df.shape[0]), total=df.shape[0]):\n",
    "        first_sentence = df.loc[i, \"first_sentence\"]\n",
    "        text_picked = [x for x in corpus_df[\"text\"].values.tolist() if first_sentence in x]\n",
    "\n",
    "        if len(text_picked) == 0: # データセットはある程度正規化されているので、データ元からヒットしないケースがある --\n",
    "            slicer = 1\n",
    "            while (len(text_picked) == 0):  # 恐らくスペースが消えていることが原因、復元できないので、頭からスライスしていってヒットしたやつを採用する --\n",
    "                all_sentence = df.loc[i, \"text\"]\n",
    "                text_picked = [x for x in corpus_df[\"text\"].values.tolist() if all_sentence[slicer:] in x]            \n",
    "                slicer += 1\n",
    "            nofinds_data_index_list.append(i)\n",
    "            original_text_list.append(repr(text_picked[0]))\n",
    "\n",
    "        elif len(text_picked) > 1: # 1つの文に対して2つ以上のレスアンカーがついていた場合, 2つ以上ヒットする --\n",
    "            duplicated_data_index_list.append(i)  # 分離不能な場合があるので諦めてindexだけメモっときます --\n",
    "            original_text_list.append(repr(text_picked[0]))\n",
    "\n",
    "        else:  # 1つだけヒット\n",
    "            original_text_list.append(repr(text_picked[0]))\n",
    "\n",
    "    df[\"original_text\"] = original_text_list\n",
    "    df = df.drop([\"first_sentence\"], axis=1)\n",
    "\n",
    "    return df, duplicated_data_index_list, nofinds_data_index_list"
   ]
  },
  {
   "cell_type": "code",
   "execution_count": 139,
   "metadata": {},
   "outputs": [],
   "source": [
    "tdf = train_df.loc[[0,2,49]].reset_index(drop=True)"
   ]
  },
  {
   "cell_type": "code",
   "execution_count": 140,
   "metadata": {},
   "outputs": [
    {
     "name": "stderr",
     "output_type": "stream",
     "text": [
      "100%|██████████| 3/3 [00:16<00:00,  5.66s/it]\n"
     ]
    }
   ],
   "source": [
    "t, dup, nofinds = recover_original_text(tdf, corpus_df)"
   ]
  },
  {
   "cell_type": "code",
   "execution_count": 141,
   "metadata": {},
   "outputs": [
    {
     "data": {
      "text/html": [
       "<div>\n",
       "<style scoped>\n",
       "    .dataframe tbody tr th:only-of-type {\n",
       "        vertical-align: middle;\n",
       "    }\n",
       "\n",
       "    .dataframe tbody tr th {\n",
       "        vertical-align: top;\n",
       "    }\n",
       "\n",
       "    .dataframe thead th {\n",
       "        text-align: right;\n",
       "    }\n",
       "</style>\n",
       "<table border=\"1\" class=\"dataframe\">\n",
       "  <thead>\n",
       "    <tr style=\"text-align: right;\">\n",
       "      <th></th>\n",
       "      <th>id</th>\n",
       "      <th>source</th>\n",
       "      <th>text</th>\n",
       "      <th>label</th>\n",
       "      <th>original_text</th>\n",
       "    </tr>\n",
       "  </thead>\n",
       "  <tbody>\n",
       "    <tr>\n",
       "      <th>0</th>\n",
       "      <td>80074aa43</td>\n",
       "      <td>news4vip</td>\n",
       "      <td>まともに相手されてない人との関係なんて\\nそんな大事にするものか？</td>\n",
       "      <td>0</td>\n",
       "      <td>'まともにLINEの返信してくれないんだけど諦めなきゃダメだろ __BR__ フラれたらギク...</td>\n",
       "    </tr>\n",
       "    <tr>\n",
       "      <th>1</th>\n",
       "      <td>c535f5613</td>\n",
       "      <td>livejupiter</td>\n",
       "      <td>日本人として生まれても無能な低学歴って分かったら日本人の権利剥奪して追放すべきやろ\\n甘えるな</td>\n",
       "      <td>1</td>\n",
       "      <td>'日本人として生まれても無能な低学歴って分かったら日本人の権利剥奪して追放すべきやろ __B...</td>\n",
       "    </tr>\n",
       "    <tr>\n",
       "      <th>2</th>\n",
       "      <td>c32c6dbb4</td>\n",
       "      <td>news4vip</td>\n",
       "      <td>というか女声って歌での話？それとも普通の会話とかで？</td>\n",
       "      <td>0</td>\n",
       "      <td>'というか女声って歌での話？ それとも普通の会話とかで？\\t声としての話 __BR__ 歌も...</td>\n",
       "    </tr>\n",
       "  </tbody>\n",
       "</table>\n",
       "</div>"
      ],
      "text/plain": [
       "          id       source                                             text  \\\n",
       "0  80074aa43     news4vip                まともに相手されてない人との関係なんて\\nそんな大事にするものか？   \n",
       "1  c535f5613  livejupiter  日本人として生まれても無能な低学歴って分かったら日本人の権利剥奪して追放すべきやろ\\n甘えるな   \n",
       "2  c32c6dbb4     news4vip                       というか女声って歌での話？それとも普通の会話とかで？   \n",
       "\n",
       "   label                                      original_text  \n",
       "0      0  'まともにLINEの返信してくれないんだけど諦めなきゃダメだろ __BR__ フラれたらギク...  \n",
       "1      1  '日本人として生まれても無能な低学歴って分かったら日本人の権利剥奪して追放すべきやろ __B...  \n",
       "2      0  'というか女声って歌での話？ それとも普通の会話とかで？\\t声としての話 __BR__ 歌も...  "
      ]
     },
     "execution_count": 141,
     "metadata": {},
     "output_type": "execute_result"
    }
   ],
   "source": [
    "t"
   ]
  },
  {
   "cell_type": "markdown",
   "metadata": {},
   "source": [
    "### nofindsを検証 --  => ok"
   ]
  },
  {
   "cell_type": "code",
   "execution_count": 120,
   "metadata": {},
   "outputs": [
    {
     "data": {
      "text/plain": [
       "0    49\n",
       "1    89\n",
       "dtype: int64"
      ]
     },
     "execution_count": 120,
     "metadata": {},
     "output_type": "execute_result"
    }
   ],
   "source": [
    "train_nofinds"
   ]
  },
  {
   "cell_type": "code",
   "execution_count": 121,
   "metadata": {},
   "outputs": [
    {
     "name": "stderr",
     "output_type": "stream",
     "text": [
      "100%|██████████| 3/3 [00:24<00:00,  8.26s/it]\n"
     ]
    }
   ],
   "source": [
    "tdf = train_df.loc[[0, 49, 89]].reset_index(drop=True)\n",
    "tdf, _, _ = recover_original_text(tdf, corpus_df)"
   ]
  },
  {
   "cell_type": "code",
   "execution_count": 122,
   "metadata": {},
   "outputs": [
    {
     "data": {
      "text/html": [
       "<div>\n",
       "<style scoped>\n",
       "    .dataframe tbody tr th:only-of-type {\n",
       "        vertical-align: middle;\n",
       "    }\n",
       "\n",
       "    .dataframe tbody tr th {\n",
       "        vertical-align: top;\n",
       "    }\n",
       "\n",
       "    .dataframe thead th {\n",
       "        text-align: right;\n",
       "    }\n",
       "</style>\n",
       "<table border=\"1\" class=\"dataframe\">\n",
       "  <thead>\n",
       "    <tr style=\"text-align: right;\">\n",
       "      <th></th>\n",
       "      <th>id</th>\n",
       "      <th>source</th>\n",
       "      <th>text</th>\n",
       "      <th>label</th>\n",
       "      <th>original_text</th>\n",
       "    </tr>\n",
       "  </thead>\n",
       "  <tbody>\n",
       "    <tr>\n",
       "      <th>0</th>\n",
       "      <td>80074aa43</td>\n",
       "      <td>news4vip</td>\n",
       "      <td>まともに相手されてない人との関係なんて\\nそんな大事にするものか？</td>\n",
       "      <td>0</td>\n",
       "      <td>'まともにLINEの返信してくれないんだけど諦めなきゃダメだろ __BR__ フラれたらギク...</td>\n",
       "    </tr>\n",
       "    <tr>\n",
       "      <th>1</th>\n",
       "      <td>c32c6dbb4</td>\n",
       "      <td>news4vip</td>\n",
       "      <td>というか女声って歌での話？それとも普通の会話とかで？</td>\n",
       "      <td>0</td>\n",
       "      <td>'というか女声って歌での話？ それとも普通の会話とかで？\\t声としての話 __BR__ 歌も...</td>\n",
       "    </tr>\n",
       "    <tr>\n",
       "      <th>2</th>\n",
       "      <td>b76fd6fcc</td>\n",
       "      <td>news4vip</td>\n",
       "      <td>興味ないけど\\r\\nBLOOD+の小夜かディーヴァか\\r\\nあと女性のコスプレはルックスに・...</td>\n",
       "      <td>0</td>\n",
       "      <td>'八紘一宇に共感するファシストどもや、 __BR__ 自衛隊合憲論という詭弁を弄して改憲運動...</td>\n",
       "    </tr>\n",
       "  </tbody>\n",
       "</table>\n",
       "</div>"
      ],
      "text/plain": [
       "          id    source                                               text  \\\n",
       "0  80074aa43  news4vip                  まともに相手されてない人との関係なんて\\nそんな大事にするものか？   \n",
       "1  c32c6dbb4  news4vip                         というか女声って歌での話？それとも普通の会話とかで？   \n",
       "2  b76fd6fcc  news4vip  興味ないけど\\r\\nBLOOD+の小夜かディーヴァか\\r\\nあと女性のコスプレはルックスに・...   \n",
       "\n",
       "   label                                      original_text  \n",
       "0      0  'まともにLINEの返信してくれないんだけど諦めなきゃダメだろ __BR__ フラれたらギク...  \n",
       "1      0  'というか女声って歌での話？ それとも普通の会話とかで？\\t声としての話 __BR__ 歌も...  \n",
       "2      0  '八紘一宇に共感するファシストどもや、 __BR__ 自衛隊合憲論という詭弁を弄して改憲運動...  "
      ]
     },
     "execution_count": 122,
     "metadata": {},
     "output_type": "execute_result"
    }
   ],
   "source": [
    "tdf"
   ]
  },
  {
   "cell_type": "code",
   "execution_count": 142,
   "metadata": {},
   "outputs": [
    {
     "data": {
      "text/plain": [
       "0     2\n",
       "1     5\n",
       "2    34\n",
       "3    44\n",
       "4    95\n",
       "dtype: int64"
      ]
     },
     "execution_count": 142,
     "metadata": {},
     "output_type": "execute_result"
    }
   ],
   "source": [
    "test_nofinds"
   ]
  },
  {
   "cell_type": "code",
   "execution_count": 145,
   "metadata": {},
   "outputs": [
    {
     "name": "stderr",
     "output_type": "stream",
     "text": [
      "100%|██████████| 5/5 [03:00<00:00, 36.01s/it]\n"
     ]
    }
   ],
   "source": [
    "tdf = test_df.loc[[2, 5, 34 ,44, 95]].reset_index(drop=True)\n",
    "tdf, _, _ = recover_original_text(tdf, corpus_df)"
   ]
  },
  {
   "cell_type": "code",
   "execution_count": 155,
   "metadata": {},
   "outputs": [
    {
     "data": {
      "text/html": [
       "<div>\n",
       "<style scoped>\n",
       "    .dataframe tbody tr th:only-of-type {\n",
       "        vertical-align: middle;\n",
       "    }\n",
       "\n",
       "    .dataframe tbody tr th {\n",
       "        vertical-align: top;\n",
       "    }\n",
       "\n",
       "    .dataframe thead th {\n",
       "        text-align: right;\n",
       "    }\n",
       "</style>\n",
       "<table border=\"1\" class=\"dataframe\">\n",
       "  <thead>\n",
       "    <tr style=\"text-align: right;\">\n",
       "      <th></th>\n",
       "      <th>id</th>\n",
       "      <th>source</th>\n",
       "      <th>text</th>\n",
       "      <th>original_text</th>\n",
       "    </tr>\n",
       "  </thead>\n",
       "  <tbody>\n",
       "    <tr>\n",
       "      <th>0</th>\n",
       "      <td>004674725</td>\n",
       "      <td>livejupiter</td>\n",
       "      <td>そうなんやろなあ色々と勿体ない感じしたわ\\n終わり方と黒幕キャラは好きやったで\\n\\nちなワ...</td>\n",
       "      <td>'ウォッチメンてマーベルだっけか __BR__ 原作ファンの評価はいいらしいけど消化不良起こ...</td>\n",
       "    </tr>\n",
       "    <tr>\n",
       "      <th>1</th>\n",
       "      <td>005c3e2a1</td>\n",
       "      <td>news4vip</td>\n",
       "      <td>昔濃霧に潜む毒蛇と戦い封印した能力者たちのこと\\r\\n黒笹の黒笹蒼斗や霧蛇奇様をイメージする...</td>\n",
       "      <td>'能力名よりもキャラ設定についての感想が欲しい\\t最初に終ノ段に至った六人の能力者の一人って...</td>\n",
       "    </tr>\n",
       "    <tr>\n",
       "      <th>2</th>\n",
       "      <td>0288195ba</td>\n",
       "      <td>news4vip</td>\n",
       "      <td>男遊び人\\r\\nアルテマウェポン\\r\\nマサムネブレード\\r\\n終焉の者の巨剣</td>\n",
       "      <td>'男遊び人 __BR__ アルテマウェポン __BR__ マサムネブレード __BR__ 終...</td>\n",
       "    </tr>\n",
       "    <tr>\n",
       "      <th>3</th>\n",
       "      <td>030675435</td>\n",
       "      <td>livejupiter</td>\n",
       "      <td>ええねん。こないだバネキもっとる状態で単発でキュンでたから人生そう甘くないねんな</td>\n",
       "      <td>'わい8500円を飛ぶに捨てた模様wwwww\\tニキはつよい子や…\\tええねん。こないだバネ...</td>\n",
       "    </tr>\n",
       "    <tr>\n",
       "      <th>4</th>\n",
       "      <td>07341b31f</td>\n",
       "      <td>news4vip</td>\n",
       "      <td>え、こたえどれなん？(´゜∀゜`；)\\n酔っ払っててよく読めてない\\n\\n砂糖入ってるのは飲...</td>\n",
       "      <td>'一週間にひとり平均2リットルだと __BR__ 4人家族で1ヶ月32リットルのウーロン茶を...</td>\n",
       "    </tr>\n",
       "  </tbody>\n",
       "</table>\n",
       "</div>"
      ],
      "text/plain": [
       "          id       source                                               text  \\\n",
       "0  004674725  livejupiter  そうなんやろなあ色々と勿体ない感じしたわ\\n終わり方と黒幕キャラは好きやったで\\n\\nちなワ...   \n",
       "1  005c3e2a1     news4vip  昔濃霧に潜む毒蛇と戦い封印した能力者たちのこと\\r\\n黒笹の黒笹蒼斗や霧蛇奇様をイメージする...   \n",
       "2  0288195ba     news4vip            男遊び人\\r\\nアルテマウェポン\\r\\nマサムネブレード\\r\\n終焉の者の巨剣   \n",
       "3  030675435  livejupiter           ええねん。こないだバネキもっとる状態で単発でキュンでたから人生そう甘くないねんな   \n",
       "4  07341b31f     news4vip  え、こたえどれなん？(´゜∀゜`；)\\n酔っ払っててよく読めてない\\n\\n砂糖入ってるのは飲...   \n",
       "\n",
       "                                       original_text  \n",
       "0  'ウォッチメンてマーベルだっけか __BR__ 原作ファンの評価はいいらしいけど消化不良起こ...  \n",
       "1  '能力名よりもキャラ設定についての感想が欲しい\\t最初に終ノ段に至った六人の能力者の一人って...  \n",
       "2  '男遊び人 __BR__ アルテマウェポン __BR__ マサムネブレード __BR__ 終...  \n",
       "3  'わい8500円を飛ぶに捨てた模様wwwww\\tニキはつよい子や…\\tええねん。こないだバネ...  \n",
       "4  '一週間にひとり平均2リットルだと __BR__ 4人家族で1ヶ月32リットルのウーロン茶を...  "
      ]
     },
     "execution_count": 155,
     "metadata": {},
     "output_type": "execute_result"
    }
   ],
   "source": [
    "tdf"
   ]
  }
 ],
 "metadata": {
  "interpreter": {
   "hash": "f007669f58917ef828e563fe3b1481c9ee4c6d5364b91c467fc73ebe5072978b"
  },
  "kernelspec": {
   "display_name": "Python 3.9.6 ('.venv': poetry)",
   "language": "python",
   "name": "python3"
  },
  "language_info": {
   "codemirror_mode": {
    "name": "ipython",
    "version": 3
   },
   "file_extension": ".py",
   "mimetype": "text/x-python",
   "name": "python",
   "nbconvert_exporter": "python",
   "pygments_lexer": "ipython3",
   "version": "3.9.6"
  },
  "orig_nbformat": 4
 },
 "nbformat": 4,
 "nbformat_minor": 2
}
