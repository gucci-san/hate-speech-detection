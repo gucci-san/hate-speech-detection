{
 "cells": [
  {
   "cell_type": "markdown",
   "metadata": {},
   "source": [
    "## とりあえずデータを見ていくnotebook\n",
    "\n",
    "【このコンペの目標】\n",
    "* よくあるBERTくらいを見ないで書けるようになること\n",
    "    * mecab + bertのcl-tohokuとか --"
   ]
  },
  {
   "cell_type": "code",
   "execution_count": 1,
   "metadata": {},
   "outputs": [],
   "source": [
    "import pandas as pd\n",
    "import numpy as np\n",
    "import matplotlib.pyplot as plt\n",
    "import seaborn as sns\n",
    "\n",
    "import MeCab\n",
    "import re\n",
    "import demoji, mojimoji\n",
    "import neologdn\n",
    "\n",
    "from config import *"
   ]
  },
  {
   "cell_type": "markdown",
   "metadata": {},
   "source": [
    "### データ読み込み"
   ]
  },
  {
   "cell_type": "code",
   "execution_count": 2,
   "metadata": {},
   "outputs": [
    {
     "data": {
      "text/html": [
       "<div>\n",
       "<style scoped>\n",
       "    .dataframe tbody tr th:only-of-type {\n",
       "        vertical-align: middle;\n",
       "    }\n",
       "\n",
       "    .dataframe tbody tr th {\n",
       "        vertical-align: top;\n",
       "    }\n",
       "\n",
       "    .dataframe thead th {\n",
       "        text-align: right;\n",
       "    }\n",
       "</style>\n",
       "<table border=\"1\" class=\"dataframe\">\n",
       "  <thead>\n",
       "    <tr style=\"text-align: right;\">\n",
       "      <th></th>\n",
       "      <th>id</th>\n",
       "      <th>source</th>\n",
       "      <th>text</th>\n",
       "      <th>label</th>\n",
       "    </tr>\n",
       "  </thead>\n",
       "  <tbody>\n",
       "    <tr>\n",
       "      <th>0</th>\n",
       "      <td>80074aa43</td>\n",
       "      <td>news4vip</td>\n",
       "      <td>まともに相手されてない人との関係なんて\\nそんな大事にするものか？</td>\n",
       "      <td>0.0</td>\n",
       "    </tr>\n",
       "    <tr>\n",
       "      <th>1</th>\n",
       "      <td>6378fea6b</td>\n",
       "      <td>livejupiter</td>\n",
       "      <td>最近はアヘアヘQSマンやない？ ｲｲ!(・∀・)+1-0(・Ａ・)ｲｸﾅｲ!</td>\n",
       "      <td>0.0</td>\n",
       "    </tr>\n",
       "  </tbody>\n",
       "</table>\n",
       "</div>"
      ],
      "text/plain": [
       "          id       source                                    text  label\n",
       "0  80074aa43     news4vip       まともに相手されてない人との関係なんて\\nそんな大事にするものか？    0.0\n",
       "1  6378fea6b  livejupiter  最近はアヘアヘQSマンやない？ ｲｲ!(・∀・)+1-0(・Ａ・)ｲｸﾅｲ!    0.0"
      ]
     },
     "execution_count": 2,
     "metadata": {},
     "output_type": "execute_result"
    }
   ],
   "source": [
    "train = pd.read_csv(data_path+\"train.csv\")\n",
    "test = pd.read_csv(data_path+\"test.csv\")\n",
    "\n",
    "df = pd.concat([train, test]).reset_index(drop=True)\n",
    "df.head(2)"
   ]
  },
  {
   "cell_type": "code",
   "execution_count": 3,
   "metadata": {},
   "outputs": [
    {
     "data": {
      "text/plain": [
       "((8479, 4), (5256, 4), (3223, 3))"
      ]
     },
     "execution_count": 3,
     "metadata": {},
     "output_type": "execute_result"
    }
   ],
   "source": [
    "(df.shape, train.shape, test.shape)"
   ]
  },
  {
   "cell_type": "markdown",
   "metadata": {},
   "source": [
    "### タスク確認\n",
    "* Stratified KFold"
   ]
  },
  {
   "cell_type": "code",
   "execution_count": 4,
   "metadata": {},
   "outputs": [
    {
     "data": {
      "text/html": [
       "<div>\n",
       "<style scoped>\n",
       "    .dataframe tbody tr th:only-of-type {\n",
       "        vertical-align: middle;\n",
       "    }\n",
       "\n",
       "    .dataframe tbody tr th {\n",
       "        vertical-align: top;\n",
       "    }\n",
       "\n",
       "    .dataframe thead th {\n",
       "        text-align: right;\n",
       "    }\n",
       "</style>\n",
       "<table border=\"1\" class=\"dataframe\">\n",
       "  <thead>\n",
       "    <tr style=\"text-align: right;\">\n",
       "      <th></th>\n",
       "      <th>label</th>\n",
       "      <th>pct[%]</th>\n",
       "    </tr>\n",
       "  </thead>\n",
       "  <tbody>\n",
       "    <tr>\n",
       "      <th>0</th>\n",
       "      <td>4950</td>\n",
       "      <td>94.2</td>\n",
       "    </tr>\n",
       "    <tr>\n",
       "      <th>1</th>\n",
       "      <td>306</td>\n",
       "      <td>5.8</td>\n",
       "    </tr>\n",
       "  </tbody>\n",
       "</table>\n",
       "</div>"
      ],
      "text/plain": [
       "   label  pct[%]\n",
       "0   4950    94.2\n",
       "1    306     5.8"
      ]
     },
     "metadata": {},
     "output_type": "display_data"
    }
   ],
   "source": [
    "_t = pd.DataFrame(\n",
    "    train[label_name].value_counts()\n",
    ")\n",
    "_t[\"pct[%]\"] = np.round(train[label_name].value_counts()/train.shape[0]*100., 1)\n",
    "display(_t); del _t"
   ]
  },
  {
   "cell_type": "markdown",
   "metadata": {},
   "source": [
    "* ソースの存在比はtrain-testで大差なし"
   ]
  },
  {
   "cell_type": "code",
   "execution_count": 34,
   "metadata": {},
   "outputs": [
    {
     "data": {
      "text/html": [
       "<div>\n",
       "<style scoped>\n",
       "    .dataframe tbody tr th:only-of-type {\n",
       "        vertical-align: middle;\n",
       "    }\n",
       "\n",
       "    .dataframe tbody tr th {\n",
       "        vertical-align: top;\n",
       "    }\n",
       "\n",
       "    .dataframe thead th {\n",
       "        text-align: right;\n",
       "    }\n",
       "</style>\n",
       "<table border=\"1\" class=\"dataframe\">\n",
       "  <thead>\n",
       "    <tr style=\"text-align: right;\">\n",
       "      <th></th>\n",
       "      <th>train</th>\n",
       "      <th>test</th>\n",
       "      <th>train_pct[%]</th>\n",
       "      <th>test_pct[%]</th>\n",
       "    </tr>\n",
       "  </thead>\n",
       "  <tbody>\n",
       "    <tr>\n",
       "      <th>newsplus</th>\n",
       "      <td>1967</td>\n",
       "      <td>1245</td>\n",
       "      <td>37.4</td>\n",
       "      <td>38.6</td>\n",
       "    </tr>\n",
       "    <tr>\n",
       "      <th>news4vip</th>\n",
       "      <td>1849</td>\n",
       "      <td>1141</td>\n",
       "      <td>35.2</td>\n",
       "      <td>35.4</td>\n",
       "    </tr>\n",
       "    <tr>\n",
       "      <th>livejupiter</th>\n",
       "      <td>1440</td>\n",
       "      <td>837</td>\n",
       "      <td>27.4</td>\n",
       "      <td>26.0</td>\n",
       "    </tr>\n",
       "  </tbody>\n",
       "</table>\n",
       "</div>"
      ],
      "text/plain": [
       "             train  test  train_pct[%]  test_pct[%]\n",
       "newsplus      1967  1245          37.4         38.6\n",
       "news4vip      1849  1141          35.2         35.4\n",
       "livejupiter   1440   837          27.4         26.0"
      ]
     },
     "execution_count": 34,
     "metadata": {},
     "output_type": "execute_result"
    }
   ],
   "source": [
    "source_df = pd.DataFrame(train[\"source\"].value_counts()).rename(columns={\"source\": \"train\"})\n",
    "source_df[\"test\"] = test[\"source\"].value_counts()\n",
    "source_df[\"train_pct[%]\"] = np.round(source_df[\"train\"]/source_df[\"train\"].sum()*100., 1)\n",
    "source_df[\"test_pct[%]\"] = np.round(source_df[\"test\"]/source_df[\"test\"].sum()*100., 1)\n",
    "source_df"
   ]
  },
  {
   "cell_type": "markdown",
   "metadata": {},
   "source": [
    "## textを正規化"
   ]
  },
  {
   "cell_type": "code",
   "execution_count": 6,
   "metadata": {},
   "outputs": [],
   "source": [
    "def clean_text(text: str) -> str:\n",
    "    \"\"\"\n",
    "    日本語から記号とかを削除\n",
    "    タスク・与えられたデータによって適宜見ながらやるしかなさそう\n",
    "    絵文字が鬼門という印象あり --\n",
    "\n",
    "    <参考>\n",
    "    * https://note.com/narudesu/n/na35de30a583a\n",
    "    \n",
    "    \"\"\"\n",
    "    # 改行コード削除 --\n",
    "    text = text.replace(\"\\n\", \"\").replace(\"\\r\", \"\")\n",
    "\n",
    "    # 半角-全角の正規化 --\n",
    "    text = neologdn.normalize(text)\n",
    "\n",
    "    # URL削除 --\n",
    "    text = re.sub(r'http?://[\\w/:%#\\$&\\?\\(\\)~\\.=\\+\\-]+', '', text)\n",
    "    text = re.sub(r'https?://[\\w/:%#\\$&\\?\\(\\)~\\.=\\+\\-]+', '', text)    \n",
    "\n",
    "    # 絵文字の削除 --\n",
    "    text = demoji.replace(string=text, repl=\"\")\n",
    "\n",
    "    # 記号系の削除(半角, 全角) --\n",
    "    text = re.sub(r'[!\"#$%&\\'\\\\\\\\()*+,-./:;<=>?@[\\\\]^_`{|}~「」〔〕“”〈〉『』【】＆＊・（）＄＃＠。、？！｀＋￥％]', '', text)\n",
    "    text = re.sub(\"[\\uFF01-\\uFF0F\\uFF1A-\\uFF20\\uFF3B-\\uFF40\\uFF5B-\\uFF65\\u3000-\\u303F]\", '', text)\n",
    "\n",
    "    return text"
   ]
  },
  {
   "cell_type": "code",
   "execution_count": 7,
   "metadata": {},
   "outputs": [],
   "source": [
    "df[\"clean_text\"] = df[\"text\"].map(lambda x: clean_text(x))"
   ]
  },
  {
   "cell_type": "markdown",
   "metadata": {},
   "source": [
    "## 8000なら全数調査できそう\n",
    "(感想)\n",
    "* demojiは思ったほど絵文字をシバけない\n",
    "* "
   ]
  },
  {
   "cell_type": "code",
   "execution_count": 44,
   "metadata": {},
   "outputs": [
    {
     "data": {
      "text/html": [
       "<div>\n",
       "<style scoped>\n",
       "    .dataframe tbody tr th:only-of-type {\n",
       "        vertical-align: middle;\n",
       "    }\n",
       "\n",
       "    .dataframe tbody tr th {\n",
       "        vertical-align: top;\n",
       "    }\n",
       "\n",
       "    .dataframe thead th {\n",
       "        text-align: right;\n",
       "    }\n",
       "</style>\n",
       "<table border=\"1\" class=\"dataframe\">\n",
       "  <thead>\n",
       "    <tr style=\"text-align: right;\">\n",
       "      <th></th>\n",
       "      <th>source</th>\n",
       "      <th>label</th>\n",
       "      <th>clean_text</th>\n",
       "    </tr>\n",
       "  </thead>\n",
       "  <tbody>\n",
       "    <tr>\n",
       "      <th>0</th>\n",
       "      <td>news4vip</td>\n",
       "      <td>0.0</td>\n",
       "      <td>まともに相手されてない人との関係なんてそんな大事にするものか?</td>\n",
       "    </tr>\n",
       "    <tr>\n",
       "      <th>1</th>\n",
       "      <td>livejupiter</td>\n",
       "      <td>0.0</td>\n",
       "      <td>最近はアヘアヘQSマンやない? イイ!(・∀・)+1-0(・A・)イクナイ!</td>\n",
       "    </tr>\n",
       "    <tr>\n",
       "      <th>2</th>\n",
       "      <td>livejupiter</td>\n",
       "      <td>1.0</td>\n",
       "      <td>日本人として生まれても無能な低学歴って分かったら日本人の権利剥奪して追放すべきやろ甘えるな</td>\n",
       "    </tr>\n",
       "    <tr>\n",
       "      <th>3</th>\n",
       "      <td>livejupiter</td>\n",
       "      <td>0.0</td>\n",
       "      <td>よくよく思えば川上は配布にしたらとんでもなく有能だよなガチャから引いたら圧倒的歓喜レベルやで</td>\n",
       "    </tr>\n",
       "    <tr>\n",
       "      <th>4</th>\n",
       "      <td>newsplus</td>\n",
       "      <td>0.0</td>\n",
       "      <td>押井は原作レイプの専門家だから原作マンガの真意を誤解させることに関してはプロだがそれ以外には...</td>\n",
       "    </tr>\n",
       "    <tr>\n",
       "      <th>...</th>\n",
       "      <td>...</td>\n",
       "      <td>...</td>\n",
       "      <td>...</td>\n",
       "    </tr>\n",
       "    <tr>\n",
       "      <th>8474</th>\n",
       "      <td>news4vip</td>\n",
       "      <td>NaN</td>\n",
       "      <td>1人がいいのか?なんで変なのと同棲したのか…なにがしたいんだ…</td>\n",
       "    </tr>\n",
       "    <tr>\n",
       "      <th>8475</th>\n",
       "      <td>newsplus</td>\n",
       "      <td>NaN</td>\n",
       "      <td>ロシアもだなあ元北朝鮮はロシアの工作で作られた国だから</td>\n",
       "    </tr>\n",
       "    <tr>\n",
       "      <th>8476</th>\n",
       "      <td>newsplus</td>\n",
       "      <td>NaN</td>\n",
       "      <td>クネが国境に拡声器を設置して昼も夜も北の悪口鳴らしてんだとよお互い当たらないように大砲撃ち合...</td>\n",
       "    </tr>\n",
       "    <tr>\n",
       "      <th>8477</th>\n",
       "      <td>news4vip</td>\n",
       "      <td>NaN</td>\n",
       "      <td>当然って言い方が腹立つんだよなあその時点で何か男より優位に立ちたいみたいな感じがしてくるんだ...</td>\n",
       "    </tr>\n",
       "    <tr>\n",
       "      <th>8478</th>\n",
       "      <td>newsplus</td>\n",
       "      <td>NaN</td>\n",
       "      <td>議員辞職したわけじゃないから無所属でどこかの会派に入ればいいだけなんじゃないの?</td>\n",
       "    </tr>\n",
       "  </tbody>\n",
       "</table>\n",
       "<p>8479 rows × 3 columns</p>\n",
       "</div>"
      ],
      "text/plain": [
       "           source  label                                         clean_text\n",
       "0        news4vip    0.0                    まともに相手されてない人との関係なんてそんな大事にするものか?\n",
       "1     livejupiter    0.0             最近はアヘアヘQSマンやない? イイ!(・∀・)+1-0(・A・)イクナイ!\n",
       "2     livejupiter    1.0      日本人として生まれても無能な低学歴って分かったら日本人の権利剥奪して追放すべきやろ甘えるな\n",
       "3     livejupiter    0.0     よくよく思えば川上は配布にしたらとんでもなく有能だよなガチャから引いたら圧倒的歓喜レベルやで\n",
       "4        newsplus    0.0  押井は原作レイプの専門家だから原作マンガの真意を誤解させることに関してはプロだがそれ以外には...\n",
       "...           ...    ...                                                ...\n",
       "8474     news4vip    NaN                    1人がいいのか?なんで変なのと同棲したのか…なにがしたいんだ…\n",
       "8475     newsplus    NaN                        ロシアもだなあ元北朝鮮はロシアの工作で作られた国だから\n",
       "8476     newsplus    NaN  クネが国境に拡声器を設置して昼も夜も北の悪口鳴らしてんだとよお互い当たらないように大砲撃ち合...\n",
       "8477     news4vip    NaN  当然って言い方が腹立つんだよなあその時点で何か男より優位に立ちたいみたいな感じがしてくるんだ...\n",
       "8478     newsplus    NaN           議員辞職したわけじゃないから無所属でどこかの会派に入ればいいだけなんじゃないの?\n",
       "\n",
       "[8479 rows x 3 columns]"
      ]
     },
     "metadata": {},
     "output_type": "display_data"
    }
   ],
   "source": [
    "pd.set_option(\"display.max_rows\", 200)\n",
    "display(df.loc[:, [\"source\", \"label\", \"clean_text\"]])"
   ]
  },
  {
   "cell_type": "code",
   "execution_count": 47,
   "metadata": {},
   "outputs": [],
   "source": [
    "#df[[\"source\", \"label\", \"clean_text\"]].to_csv(\"./tmp_cleaned_text.csv\", encoding=\"utf_8_sig\", index=False)"
   ]
  },
  {
   "cell_type": "code",
   "execution_count": 9,
   "metadata": {},
   "outputs": [],
   "source": [
    "# 文字数のカウント --\n",
    "df[\"count_char\"] = df[\"clean_text\"].map(lambda x: len(x))"
   ]
  },
  {
   "cell_type": "code",
   "execution_count": 24,
   "metadata": {},
   "outputs": [
    {
     "data": {
      "text/plain": [
       "Text(0.5, 1.0, 'Num of Charactor Histgram with legend-(Normal(0), Hate(1))')"
      ]
     },
     "execution_count": 24,
     "metadata": {},
     "output_type": "execute_result"
    },
    {
     "data": {
      "image/png": "[encoded data removed]",
      "text/plain": [
       "<Figure size 1200x500 with 1 Axes>"
      ]
     },
     "metadata": {},
     "output_type": "display_data"
    }
   ],
   "source": [
    "fig, ax = plt.subplots(1, 1, figsize=(12, 5))\n",
    "sns.histplot(\n",
    "    x=\"count_char\", hue=label_name, data=df.loc[:train.shape[0], :],\n",
    "    linewidth=1.2, palette=pal[::-1], kde=True, fill=True, bins=30,\n",
    ")\n",
    "ax.set_title(\"Num of Charactor Histgram with legend-(Normal(0), Hate(1))\", fontsize=20)"
   ]
  },
  {
   "cell_type": "code",
   "execution_count": 41,
   "metadata": {},
   "outputs": [
    {
     "data": {
      "text/html": [
       "<div>\n",
       "<style scoped>\n",
       "    .dataframe tbody tr th:only-of-type {\n",
       "        vertical-align: middle;\n",
       "    }\n",
       "\n",
       "    .dataframe tbody tr th {\n",
       "        vertical-align: top;\n",
       "    }\n",
       "\n",
       "    .dataframe thead th {\n",
       "        text-align: right;\n",
       "    }\n",
       "</style>\n",
       "<table border=\"1\" class=\"dataframe\">\n",
       "  <thead>\n",
       "    <tr style=\"text-align: right;\">\n",
       "      <th></th>\n",
       "      <th>id</th>\n",
       "      <th>source</th>\n",
       "      <th>text</th>\n",
       "      <th>label</th>\n",
       "      <th>clean_text</th>\n",
       "      <th>count_char</th>\n",
       "    </tr>\n",
       "  </thead>\n",
       "  <tbody>\n",
       "    <tr>\n",
       "      <th>3836</th>\n",
       "      <td>a459d3a34</td>\n",
       "      <td>livejupiter</td>\n",
       "      <td>学歴別ガチャ引いて出てきた新卒に正社員養成プログラム受けさせるのが一番、採用教育コスト安く上...</td>\n",
       "      <td>0.0</td>\n",
       "      <td>学歴別ガチャ引いて出てきた新卒に正社員養成プログラム受けさせるのが一番採用教育コスト安く上が...</td>\n",
       "      <td>134</td>\n",
       "    </tr>\n",
       "    <tr>\n",
       "      <th>5479</th>\n",
       "      <td>123b58842</td>\n",
       "      <td>newsplus</td>\n",
       "      <td>中韓への謝罪はなかったけど日本がハルノートを受け入れたんじゃない事を祈る\\nイギリスみたいな...</td>\n",
       "      <td>NaN</td>\n",
       "      <td>中韓への謝罪はなかったけど日本がハルノートを受け入れたんじゃない事を祈るイギリスみたいな二枚...</td>\n",
       "      <td>133</td>\n",
       "    </tr>\n",
       "    <tr>\n",
       "      <th>8162</th>\n",
       "      <td>e64d4b467</td>\n",
       "      <td>newsplus</td>\n",
       "      <td>偏狭なイスラム原理主義に対する抗議の姿勢というなら、何も信仰の対象を貶める風刺画を大衆紙面表...</td>\n",
       "      <td>NaN</td>\n",
       "      <td>偏狭なイスラム原理主義に対する抗議の姿勢というなら何も信仰の対象を貶める風刺画を大衆紙面表紙...</td>\n",
       "      <td>131</td>\n",
       "    </tr>\n",
       "    <tr>\n",
       "      <th>1627</th>\n",
       "      <td>1216a9092</td>\n",
       "      <td>newsplus</td>\n",
       "      <td>個人的には、もっと細かいレベルのインシデントまでひたすら公開しつつインシデントのレベルについ...</td>\n",
       "      <td>0.0</td>\n",
       "      <td>個人的にはもっと細かいレベルのインシデントまでひたすら公開しつつインシデントのレベルについて...</td>\n",
       "      <td>129</td>\n",
       "    </tr>\n",
       "    <tr>\n",
       "      <th>8292</th>\n",
       "      <td>efaa43ef6</td>\n",
       "      <td>livejupiter</td>\n",
       "      <td>調べてきたんやがフェミニズムって「性差別を廃止し、抑圧されていた女性の権利を拡張しようとする...</td>\n",
       "      <td>NaN</td>\n",
       "      <td>調べてきたんやがフェミニズムって性差別を廃止し抑圧されていた女性の権利を拡張しようとする思想...</td>\n",
       "      <td>129</td>\n",
       "    </tr>\n",
       "    <tr>\n",
       "      <th>6452</th>\n",
       "      <td>5f2074aee</td>\n",
       "      <td>livejupiter</td>\n",
       "      <td>いわゆる日常系のファンタジーものやけど、世界観やキャラなんかの作り込みが奥深いからキャラたち...</td>\n",
       "      <td>NaN</td>\n",
       "      <td>いわゆる日常系のファンタジーものやけど世界観やキャラなんかの作り込みが奥深いからキャラたちが...</td>\n",
       "      <td>128</td>\n",
       "    </tr>\n",
       "    <tr>\n",
       "      <th>2319</th>\n",
       "      <td>fc5c47587</td>\n",
       "      <td>news4vip</td>\n",
       "      <td>お互いにお互いが言いたいことを素直に言える（いい方には配慮するが）ような関係がベストなんだよ...</td>\n",
       "      <td>0.0</td>\n",
       "      <td>お互いにお互いが言いたいことを素直に言える(いい方には配慮するが)ような関係がベストなんだよ...</td>\n",
       "      <td>128</td>\n",
       "    </tr>\n",
       "    <tr>\n",
       "      <th>5999</th>\n",
       "      <td>3ad662a09</td>\n",
       "      <td>newsplus</td>\n",
       "      <td>イスラムに差別的なキリスト国家のフランスが嫌ならイスラム諸国に帰れば良いんだよ。\\n自分から...</td>\n",
       "      <td>NaN</td>\n",
       "      <td>イスラムに差別的なキリスト国家のフランスが嫌ならイスラム諸国に帰れば良いんだよ自分からキリス...</td>\n",
       "      <td>126</td>\n",
       "    </tr>\n",
       "    <tr>\n",
       "      <th>5035</th>\n",
       "      <td>296f45c72</td>\n",
       "      <td>newsplus</td>\n",
       "      <td>まぁ、時代を遡ればクジラもイルカも日本の食文化なんだろうが、今の時代本当に必要とされているか...</td>\n",
       "      <td>0.0</td>\n",
       "      <td>まぁ時代を遡ればクジラもイルカも日本の食文化なんだろうが今の時代本当に必要とされているかまた...</td>\n",
       "      <td>125</td>\n",
       "    </tr>\n",
       "    <tr>\n",
       "      <th>2836</th>\n",
       "      <td>ff1d7c0ba</td>\n",
       "      <td>livejupiter</td>\n",
       "      <td>これはガイジ\\nコーカソイドが肌白いのは日射時間の短い寒冷地でビタミンDを作るために効率良く...</td>\n",
       "      <td>0.0</td>\n",
       "      <td>これはガイジコーカソイドが肌白いのは日射時間の短い寒冷地でビタミンDを作るために効率良く日光...</td>\n",
       "      <td>125</td>\n",
       "    </tr>\n",
       "  </tbody>\n",
       "</table>\n",
       "</div>"
      ],
      "text/plain": [
       "             id       source  \\\n",
       "3836  a459d3a34  livejupiter   \n",
       "5479  123b58842     newsplus   \n",
       "8162  e64d4b467     newsplus   \n",
       "1627  1216a9092     newsplus   \n",
       "8292  efaa43ef6  livejupiter   \n",
       "6452  5f2074aee  livejupiter   \n",
       "2319  fc5c47587     news4vip   \n",
       "5999  3ad662a09     newsplus   \n",
       "5035  296f45c72     newsplus   \n",
       "2836  ff1d7c0ba  livejupiter   \n",
       "\n",
       "                                                   text  label  \\\n",
       "3836  学歴別ガチャ引いて出てきた新卒に正社員養成プログラム受けさせるのが一番、採用教育コスト安く上...    0.0   \n",
       "5479  中韓への謝罪はなかったけど日本がハルノートを受け入れたんじゃない事を祈る\\nイギリスみたいな...    NaN   \n",
       "8162  偏狭なイスラム原理主義に対する抗議の姿勢というなら、何も信仰の対象を貶める風刺画を大衆紙面表...    NaN   \n",
       "1627  個人的には、もっと細かいレベルのインシデントまでひたすら公開しつつインシデントのレベルについ...    0.0   \n",
       "8292  調べてきたんやがフェミニズムって「性差別を廃止し、抑圧されていた女性の権利を拡張しようとする...    NaN   \n",
       "6452  いわゆる日常系のファンタジーものやけど、世界観やキャラなんかの作り込みが奥深いからキャラたち...    NaN   \n",
       "2319  お互いにお互いが言いたいことを素直に言える（いい方には配慮するが）ような関係がベストなんだよ...    0.0   \n",
       "5999  イスラムに差別的なキリスト国家のフランスが嫌ならイスラム諸国に帰れば良いんだよ。\\n自分から...    NaN   \n",
       "5035  まぁ、時代を遡ればクジラもイルカも日本の食文化なんだろうが、今の時代本当に必要とされているか...    0.0   \n",
       "2836  これはガイジ\\nコーカソイドが肌白いのは日射時間の短い寒冷地でビタミンDを作るために効率良く...    0.0   \n",
       "\n",
       "                                             clean_text  count_char  \n",
       "3836  学歴別ガチャ引いて出てきた新卒に正社員養成プログラム受けさせるのが一番採用教育コスト安く上が...         134  \n",
       "5479  中韓への謝罪はなかったけど日本がハルノートを受け入れたんじゃない事を祈るイギリスみたいな二枚...         133  \n",
       "8162  偏狭なイスラム原理主義に対する抗議の姿勢というなら何も信仰の対象を貶める風刺画を大衆紙面表紙...         131  \n",
       "1627  個人的にはもっと細かいレベルのインシデントまでひたすら公開しつつインシデントのレベルについて...         129  \n",
       "8292  調べてきたんやがフェミニズムって性差別を廃止し抑圧されていた女性の権利を拡張しようとする思想...         129  \n",
       "6452  いわゆる日常系のファンタジーものやけど世界観やキャラなんかの作り込みが奥深いからキャラたちが...         128  \n",
       "2319  お互いにお互いが言いたいことを素直に言える(いい方には配慮するが)ような関係がベストなんだよ...         128  \n",
       "5999  イスラムに差別的なキリスト国家のフランスが嫌ならイスラム諸国に帰れば良いんだよ自分からキリス...         126  \n",
       "5035  まぁ時代を遡ればクジラもイルカも日本の食文化なんだろうが今の時代本当に必要とされているかまた...         125  \n",
       "2836  これはガイジコーカソイドが肌白いのは日射時間の短い寒冷地でビタミンDを作るために効率良く日光...         125  "
      ]
     },
     "execution_count": 41,
     "metadata": {},
     "output_type": "execute_result"
    }
   ],
   "source": [
    "df.loc[df[\"count_char\"].sort_values(ascending=False).head(10).index, :]"
   ]
  },
  {
   "cell_type": "code",
   "execution_count": 42,
   "metadata": {},
   "outputs": [
    {
     "data": {
      "text/plain": [
       "'学歴別ガチャ引いて出てきた新卒に正社員養成プログラム受けさせるのが一番採用教育コスト安く上がるしそこで引っかからんで派遣やっとる人の中にも優秀な人はおるかもしれんけど確率的に低いのは確かやしな採用側からしたらなんで新卒カード持っとる時に正社員ならんかったん?ってなるわ'"
      ]
     },
     "execution_count": 42,
     "metadata": {},
     "output_type": "execute_result"
    }
   ],
   "source": [
    "df.loc[3836, \"clean_text\"]"
   ]
  },
  {
   "cell_type": "code",
   "execution_count": null,
   "metadata": {},
   "outputs": [],
   "source": []
  }
 ],
 "metadata": {
  "interpreter": {
   "hash": "f007669f58917ef828e563fe3b1481c9ee4c6d5364b91c467fc73ebe5072978b"
  },
  "kernelspec": {
   "display_name": "Python 3.9.6 ('.venv': poetry)",
   "language": "python",
   "name": "python3"
  },
  "language_info": {
   "codemirror_mode": {
    "name": "ipython",
    "version": 3
   },
   "file_extension": ".py",
   "mimetype": "text/x-python",
   "name": "python",
   "nbconvert_exporter": "python",
   "pygments_lexer": "ipython3",
   "version": "3.9.6"
  },
  "orig_nbformat": 4
 },
 "nbformat": 4,
 "nbformat_minor": 2
}
