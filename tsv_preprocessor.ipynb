{
 "cells": [
  {
   "cell_type": "markdown",
   "metadata": {},
   "source": [
    "## おーぷん2ちゃんねるコーパスのデータを前処理していくnotebook"
   ]
  },
  {
   "cell_type": "code",
   "execution_count": 43,
   "metadata": {},
   "outputs": [],
   "source": [
    "import pandas as pd\n",
    "import numpy as np\n",
    "\n",
    "from glob import glob\n",
    "from config import *"
   ]
  },
  {
   "cell_type": "code",
   "execution_count": 44,
   "metadata": {},
   "outputs": [],
   "source": [
    "def tsv_text_cleaner(text: str) -> str:\n",
    "    t = text.replace(\"__BR__\", \"\").replace(\" \", \"\").replace(\"　\", \"\")\n",
    "    return t.split(\"\\t\")"
   ]
  },
  {
   "cell_type": "code",
   "execution_count": 45,
   "metadata": {},
   "outputs": [],
   "source": [
    "tsv_path_list = glob(data_path+\"corpus/*\")"
   ]
  },
  {
   "cell_type": "code",
   "execution_count": 51,
   "metadata": {},
   "outputs": [],
   "source": [
    "df = []\n",
    "tsv_line_list = []\n",
    "for i in range(0, len(tsv_path_list)):\n",
    "    with open(tsv_path_list[i], encoding=\"utf-8\") as f:\n",
    "        for l in f:\n",
    "            tsv_line_list += tsv_text_cleaner(l)\n",
    "    tdf = pd.DataFrame({\n",
    "        \"raw_text\": tsv_line_list,\n",
    "        \"source\": [tsv_path_list[i].split(\"/\")[-1].split(\".\")[0]]*len(tsv_line_list)\n",
    "    })\n",
    "    df.append(tdf)\n",
    "df = pd.concat(df)"
   ]
  },
  {
   "cell_type": "code",
   "execution_count": 52,
   "metadata": {},
   "outputs": [],
   "source": []
  },
  {
   "cell_type": "code",
   "execution_count": 53,
   "metadata": {},
   "outputs": [
    {
     "data": {
      "text/html": [
       "<div>\n",
       "<style scoped>\n",
       "    .dataframe tbody tr th:only-of-type {\n",
       "        vertical-align: middle;\n",
       "    }\n",
       "\n",
       "    .dataframe tbody tr th {\n",
       "        vertical-align: top;\n",
       "    }\n",
       "\n",
       "    .dataframe thead th {\n",
       "        text-align: right;\n",
       "    }\n",
       "</style>\n",
       "<table border=\"1\" class=\"dataframe\">\n",
       "  <thead>\n",
       "    <tr style=\"text-align: right;\">\n",
       "      <th></th>\n",
       "      <th>raw_text</th>\n",
       "      <th>source</th>\n",
       "    </tr>\n",
       "  </thead>\n",
       "  <tbody>\n",
       "    <tr>\n",
       "      <th>0</th>\n",
       "      <td>八紘一宇に共感するファシストどもや、自衛隊合憲論という詭弁を弄して改憲運動を潰し、支那朝鮮を...</td>\n",
       "      <td>newsplus</td>\n",
       "    </tr>\n",
       "    <tr>\n",
       "      <th>1</th>\n",
       "      <td>多分、そっちの方が奴等も幸せだったんじゃないか？\\n</td>\n",
       "      <td>newsplus</td>\n",
       "    </tr>\n",
       "    <tr>\n",
       "      <th>2</th>\n",
       "      <td>繁栄の日帝時代があったからヘルって気づいてしまっただけで朝鮮はこれが平壌運転だろ今更何言ってんだか</td>\n",
       "      <td>newsplus</td>\n",
       "    </tr>\n",
       "    <tr>\n",
       "      <th>3</th>\n",
       "      <td>だから日本を恨んでるんだろうな、人らしい暮らしを知らなきゃ奴等も幸せだったのに、日本が併合な...</td>\n",
       "      <td>newsplus</td>\n",
       "    </tr>\n",
       "    <tr>\n",
       "      <th>4</th>\n",
       "      <td>韓国のコネクションは、日本にある。日本のコネクションが利用できた者が勝ち組だ。韓国のコネクシ...</td>\n",
       "      <td>newsplus</td>\n",
       "    </tr>\n",
       "    <tr>\n",
       "      <th>...</th>\n",
       "      <td>...</td>\n",
       "      <td>...</td>\n",
       "    </tr>\n",
       "    <tr>\n",
       "      <th>18589854</th>\n",
       "      <td>なにィ？！矛盾であるというのを直接な意味で表さないのも高評価だが、そのうえシャレになっている...</td>\n",
       "      <td>news4vip</td>\n",
       "    </tr>\n",
       "    <tr>\n",
       "      <th>18589855</th>\n",
       "      <td>ふぇぇかぶってたぁごめーん</td>\n",
       "      <td>news4vip</td>\n",
       "    </tr>\n",
       "    <tr>\n",
       "      <th>18589856</th>\n",
       "      <td>幼女たんなら許す\\n</td>\n",
       "      <td>news4vip</td>\n",
       "    </tr>\n",
       "    <tr>\n",
       "      <th>18589857</th>\n",
       "      <td>肛門ホジホジボーイ（両腕欠損）</td>\n",
       "      <td>news4vip</td>\n",
       "    </tr>\n",
       "    <tr>\n",
       "      <th>18589858</th>\n",
       "      <td>意味わからないぞ詳しく\\n</td>\n",
       "      <td>news4vip</td>\n",
       "    </tr>\n",
       "  </tbody>\n",
       "</table>\n",
       "<p>32850158 rows × 2 columns</p>\n",
       "</div>"
      ],
      "text/plain": [
       "                                                   raw_text    source\n",
       "0         八紘一宇に共感するファシストどもや、自衛隊合憲論という詭弁を弄して改憲運動を潰し、支那朝鮮を...  newsplus\n",
       "1                                多分、そっちの方が奴等も幸せだったんじゃないか？\\n  newsplus\n",
       "2         繁栄の日帝時代があったからヘルって気づいてしまっただけで朝鮮はこれが平壌運転だろ今更何言ってんだか  newsplus\n",
       "3         だから日本を恨んでるんだろうな、人らしい暮らしを知らなきゃ奴等も幸せだったのに、日本が併合な...  newsplus\n",
       "4         韓国のコネクションは、日本にある。日本のコネクションが利用できた者が勝ち組だ。韓国のコネクシ...  newsplus\n",
       "...                                                     ...       ...\n",
       "18589854  なにィ？！矛盾であるというのを直接な意味で表さないのも高評価だが、そのうえシャレになっている...  news4vip\n",
       "18589855                                      ふぇぇかぶってたぁごめーん  news4vip\n",
       "18589856                                         幼女たんなら許す\\n  news4vip\n",
       "18589857                                    肛門ホジホジボーイ（両腕欠損）  news4vip\n",
       "18589858                                      意味わからないぞ詳しく\\n  news4vip\n",
       "\n",
       "[32850158 rows x 2 columns]"
      ]
     },
     "execution_count": 53,
     "metadata": {},
     "output_type": "execute_result"
    }
   ],
   "source": []
  },
  {
   "cell_type": "code",
   "execution_count": null,
   "metadata": {},
   "outputs": [],
   "source": []
  }
 ],
 "metadata": {
  "interpreter": {
   "hash": "f007669f58917ef828e563fe3b1481c9ee4c6d5364b91c467fc73ebe5072978b"
  },
  "kernelspec": {
   "display_name": "Python 3.9.6 ('.venv': poetry)",
   "language": "python",
   "name": "python3"
  },
  "language_info": {
   "codemirror_mode": {
    "name": "ipython",
    "version": 3
   },
   "file_extension": ".py",
   "mimetype": "text/x-python",
   "name": "python",
   "nbconvert_exporter": "python",
   "pygments_lexer": "ipython3",
   "version": "3.9.6"
  },
  "orig_nbformat": 4
 },
 "nbformat": 4,
 "nbformat_minor": 2
}
