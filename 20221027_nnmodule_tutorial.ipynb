{
 "cells": [
  {
   "cell_type": "markdown",
   "metadata": {},
   "source": [
    "### モデルの実装のところをもっときれいに書きたいためのnotebook"
   ]
  },
  {
   "cell_type": "code",
   "execution_count": 6,
   "metadata": {},
   "outputs": [],
   "source": [
    "import torch\n",
    "import torch.nn as nn\n",
    "from transformers import AutoModel, T5Tokenizer\n",
    "from torchinfo import summary\n",
    "\n",
    "model_name = \"rinna/japanese-roberta-base\"\n",
    "input_size = (32, 128)\n",
    "dtypes = [torch.int, torch.long]\n",
    "\n",
    "tokenizer = T5Tokenizer.from_pretrained(model_name)\n",
    "token = tokenizer.encode_plus(\"例えば君がいるだけで心が強くなれるよ\")\n",
    "input_ids = torch.Tensor(token[\"input_ids\"]).to(torch.long).unsqueeze(0)\n",
    "attention_mask = torch.Tensor(token[\"attention_mask\"]).to(torch.long).unsqueeze(0)"
   ]
  },
  {
   "cell_type": "code",
   "execution_count": 7,
   "metadata": {},
   "outputs": [],
   "source": [
    "from re import A\n",
    "from tokenize import Single\n",
    "from transformers import AutoConfig\n",
    "from torch.nn import functional as F\n",
    "\n",
    "\n",
    "class BertClassificationMaxPoolingHeader(nn.Module):\n",
    "    def __init__(self, hidden_size, num_classes):\n",
    "        super(BertClassificationMaxPoolingHeader, self).__init__()\n",
    "        self.hidden_size = hidden_size\n",
    "        self.num_classes = num_classes\n",
    "        # max pooling --\n",
    "        self.fc = nn.Linear(self.hidden_size, self.num_classes)\n",
    "\n",
    "    def forward(self, base_output):\n",
    "        out = base_output[\"hidden_states\"][-1].max(axis=1)[0]\n",
    "        out = self.fc(out)\n",
    "        return out\n",
    "\n",
    "\n",
    "class BertClassificationConvolutionHeader(nn.Module):\n",
    "    def __init__(self, hidden_size, num_classes):\n",
    "        super(BertClassificationConvolutionHeader, self).__init__()\n",
    "        self.hidden_size = hidden_size\n",
    "        self.num_classes = num_classes\n",
    "        # conv1d --\n",
    "        self.cnn1 = nn.Conv1d(self.hidden_size, 256, kernel_size=2, padding=1)\n",
    "        self.cnn2 = nn.Conv1d(256, self.num_classes, kernel_size=2, padding=1)\n",
    "\n",
    "    def forward(self, base_output):\n",
    "        last_hidden_state = base_output[\"hidden_states\"][-1].permute(0, 2, 1)\n",
    "        cnn_embeddings = F.relu(self.cnn1(last_hidden_state))\n",
    "        cnn_embeddings = self.cnn2(cnn_embeddings)\n",
    "        outputs = cnn_embeddings.max(axis=2)[0]\n",
    "        return outputs\n",
    "\n",
    "\n",
    "class BertClassificationLSTMHeader(nn.Module):\n",
    "    def __init__(self, hidden_size, num_classes):\n",
    "        super(BertClassificationLSTMHeader, self).__init__()\n",
    "        self.hidden_size = hidden_size\n",
    "        self.num_classes = num_classes\n",
    "        # lstm --\n",
    "        self.lstm = nn.LSTM(self.hidden_size, self.hidden_size, batch_first=True)\n",
    "        self.fc = nn.Linear(self.hidden_size, self.num_classes)\n",
    "\n",
    "    def forward(self, base_output):\n",
    "        last_hidden_state = base_output[\"hidden_states\"][-1]\n",
    "        out = self.lstm(last_hidden_state, None)[0]\n",
    "        out = out[:, -1, :]  # lstmの時間方向の最終層を抜く, [batch_size, hidden_size] --\n",
    "        outputs = self.fc(out)\n",
    "        return outputs\n",
    "\n",
    "\n",
    "class BertClassificationConcatenateHeader(nn.Module):\n",
    "    def __init__(self, hidden_size, num_classes, use_layer_num=4):\n",
    "        super(BertClassificationConcatenateHeader, self).__init__()\n",
    "        self.hidden_size = hidden_size\n",
    "        self.num_classes = num_classes\n",
    "        self.use_layer_num = use_layer_num\n",
    "\n",
    "        # concatenate --\n",
    "        self.fc = nn.Linear(self.hidden_size*self.use_layer_num, self.num_classes)\n",
    "        print(self.fc)\n",
    "\n",
    "    def forward(self, base_output):\n",
    "        out = torch.cat([base_output[\"hidden_states\"][-1 * i][:, 0, :] for i in range(1, 4 + 1)], dim=1)\n",
    "        outputs = self.fc(out)\n",
    "        return outputs\n",
    "\n",
    "class BertClassificationModel(nn.Module):\n",
    "    def __init__(self, model_name, mode=\"max_pooling\"):\n",
    "        super(BertClassificationModel, self).__init__()\n",
    "        self.cfg = AutoConfig.from_pretrained(\n",
    "            model_name, output_attentions=True, output_hidden_states=True\n",
    "        )\n",
    "        self.l1 = AutoModel.from_pretrained(model_name)\n",
    "        \n",
    "        if mode==\"max_pooling\":\n",
    "            self.l2 = BertClassificationMaxPoolingHeader(self.cfg.hidden_size, 2)\n",
    "        elif mode==\"conv\":\n",
    "            self.l2 = BertClassificationConvolutionHeader(self.cfg.hidden_size, 2)\n",
    "        elif mode==\"lstm\":\n",
    "            self.l2 = BertClassificationLSTMHeader(self.cfg.hidden_size, 2)\n",
    "        elif mode==\"concatenate\":\n",
    "            self.l2 = BertClassificationConcatenateHeader(self.cfg.hidden_size, 2, use_layer_num=4)\n",
    "        else:\n",
    "            assert False\n",
    "\n",
    "\n",
    "    def forward(self, input_ids, attention_mask):\n",
    "        out = self.l1(\n",
    "            input_ids=input_ids,\n",
    "            attention_mask=attention_mask,\n",
    "            output_hidden_states=True\n",
    "            )\n",
    "        out = self.l2(out)\n",
    "        return out\n"
   ]
  },
  {
   "cell_type": "markdown",
   "metadata": {},
   "source": [
    "### 一つのモデルの中で配置"
   ]
  },
  {
   "cell_type": "code",
   "execution_count": 8,
   "metadata": {},
   "outputs": [],
   "source": []
  },
  {
   "cell_type": "code",
   "execution_count": 9,
   "metadata": {},
   "outputs": [
    {
     "name": "stderr",
     "output_type": "stream",
     "text": [
      "Some weights of the model checkpoint at rinna/japanese-roberta-base were not used when initializing RobertaModel: ['lm_head.layer_norm.weight', 'lm_head.decoder.bias', 'lm_head.bias', 'lm_head.decoder.weight', 'lm_head.layer_norm.bias', 'lm_head.dense.bias', 'lm_head.dense.weight']\n",
      "- This IS expected if you are initializing RobertaModel from the checkpoint of a model trained on another task or with another architecture (e.g. initializing a BertForSequenceClassification model from a BertForPreTraining model).\n",
      "- This IS NOT expected if you are initializing RobertaModel from the checkpoint of a model that you expect to be exactly identical (initializing a BertForSequenceClassification model from a BertForSequenceClassification model).\n",
      "Some weights of RobertaModel were not initialized from the model checkpoint at rinna/japanese-roberta-base and are newly initialized: ['roberta.pooler.dense.weight', 'roberta.pooler.dense.bias']\n",
      "You should probably TRAIN this model on a down-stream task to be able to use it for predictions and inference.\n"
     ]
    },
    {
     "name": "stdout",
     "output_type": "stream",
     "text": [
      "Linear(in_features=3072, out_features=2, bias=True)\n"
     ]
    }
   ],
   "source": [
    "m3 = BertClassificationModel(model_name, mode=\"concatenate\")"
   ]
  },
  {
   "cell_type": "code",
   "execution_count": 10,
   "metadata": {},
   "outputs": [],
   "source": [
    "out = m3(input_ids=input_ids, attention_mask=attention_mask)"
   ]
  }
 ],
 "metadata": {
  "kernelspec": {
   "display_name": "Python 3.9.6 ('.venv': poetry)",
   "language": "python",
   "name": "python3"
  },
  "language_info": {
   "codemirror_mode": {
    "name": "ipython",
    "version": 3
   },
   "file_extension": ".py",
   "mimetype": "text/x-python",
   "name": "python",
   "nbconvert_exporter": "python",
   "pygments_lexer": "ipython3",
   "version": "3.9.6"
  },
  "orig_nbformat": 4,
  "vscode": {
   "interpreter": {
    "hash": "f007669f58917ef828e563fe3b1481c9ee4c6d5364b91c467fc73ebe5072978b"
   }
  }
 },
 "nbformat": 4,
 "nbformat_minor": 2
}
