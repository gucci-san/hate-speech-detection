{
 "cells": [
  {
   "cell_type": "markdown",
   "metadata": {},
   "source": [
    "## 11/05 post-analysis\n",
    "* _"
   ]
  },
  {
   "cell_type": "code",
   "execution_count": 97,
   "metadata": {},
   "outputs": [],
   "source": [
    "import pandas as pd\n",
    "import numpy as np\n",
    "\n",
    "import matplotlib.pyplot as plt\n",
    "import plotly.express as px\n",
    "import plotly.graph_objects as go\n",
    "from plotly.subplots import make_subplots"
   ]
  },
  {
   "cell_type": "markdown",
   "metadata": {},
   "source": [
    "* この辺をexperiment_log.csvから自動で引っ張ってこれるようにすると更に捗る<br>\n",
    "【課題】\n",
    "* experiment_logに乗せるべきsettingsが途中で変わる\n",
    "* experiment_logにデータのパスを乗せる　<- 乗ってるわ、output_pathがそれ"
   ]
  },
  {
   "cell_type": "code",
   "execution_count": 98,
   "metadata": {},
   "outputs": [],
   "source": [
    "paths = {\n",
    "    \"out1\": \"/mnt/sdc/NISHIKA_DATA/hate-speech-detection/output/roberta-large_mozafari_batch4_acc8_seed6/\",\n",
    "    \"out2\": \"/mnt/sdb/NISHIKA_DATA/hate-speech-detection/output/roberta-large_cat4_batch4_acc8_seed6/\",\n",
    "}\n",
    "metrics = {\n",
    "    \"out1\": (0.760, 0.711),\n",
    "    \"out2\": (0.754, 0.712),\n",
    "}"
   ]
  },
  {
   "cell_type": "code",
   "execution_count": 99,
   "metadata": {},
   "outputs": [],
   "source": [
    "dfs = dict()\n",
    "\n",
    "for k, v in paths.items():\n",
    "    t = dict()\n",
    "    t[\"all\"] = pd.concat([\n",
    "                    pd.read_feather(v+\"train_df.feather\"),\n",
    "                    pd.read_feather(v+\"test_df_None.feather\"),\n",
    "                ])\n",
    "    t[\"train\"] = pd.read_feather(v+\"train_df.feather\")\n",
    "    t[\"test\"] = pd.read_feather(v+\"test_df_None.feather\")\n",
    "    dfs[k] = t"
   ]
  },
  {
   "cell_type": "markdown",
   "metadata": {},
   "source": [
    "### (1) : cat4とmozafariで検討"
   ]
  },
  {
   "cell_type": "code",
   "execution_count": 100,
   "metadata": {},
   "outputs": [
    {
     "name": "stdout",
     "output_type": "stream",
     "text": [
      "全件数(train+test) :  8479\n",
      "うち、cat4とmozafariの予測が違った件数 :  188\n",
      "\n",
      "train件数 :  5256\n",
      "うち、cat4とmozafariの予測が違った件数 :  149\n",
      "\n",
      "test 件数 :  3223\n",
      "うち、cat4とmozafariの予測が違った件数 :  39\n"
     ]
    }
   ],
   "source": [
    "print(\"全件数(train+test) : \", dfs[\"out1\"][\"all\"].shape[0])\n",
    "print(\"うち、cat4とmozafariの予測が違った件数 : \", (dfs[\"out1\"][\"all\"].model_pred != dfs[\"out2\"][\"all\"].model_pred).sum())\n",
    "print()\n",
    "print(\"train件数 : \", dfs[\"out1\"][\"train\"].shape[0])\n",
    "print(\"うち、cat4とmozafariの予測が違った件数 : \", (dfs[\"out1\"][\"train\"].model_pred != dfs[\"out2\"][\"train\"].model_pred).sum())\n",
    "print()\n",
    "print(\"test 件数 : \", dfs[\"out1\"][\"test\"].shape[0])\n",
    "print(\"うち、cat4とmozafariの予測が違った件数 : \", (dfs[\"out1\"][\"test\"].model_pred != dfs[\"out2\"][\"test\"].model_pred).sum())"
   ]
  },
  {
   "cell_type": "markdown",
   "metadata": {},
   "source": [
    "#### とりあえずconfusion matrixを書いてみる --"
   ]
  },
  {
   "cell_type": "code",
   "execution_count": 101,
   "metadata": {},
   "outputs": [
    {
     "data": {
      "text/plain": [
       "array([[4843,  107],\n",
       "       [  92,  214]])"
      ]
     },
     "metadata": {},
     "output_type": "display_data"
    },
    {
     "name": "stdout",
     "output_type": "stream",
     "text": [
      "(0.76, 0.711)\n",
      "\n",
      "0    3017\n",
      "1     206\n",
      "Name: model_pred, dtype: int64\n"
     ]
    }
   ],
   "source": [
    "from sklearn.metrics import confusion_matrix\n",
    "\n",
    "cmat1 = confusion_matrix(dfs[\"out1\"][\"train\"].label, dfs[\"out1\"][\"train\"].model_pred)\n",
    "display(cmat1)\n",
    "print(metrics[\"out1\"])\n",
    "print()\n",
    "print(dfs[\"out1\"][\"test\"][\"model_pred\"].value_counts())"
   ]
  },
  {
   "cell_type": "code",
   "execution_count": 102,
   "metadata": {},
   "outputs": [
    {
     "data": {
      "text/plain": [
       "array([[4867,   83],\n",
       "       [  91,  215]])"
      ]
     },
     "metadata": {},
     "output_type": "display_data"
    },
    {
     "name": "stdout",
     "output_type": "stream",
     "text": [
      "(0.754, 0.712)\n",
      "0    3026\n",
      "1     197\n",
      "Name: model_pred, dtype: int64\n"
     ]
    }
   ],
   "source": [
    "cmat2 = confusion_matrix(dfs[\"out2\"][\"train\"].label, dfs[\"out2\"][\"train\"].model_pred)\n",
    "display(cmat2)\n",
    "print(metrics[\"out2\"])\n",
    "print(dfs[\"out2\"][\"test\"][\"model_pred\"].value_counts())"
   ]
  }
 ],
 "metadata": {
  "kernelspec": {
   "display_name": "Python 3.9.6 ('.venv': poetry)",
   "language": "python",
   "name": "python3"
  },
  "language_info": {
   "codemirror_mode": {
    "name": "ipython",
    "version": 3
   },
   "file_extension": ".py",
   "mimetype": "text/x-python",
   "name": "python",
   "nbconvert_exporter": "python",
   "pygments_lexer": "ipython3",
   "version": "3.9.6"
  },
  "orig_nbformat": 4,
  "vscode": {
   "interpreter": {
    "hash": "f007669f58917ef828e563fe3b1481c9ee4c6d5364b91c467fc73ebe5072978b"
   }
  }
 },
 "nbformat": 4,
 "nbformat_minor": 2
}
