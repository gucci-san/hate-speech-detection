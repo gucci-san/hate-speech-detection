{
 "cells": [
  {
   "cell_type": "markdown",
   "metadata": {},
   "source": [
    "## pytorch, モデルのパラメータを初期化することについてのnotebook"
   ]
  },
  {
   "cell_type": "code",
   "execution_count": 722,
   "metadata": {},
   "outputs": [],
   "source": [
    "import torch\n",
    "import torch.nn as nn\n",
    "\n",
    "import numpy as np\n",
    "import matplotlib.pyplot as plt\n",
    "\n",
    "from torchinfo import summary"
   ]
  },
  {
   "cell_type": "markdown",
   "metadata": {},
   "source": [
    "### サンプルモデルの定義"
   ]
  },
  {
   "cell_type": "code",
   "execution_count": 723,
   "metadata": {},
   "outputs": [],
   "source": [
    "class SampleModel(nn.Module):\n",
    "    def __init__(self):\n",
    "        super(SampleModel, self).__init__()\n",
    "\n",
    "        self.l1 = nn.Linear(4, 2)\n",
    "        self.f1 = nn.ReLU()\n",
    "        self.l2 = nn.Linear(2, 1)\n",
    "    \n",
    "    def forward(self, x):\n",
    "        out = self.l1(x)\n",
    "        out = self.f1(out)\n",
    "        out = self.l2(out)\n",
    "        return out"
   ]
  },
  {
   "cell_type": "code",
   "execution_count": 724,
   "metadata": {},
   "outputs": [],
   "source": [
    "model = SampleModel()"
   ]
  },
  {
   "cell_type": "markdown",
   "metadata": {},
   "source": [
    "* 全結合層(nn.Linear)のパラメータ数は\n",
    "    * 係数, 入力数×出力数\n",
    "    * バイアス, 出力数\n"
   ]
  },
  {
   "cell_type": "code",
   "execution_count": 725,
   "metadata": {},
   "outputs": [
    {
     "data": {
      "text/plain": [
       "=================================================================\n",
       "Layer (type:depth-idx)                   Param #\n",
       "=================================================================\n",
       "SampleModel                              --\n",
       "├─Linear: 1-1                            10\n",
       "├─ReLU: 1-2                              --\n",
       "├─Linear: 1-3                            3\n",
       "=================================================================\n",
       "Total params: 13\n",
       "Trainable params: 13\n",
       "Non-trainable params: 0\n",
       "================================================================="
      ]
     },
     "execution_count": 725,
     "metadata": {},
     "output_type": "execute_result"
    }
   ],
   "source": [
    "summary(model)"
   ]
  },
  {
   "cell_type": "code",
   "execution_count": 726,
   "metadata": {},
   "outputs": [
    {
     "name": "stdout",
     "output_type": "stream",
     "text": [
      "Parameter containing:\n",
      "tensor([[ 0.1994,  0.1458, -0.1405,  0.3567],\n",
      "        [ 0.0696,  0.4327,  0.3161,  0.3661]], requires_grad=True) <class 'torch.nn.parameter.Parameter'>\n",
      "Parameter containing:\n",
      "tensor([0.1077, 0.0555], requires_grad=True) <class 'torch.nn.parameter.Parameter'>\n",
      "Parameter containing:\n",
      "tensor([[-0.4441, -0.2937]], requires_grad=True) <class 'torch.nn.parameter.Parameter'>\n",
      "Parameter containing:\n",
      "tensor([0.1949], requires_grad=True) <class 'torch.nn.parameter.Parameter'>\n"
     ]
    }
   ],
   "source": [
    "for params in model.parameters():\n",
    "    print(params, type(params))"
   ]
  },
  {
   "cell_type": "markdown",
   "metadata": {},
   "source": [
    "## パラメータを学習させたくない場合\n"
   ]
  },
  {
   "cell_type": "code",
   "execution_count": 727,
   "metadata": {},
   "outputs": [],
   "source": [
    "class LinearRegression(nn.Module):\n",
    "    def __init__(self):\n",
    "        super(LinearRegression, self).__init__()\n",
    "        self.layer = nn.Linear(1, 1)\n",
    "\n",
    "    def forward(self, x):\n",
    "        y = self.layer(x)\n",
    "        return y\n",
    "\n",
    "def loss_fn(outputs, targets):\n",
    "    loss = nn.MSELoss()\n",
    "    return loss(outputs, targets)"
   ]
  },
  {
   "cell_type": "code",
   "execution_count": 728,
   "metadata": {},
   "outputs": [],
   "source": [
    "device = \"cuda:0\"\n",
    "model = LinearRegression()\n",
    "optimizer = torch.optim.SGD(model.parameters(), lr=0.01)"
   ]
  },
  {
   "cell_type": "code",
   "execution_count": 729,
   "metadata": {},
   "outputs": [
    {
     "data": {
      "text/plain": [
       "OrderedDict([('layer.weight', tensor([[0.6596]])),\n",
       "             ('layer.bias', tensor([0.4982]))])"
      ]
     },
     "execution_count": 729,
     "metadata": {},
     "output_type": "execute_result"
    }
   ],
   "source": [
    "# seedしてないから、初期値は毎回変わる --\n",
    "a_before = model.state_dict()[\"layer.weight\"].item()\n",
    "b_before = model.state_dict()[\"layer.bias\"].item()\n",
    "model.state_dict()"
   ]
  },
  {
   "cell_type": "markdown",
   "metadata": {},
   "source": [
    "### これでfreezeできる"
   ]
  },
  {
   "cell_type": "code",
   "execution_count": 730,
   "metadata": {},
   "outputs": [],
   "source": [
    "#list(model.parameters())[0].requires_grad = False"
   ]
  },
  {
   "cell_type": "markdown",
   "metadata": {},
   "source": [
    "### これはfreezeできない, なんでだ？\n",
    "* requires_gradはnn.parameter.Parameterに渡さないと更新されない"
   ]
  },
  {
   "cell_type": "code",
   "execution_count": 731,
   "metadata": {},
   "outputs": [],
   "source": [
    "model.state_dict()[\"layer.weight\"].requires_grad = False"
   ]
  },
  {
   "cell_type": "code",
   "execution_count": 732,
   "metadata": {},
   "outputs": [
    {
     "data": {
      "text/plain": [
       "torch.nn.parameter.Parameter"
      ]
     },
     "execution_count": 732,
     "metadata": {},
     "output_type": "execute_result"
    }
   ],
   "source": [
    "type(list(model.parameters())[0])"
   ]
  },
  {
   "cell_type": "code",
   "execution_count": 733,
   "metadata": {},
   "outputs": [
    {
     "data": {
      "text/plain": [
       "torch.Tensor"
      ]
     },
     "execution_count": 733,
     "metadata": {},
     "output_type": "execute_result"
    }
   ],
   "source": [
    "type(model.state_dict()[\"layer.weight\"])"
   ]
  },
  {
   "cell_type": "markdown",
   "metadata": {},
   "source": [
    "### 自分で指定した初期値を使いたい"
   ]
  },
  {
   "cell_type": "code",
   "execution_count": 734,
   "metadata": {},
   "outputs": [],
   "source": [
    "# # これは無理 --\n",
    "# list(model.parameters())[0] = 2\n",
    "# model.state_dict()[\"layer.weight\"] = 3.33333"
   ]
  },
  {
   "cell_type": "code",
   "execution_count": 735,
   "metadata": {},
   "outputs": [
    {
     "data": {
      "text/plain": [
       "Parameter containing:\n",
       "tensor([[0.0150]], requires_grad=True)"
      ]
     },
     "execution_count": 735,
     "metadata": {},
     "output_type": "execute_result"
    }
   ],
   "source": [
    "# torch.nn.initを使わないとアカン\n",
    "# freezeしたあとでも差し替え可能 --\n",
    "nn.init.normal_(list(model.parameters())[0], mean=0.0, std=0.02)"
   ]
  },
  {
   "cell_type": "code",
   "execution_count": 736,
   "metadata": {},
   "outputs": [
    {
     "data": {
      "text/plain": [
       "tensor([[0.]])"
      ]
     },
     "execution_count": 736,
     "metadata": {},
     "output_type": "execute_result"
    }
   ],
   "source": [
    "# state_dictからアクセスしても行ける。\n",
    "# 要はメモリ渡しだからparamsのtensorに渡せればok\n",
    "nn.init.zeros_(model.state_dict()[\"layer.weight\"])"
   ]
  },
  {
   "cell_type": "code",
   "execution_count": 737,
   "metadata": {},
   "outputs": [
    {
     "data": {
      "text/plain": [
       "OrderedDict([('layer.weight', tensor([[0.]])),\n",
       "             ('layer.bias', tensor([0.4982]))])"
      ]
     },
     "execution_count": 737,
     "metadata": {},
     "output_type": "execute_result"
    }
   ],
   "source": [
    "model.state_dict()"
   ]
  },
  {
   "cell_type": "code",
   "execution_count": 738,
   "metadata": {},
   "outputs": [
    {
     "name": "stdout",
     "output_type": "stream",
     "text": [
      "start from  :  a_ = 0.000, b_ = 0.498\n",
      "iiter : 0, loss = 102.121338 / a_ = -0.032, b_ = 0.297\n",
      "iiter : 100, loss = 2.736832 / a_ = 0.870, b_ = -8.645\n",
      "iiter : 200, loss = 0.106869 / a_ = 1.388, b_ = -9.816\n",
      "iiter : 300, loss = 0.033522 / a_ = 1.682, b_ = -9.974\n",
      "iiter : 400, loss = 0.014352 / a_ = 1.837, b_ = -9.997\n",
      "iiter : 500, loss = 0.006179 / a_ = 1.916, b_ = -9.999\n",
      "iiter : 600, loss = 0.005357 / a_ = 1.956, b_ = -10.001\n",
      "iiter : 700, loss = 0.002963 / a_ = 1.975, b_ = -10.004\n",
      "iiter : 800, loss = 0.004255 / a_ = 1.985, b_ = -10.001\n",
      "iiter : 900, loss = 0.004037 / a_ = 1.991, b_ = -10.001\n"
     ]
    }
   ],
   "source": [
    "model.to(device)\n",
    "\n",
    "n = 1000\n",
    "x = torch.rand(n)*2 -1\n",
    "a, b = 2.0, -10.0\n",
    "y = a*x + b\n",
    "\n",
    "x = x + torch.randn(n)*0.02\n",
    "y = y + a*torch.randn(n)*0.02\n",
    "\n",
    "x = x.to(device)\n",
    "y = y.to(device)\n",
    "\n",
    "bs = 10\n",
    "niter = 1000\n",
    "losses = []\n",
    "\n",
    "ta_ = model.state_dict()[\"layer.weight\"].item()\n",
    "tb_ = model.state_dict()[\"layer.bias\"].item()   \n",
    "print(f\"start from  :  a_ = {ta_:.3f}, b_ = {tb_:.3f}\")\n",
    "\n",
    "for iiter in range(niter):\n",
    "\n",
    "   r = np.random.choice(n, bs, replace=False)\n",
    "   bx = x[r].reshape(-1, 1)\n",
    "   by = y[r].reshape(-1, 1)\n",
    "\n",
    "   y_ = model(bx)\n",
    "   loss = loss_fn(by, y_)\n",
    "\n",
    "   optimizer.zero_grad()\n",
    "   loss.backward()\n",
    "   optimizer.step()\n",
    "\n",
    "   ta_ = model.state_dict()[\"layer.weight\"].item()\n",
    "   tb_ = model.state_dict()[\"layer.bias\"].item()   \n",
    "\n",
    "\n",
    "   if iiter%100 == 0:\n",
    "      print(f\"iiter : {iiter}, loss = {loss:.6f} / a_ = {ta_:.3f}, b_ = {tb_:.3f}\")\n",
    "   losses.append(loss)"
   ]
  },
  {
   "cell_type": "code",
   "execution_count": 739,
   "metadata": {},
   "outputs": [
    {
     "data": {
      "text/plain": [
       "OrderedDict([('layer.weight', tensor([[1.9940]], device='cuda:0')),\n",
       "             ('layer.bias', tensor([-10.0002], device='cuda:0'))])"
      ]
     },
     "execution_count": 739,
     "metadata": {},
     "output_type": "execute_result"
    }
   ],
   "source": [
    "a_after = model.state_dict()[\"layer.weight\"].item()\n",
    "b_after = model.state_dict()[\"layer.bias\"].item()\n",
    "model.state_dict()"
   ]
  },
  {
   "cell_type": "code",
   "execution_count": 740,
   "metadata": {},
   "outputs": [
    {
     "name": "stdout",
     "output_type": "stream",
     "text": [
      "a_ ... 0.660 -->> 1.994\n",
      "b_ ... 0.498 -->> -10.000\n"
     ]
    }
   ],
   "source": [
    "print(f\"a_ ... {a_before:.3f} -->> {a_after:.3f}\")\n",
    "print(f\"b_ ... {b_before:.3f} -->> {b_after:.3f}\")"
   ]
  },
  {
   "cell_type": "markdown",
   "metadata": {},
   "source": [
    "### 多層になった場合、狙ったところをどうやって引っ張るか --"
   ]
  },
  {
   "cell_type": "code",
   "execution_count": 741,
   "metadata": {},
   "outputs": [],
   "source": [
    "class TwoLayerModel(nn.Module):\n",
    "    def __init__(self):\n",
    "        super(TwoLayerModel, self).__init__()\n",
    "        \n",
    "        self.l1 = nn.Linear(4, 2)\n",
    "        self.l2 = nn.Linear(2, 1)\n",
    "    \n",
    "    def forward(self, x):\n",
    "        out = self.l1(x)\n",
    "        out = self.l2(out)\n",
    "        return out"
   ]
  },
  {
   "cell_type": "code",
   "execution_count": 742,
   "metadata": {},
   "outputs": [],
   "source": [
    "model = TwoLayerModel()"
   ]
  },
  {
   "cell_type": "code",
   "execution_count": 743,
   "metadata": {},
   "outputs": [
    {
     "data": {
      "text/plain": [
       "=================================================================\n",
       "Layer (type:depth-idx)                   Param #\n",
       "=================================================================\n",
       "TwoLayerModel                            --\n",
       "├─Linear: 1-1                            10\n",
       "├─Linear: 1-2                            3\n",
       "=================================================================\n",
       "Total params: 13\n",
       "Trainable params: 13\n",
       "Non-trainable params: 0\n",
       "================================================================="
      ]
     },
     "execution_count": 743,
     "metadata": {},
     "output_type": "execute_result"
    }
   ],
   "source": [
    "summary(model)"
   ]
  },
  {
   "cell_type": "code",
   "execution_count": 744,
   "metadata": {},
   "outputs": [
    {
     "data": {
      "text/plain": [
       "odict_keys(['l1.weight', 'l1.bias', 'l2.weight', 'l2.bias'])"
      ]
     },
     "execution_count": 744,
     "metadata": {},
     "output_type": "execute_result"
    }
   ],
   "source": [
    "# keysは一次元配置になる --\n",
    "model.state_dict().keys()"
   ]
  },
  {
   "cell_type": "code",
   "execution_count": 745,
   "metadata": {},
   "outputs": [
    {
     "data": {
      "text/plain": [
       "OrderedDict([('l1.weight',\n",
       "              tensor([[ 0.4195, -0.3565,  0.2914,  0.4754],\n",
       "                      [ 0.2004, -0.1163,  0.4769,  0.2522]])),\n",
       "             ('l1.bias', tensor([-0.4128, -0.2074])),\n",
       "             ('l2.weight', tensor([[0.5616, 0.0457]])),\n",
       "             ('l2.bias', tensor([0.6327]))])"
      ]
     },
     "execution_count": 745,
     "metadata": {},
     "output_type": "execute_result"
    }
   ],
   "source": [
    "model.state_dict()"
   ]
  },
  {
   "cell_type": "code",
   "execution_count": 746,
   "metadata": {},
   "outputs": [
    {
     "name": "stdout",
     "output_type": "stream",
     "text": [
      "Parameter containing:\n",
      "tensor([[ 0.4195, -0.3565,  0.2914,  0.4754],\n",
      "        [ 0.2004, -0.1163,  0.4769,  0.2522]], requires_grad=True)\n",
      "Parameter containing:\n",
      "tensor([-0.4128, -0.2074], requires_grad=True)\n",
      "Parameter containing:\n",
      "tensor([[0.5616, 0.0457]], requires_grad=True)\n",
      "Parameter containing:\n",
      "tensor([0.6327], requires_grad=True)\n"
     ]
    }
   ],
   "source": [
    "for param in model.parameters():\n",
    "    print(param)"
   ]
  },
  {
   "cell_type": "code",
   "execution_count": 747,
   "metadata": {},
   "outputs": [],
   "source": [
    "from transformers import AutoModel\n",
    "model_name = \"cl-tohoku/bert-base-japanese\""
   ]
  },
  {
   "cell_type": "code",
   "execution_count": 748,
   "metadata": {},
   "outputs": [
    {
     "name": "stderr",
     "output_type": "stream",
     "text": [
      "Some weights of the model checkpoint at cl-tohoku/bert-base-japanese were not used when initializing BertModel: ['cls.predictions.decoder.weight', 'cls.predictions.transform.dense.weight', 'cls.predictions.transform.dense.bias', 'cls.predictions.transform.LayerNorm.bias', 'cls.predictions.transform.LayerNorm.weight', 'cls.seq_relationship.weight', 'cls.predictions.bias', 'cls.seq_relationship.bias']\n",
      "- This IS expected if you are initializing BertModel from the checkpoint of a model trained on another task or with another architecture (e.g. initializing a BertForSequenceClassification model from a BertForPreTraining model).\n",
      "- This IS NOT expected if you are initializing BertModel from the checkpoint of a model that you expect to be exactly identical (initializing a BertForSequenceClassification model from a BertForSequenceClassification model).\n"
     ]
    }
   ],
   "source": [
    "m1 = AutoModel.from_pretrained(model_name)"
   ]
  },
  {
   "cell_type": "code",
   "execution_count": 749,
   "metadata": {},
   "outputs": [
    {
     "data": {
      "text/plain": [
       "====================================================================================================\n",
       "Layer (type:depth-idx)                             Output Shape              Param #\n",
       "====================================================================================================\n",
       "BertModel                                          [1, 768]                  --\n",
       "├─BertEmbeddings: 1-1                              [1, 32, 768]              --\n",
       "│    └─Embedding: 2-1                              [1, 32, 768]              24,576,000\n",
       "│    └─Embedding: 2-2                              [1, 32, 768]              1,536\n",
       "│    └─Embedding: 2-3                              [1, 32, 768]              393,216\n",
       "│    └─LayerNorm: 2-4                              [1, 32, 768]              1,536\n",
       "│    └─Dropout: 2-5                                [1, 32, 768]              --\n",
       "├─BertEncoder: 1-2                                 [1, 32, 768]              --\n",
       "│    └─ModuleList: 2-6                             --                        --\n",
       "│    │    └─BertLayer: 3-1                         [1, 32, 768]              7,087,872\n",
       "│    │    └─BertLayer: 3-32                        --                        (recursive)\n",
       "│    │    └─BertLayer: 3-3                         --                        (recursive)\n",
       "│    │    └─BertLayer: 3-4                         [1, 32, 768]              7,087,872\n",
       "│    │    └─BertLayer: 3-32                        --                        (recursive)\n",
       "│    │    └─BertLayer: 3-6                         --                        (recursive)\n",
       "│    │    └─BertLayer: 3-7                         [1, 32, 768]              7,087,872\n",
       "│    │    └─BertLayer: 3-32                        --                        (recursive)\n",
       "│    │    └─BertLayer: 3-9                         --                        (recursive)\n",
       "│    │    └─BertLayer: 3-10                        [1, 32, 768]              7,087,872\n",
       "│    │    └─BertLayer: 3-32                        --                        (recursive)\n",
       "│    │    └─BertLayer: 3-12                        --                        (recursive)\n",
       "│    │    └─BertLayer: 3-13                        [1, 32, 768]              7,087,872\n",
       "│    │    └─BertLayer: 3-32                        --                        (recursive)\n",
       "│    │    └─BertLayer: 3-15                        --                        (recursive)\n",
       "│    │    └─BertLayer: 3-16                        [1, 32, 768]              7,087,872\n",
       "│    │    └─BertLayer: 3-32                        --                        (recursive)\n",
       "│    │    └─BertLayer: 3-18                        --                        (recursive)\n",
       "│    │    └─BertLayer: 3-19                        [1, 32, 768]              7,087,872\n",
       "│    │    └─BertLayer: 3-32                        --                        (recursive)\n",
       "│    │    └─BertLayer: 3-21                        --                        (recursive)\n",
       "│    │    └─BertLayer: 3-22                        [1, 32, 768]              7,087,872\n",
       "│    │    └─BertLayer: 3-32                        --                        (recursive)\n",
       "│    │    └─BertLayer: 3-24                        --                        (recursive)\n",
       "│    │    └─BertLayer: 3-25                        [1, 32, 768]              7,087,872\n",
       "│    │    └─BertLayer: 3-32                        --                        (recursive)\n",
       "│    │    └─BertLayer: 3-27                        --                        (recursive)\n",
       "│    │    └─BertLayer: 3-28                        [1, 32, 768]              7,087,872\n",
       "│    │    └─BertLayer: 3-32                        --                        (recursive)\n",
       "│    │    └─BertLayer: 3-30                        --                        (recursive)\n",
       "│    │    └─BertLayer: 3-31                        [1, 32, 768]              7,087,872\n",
       "│    │    └─BertLayer: 3-32                        --                        (recursive)\n",
       "│    │    └─BertLayer: 3-33                        --                        (recursive)\n",
       "│    │    └─BertLayer: 3-34                        [1, 32, 768]              7,087,872\n",
       "├─BertPooler: 1-3                                  [1, 768]                  --\n",
       "│    └─Linear: 2-7                                 [1, 768]                  590,592\n",
       "│    └─Tanh: 2-8                                   [1, 768]                  --\n",
       "====================================================================================================\n",
       "Total params: 110,617,344\n",
       "Trainable params: 110,617,344\n",
       "Non-trainable params: 0\n",
       "Total mult-adds (M): 110.62\n",
       "====================================================================================================\n",
       "Input size (MB): 0.00\n",
       "Forward/backward pass size (MB): 26.74\n",
       "Params size (MB): 442.47\n",
       "Estimated Total Size (MB): 469.21\n",
       "===================================================================================================="
      ]
     },
     "execution_count": 749,
     "metadata": {},
     "output_type": "execute_result"
    }
   ],
   "source": [
    "input_size = (1, 32)\n",
    "dtypes = [torch.int, torch.long]\n",
    "\n",
    "summary(m1, input_size=input_size, dtypes=dtypes, depth=3)"
   ]
  },
  {
   "cell_type": "code",
   "execution_count": 750,
   "metadata": {},
   "outputs": [
    {
     "data": {
      "text/plain": [
       "200"
      ]
     },
     "execution_count": 750,
     "metadata": {},
     "output_type": "execute_result"
    }
   ],
   "source": [
    "len(m1.state_dict().keys())"
   ]
  },
  {
   "cell_type": "code",
   "execution_count": 751,
   "metadata": {},
   "outputs": [
    {
     "data": {
      "text/plain": [
       "odict_keys(['embeddings.position_ids', 'embeddings.word_embeddings.weight', 'embeddings.position_embeddings.weight', 'embeddings.token_type_embeddings.weight', 'embeddings.LayerNorm.weight', 'embeddings.LayerNorm.bias', 'encoder.layer.0.attention.self.query.weight', 'encoder.layer.0.attention.self.query.bias', 'encoder.layer.0.attention.self.key.weight', 'encoder.layer.0.attention.self.key.bias', 'encoder.layer.0.attention.self.value.weight', 'encoder.layer.0.attention.self.value.bias', 'encoder.layer.0.attention.output.dense.weight', 'encoder.layer.0.attention.output.dense.bias', 'encoder.layer.0.attention.output.LayerNorm.weight', 'encoder.layer.0.attention.output.LayerNorm.bias', 'encoder.layer.0.intermediate.dense.weight', 'encoder.layer.0.intermediate.dense.bias', 'encoder.layer.0.output.dense.weight', 'encoder.layer.0.output.dense.bias', 'encoder.layer.0.output.LayerNorm.weight', 'encoder.layer.0.output.LayerNorm.bias', 'encoder.layer.1.attention.self.query.weight', 'encoder.layer.1.attention.self.query.bias', 'encoder.layer.1.attention.self.key.weight', 'encoder.layer.1.attention.self.key.bias', 'encoder.layer.1.attention.self.value.weight', 'encoder.layer.1.attention.self.value.bias', 'encoder.layer.1.attention.output.dense.weight', 'encoder.layer.1.attention.output.dense.bias', 'encoder.layer.1.attention.output.LayerNorm.weight', 'encoder.layer.1.attention.output.LayerNorm.bias', 'encoder.layer.1.intermediate.dense.weight', 'encoder.layer.1.intermediate.dense.bias', 'encoder.layer.1.output.dense.weight', 'encoder.layer.1.output.dense.bias', 'encoder.layer.1.output.LayerNorm.weight', 'encoder.layer.1.output.LayerNorm.bias', 'encoder.layer.2.attention.self.query.weight', 'encoder.layer.2.attention.self.query.bias', 'encoder.layer.2.attention.self.key.weight', 'encoder.layer.2.attention.self.key.bias', 'encoder.layer.2.attention.self.value.weight', 'encoder.layer.2.attention.self.value.bias', 'encoder.layer.2.attention.output.dense.weight', 'encoder.layer.2.attention.output.dense.bias', 'encoder.layer.2.attention.output.LayerNorm.weight', 'encoder.layer.2.attention.output.LayerNorm.bias', 'encoder.layer.2.intermediate.dense.weight', 'encoder.layer.2.intermediate.dense.bias', 'encoder.layer.2.output.dense.weight', 'encoder.layer.2.output.dense.bias', 'encoder.layer.2.output.LayerNorm.weight', 'encoder.layer.2.output.LayerNorm.bias', 'encoder.layer.3.attention.self.query.weight', 'encoder.layer.3.attention.self.query.bias', 'encoder.layer.3.attention.self.key.weight', 'encoder.layer.3.attention.self.key.bias', 'encoder.layer.3.attention.self.value.weight', 'encoder.layer.3.attention.self.value.bias', 'encoder.layer.3.attention.output.dense.weight', 'encoder.layer.3.attention.output.dense.bias', 'encoder.layer.3.attention.output.LayerNorm.weight', 'encoder.layer.3.attention.output.LayerNorm.bias', 'encoder.layer.3.intermediate.dense.weight', 'encoder.layer.3.intermediate.dense.bias', 'encoder.layer.3.output.dense.weight', 'encoder.layer.3.output.dense.bias', 'encoder.layer.3.output.LayerNorm.weight', 'encoder.layer.3.output.LayerNorm.bias', 'encoder.layer.4.attention.self.query.weight', 'encoder.layer.4.attention.self.query.bias', 'encoder.layer.4.attention.self.key.weight', 'encoder.layer.4.attention.self.key.bias', 'encoder.layer.4.attention.self.value.weight', 'encoder.layer.4.attention.self.value.bias', 'encoder.layer.4.attention.output.dense.weight', 'encoder.layer.4.attention.output.dense.bias', 'encoder.layer.4.attention.output.LayerNorm.weight', 'encoder.layer.4.attention.output.LayerNorm.bias', 'encoder.layer.4.intermediate.dense.weight', 'encoder.layer.4.intermediate.dense.bias', 'encoder.layer.4.output.dense.weight', 'encoder.layer.4.output.dense.bias', 'encoder.layer.4.output.LayerNorm.weight', 'encoder.layer.4.output.LayerNorm.bias', 'encoder.layer.5.attention.self.query.weight', 'encoder.layer.5.attention.self.query.bias', 'encoder.layer.5.attention.self.key.weight', 'encoder.layer.5.attention.self.key.bias', 'encoder.layer.5.attention.self.value.weight', 'encoder.layer.5.attention.self.value.bias', 'encoder.layer.5.attention.output.dense.weight', 'encoder.layer.5.attention.output.dense.bias', 'encoder.layer.5.attention.output.LayerNorm.weight', 'encoder.layer.5.attention.output.LayerNorm.bias', 'encoder.layer.5.intermediate.dense.weight', 'encoder.layer.5.intermediate.dense.bias', 'encoder.layer.5.output.dense.weight', 'encoder.layer.5.output.dense.bias', 'encoder.layer.5.output.LayerNorm.weight', 'encoder.layer.5.output.LayerNorm.bias', 'encoder.layer.6.attention.self.query.weight', 'encoder.layer.6.attention.self.query.bias', 'encoder.layer.6.attention.self.key.weight', 'encoder.layer.6.attention.self.key.bias', 'encoder.layer.6.attention.self.value.weight', 'encoder.layer.6.attention.self.value.bias', 'encoder.layer.6.attention.output.dense.weight', 'encoder.layer.6.attention.output.dense.bias', 'encoder.layer.6.attention.output.LayerNorm.weight', 'encoder.layer.6.attention.output.LayerNorm.bias', 'encoder.layer.6.intermediate.dense.weight', 'encoder.layer.6.intermediate.dense.bias', 'encoder.layer.6.output.dense.weight', 'encoder.layer.6.output.dense.bias', 'encoder.layer.6.output.LayerNorm.weight', 'encoder.layer.6.output.LayerNorm.bias', 'encoder.layer.7.attention.self.query.weight', 'encoder.layer.7.attention.self.query.bias', 'encoder.layer.7.attention.self.key.weight', 'encoder.layer.7.attention.self.key.bias', 'encoder.layer.7.attention.self.value.weight', 'encoder.layer.7.attention.self.value.bias', 'encoder.layer.7.attention.output.dense.weight', 'encoder.layer.7.attention.output.dense.bias', 'encoder.layer.7.attention.output.LayerNorm.weight', 'encoder.layer.7.attention.output.LayerNorm.bias', 'encoder.layer.7.intermediate.dense.weight', 'encoder.layer.7.intermediate.dense.bias', 'encoder.layer.7.output.dense.weight', 'encoder.layer.7.output.dense.bias', 'encoder.layer.7.output.LayerNorm.weight', 'encoder.layer.7.output.LayerNorm.bias', 'encoder.layer.8.attention.self.query.weight', 'encoder.layer.8.attention.self.query.bias', 'encoder.layer.8.attention.self.key.weight', 'encoder.layer.8.attention.self.key.bias', 'encoder.layer.8.attention.self.value.weight', 'encoder.layer.8.attention.self.value.bias', 'encoder.layer.8.attention.output.dense.weight', 'encoder.layer.8.attention.output.dense.bias', 'encoder.layer.8.attention.output.LayerNorm.weight', 'encoder.layer.8.attention.output.LayerNorm.bias', 'encoder.layer.8.intermediate.dense.weight', 'encoder.layer.8.intermediate.dense.bias', 'encoder.layer.8.output.dense.weight', 'encoder.layer.8.output.dense.bias', 'encoder.layer.8.output.LayerNorm.weight', 'encoder.layer.8.output.LayerNorm.bias', 'encoder.layer.9.attention.self.query.weight', 'encoder.layer.9.attention.self.query.bias', 'encoder.layer.9.attention.self.key.weight', 'encoder.layer.9.attention.self.key.bias', 'encoder.layer.9.attention.self.value.weight', 'encoder.layer.9.attention.self.value.bias', 'encoder.layer.9.attention.output.dense.weight', 'encoder.layer.9.attention.output.dense.bias', 'encoder.layer.9.attention.output.LayerNorm.weight', 'encoder.layer.9.attention.output.LayerNorm.bias', 'encoder.layer.9.intermediate.dense.weight', 'encoder.layer.9.intermediate.dense.bias', 'encoder.layer.9.output.dense.weight', 'encoder.layer.9.output.dense.bias', 'encoder.layer.9.output.LayerNorm.weight', 'encoder.layer.9.output.LayerNorm.bias', 'encoder.layer.10.attention.self.query.weight', 'encoder.layer.10.attention.self.query.bias', 'encoder.layer.10.attention.self.key.weight', 'encoder.layer.10.attention.self.key.bias', 'encoder.layer.10.attention.self.value.weight', 'encoder.layer.10.attention.self.value.bias', 'encoder.layer.10.attention.output.dense.weight', 'encoder.layer.10.attention.output.dense.bias', 'encoder.layer.10.attention.output.LayerNorm.weight', 'encoder.layer.10.attention.output.LayerNorm.bias', 'encoder.layer.10.intermediate.dense.weight', 'encoder.layer.10.intermediate.dense.bias', 'encoder.layer.10.output.dense.weight', 'encoder.layer.10.output.dense.bias', 'encoder.layer.10.output.LayerNorm.weight', 'encoder.layer.10.output.LayerNorm.bias', 'encoder.layer.11.attention.self.query.weight', 'encoder.layer.11.attention.self.query.bias', 'encoder.layer.11.attention.self.key.weight', 'encoder.layer.11.attention.self.key.bias', 'encoder.layer.11.attention.self.value.weight', 'encoder.layer.11.attention.self.value.bias', 'encoder.layer.11.attention.output.dense.weight', 'encoder.layer.11.attention.output.dense.bias', 'encoder.layer.11.attention.output.LayerNorm.weight', 'encoder.layer.11.attention.output.LayerNorm.bias', 'encoder.layer.11.intermediate.dense.weight', 'encoder.layer.11.intermediate.dense.bias', 'encoder.layer.11.output.dense.weight', 'encoder.layer.11.output.dense.bias', 'encoder.layer.11.output.LayerNorm.weight', 'encoder.layer.11.output.LayerNorm.bias', 'pooler.dense.weight', 'pooler.dense.bias'])"
      ]
     },
     "execution_count": 751,
     "metadata": {},
     "output_type": "execute_result"
    }
   ],
   "source": [
    "m1.state_dict().keys()"
   ]
  },
  {
   "cell_type": "markdown",
   "metadata": {},
   "source": [
    "### そもそもの疑問として、output_hidden_statesはbert-poolerを本当に通ってないのか？という観点がある\n",
    "* 思ってたとおりの挙動でした\n",
    "    * pooler.dense.weightとpooler.dense.biasが影響するのはbase_output[\"pooler_output\"]のみ\n",
    "    * last_hidden_state -> (pooler) -> pooler_output\n",
    "    * "
   ]
  },
  {
   "cell_type": "code",
   "execution_count": 752,
   "metadata": {},
   "outputs": [],
   "source": [
    "from transformers import T5Tokenizer\n",
    "\n",
    "model_name = \"rinna/japanese-roberta-base\"\n",
    "input_size = (32, 128)\n",
    "dtypes = [torch.int, torch.long]\n",
    "\n",
    "tokenizer = T5Tokenizer.from_pretrained(model_name)\n",
    "token = tokenizer.encode_plus(\"例えば君がいるだけで心が強くなれるよ\")\n",
    "input_ids = torch.Tensor(token[\"input_ids\"]).to(torch.long).unsqueeze(0)\n",
    "attention_mask = torch.Tensor(token[\"attention_mask\"]).to(torch.long).unsqueeze(0)"
   ]
  },
  {
   "cell_type": "code",
   "execution_count": 753,
   "metadata": {},
   "outputs": [
    {
     "name": "stderr",
     "output_type": "stream",
     "text": [
      "Some weights of the model checkpoint at rinna/japanese-roberta-base were not used when initializing RobertaModel: ['lm_head.dense.weight', 'lm_head.layer_norm.bias', 'lm_head.bias', 'lm_head.decoder.bias', 'lm_head.dense.bias', 'lm_head.decoder.weight', 'lm_head.layer_norm.weight']\n",
      "- This IS expected if you are initializing RobertaModel from the checkpoint of a model trained on another task or with another architecture (e.g. initializing a BertForSequenceClassification model from a BertForPreTraining model).\n",
      "- This IS NOT expected if you are initializing RobertaModel from the checkpoint of a model that you expect to be exactly identical (initializing a BertForSequenceClassification model from a BertForSequenceClassification model).\n",
      "Some weights of RobertaModel were not initialized from the model checkpoint at rinna/japanese-roberta-base and are newly initialized: ['roberta.pooler.dense.bias', 'roberta.pooler.dense.weight']\n",
      "You should probably TRAIN this model on a down-stream task to be able to use it for predictions and inference.\n"
     ]
    }
   ],
   "source": [
    "m2 = AutoModel.from_pretrained(model_name)"
   ]
  },
  {
   "cell_type": "code",
   "execution_count": 754,
   "metadata": {},
   "outputs": [],
   "source": [
    "m2_base_output = m2(input_ids=input_ids, attention_mask=attention_mask)"
   ]
  },
  {
   "cell_type": "code",
   "execution_count": 755,
   "metadata": {},
   "outputs": [
    {
     "name": "stderr",
     "output_type": "stream",
     "text": [
      "Some weights of the model checkpoint at rinna/japanese-roberta-base were not used when initializing RobertaModel: ['lm_head.dense.weight', 'lm_head.layer_norm.bias', 'lm_head.bias', 'lm_head.decoder.bias', 'lm_head.dense.bias', 'lm_head.decoder.weight', 'lm_head.layer_norm.weight']\n",
      "- This IS expected if you are initializing RobertaModel from the checkpoint of a model trained on another task or with another architecture (e.g. initializing a BertForSequenceClassification model from a BertForPreTraining model).\n",
      "- This IS NOT expected if you are initializing RobertaModel from the checkpoint of a model that you expect to be exactly identical (initializing a BertForSequenceClassification model from a BertForSequenceClassification model).\n",
      "Some weights of RobertaModel were not initialized from the model checkpoint at rinna/japanese-roberta-base and are newly initialized: ['roberta.pooler.dense.bias', 'roberta.pooler.dense.weight']\n",
      "You should probably TRAIN this model on a down-stream task to be able to use it for predictions and inference.\n"
     ]
    }
   ],
   "source": [
    "m3 = AutoModel.from_pretrained(model_name)"
   ]
  },
  {
   "cell_type": "code",
   "execution_count": 756,
   "metadata": {},
   "outputs": [
    {
     "data": {
      "text/plain": [
       "tensor([0., 0., 0., 0., 0., 0., 0., 0., 0., 0., 0., 0., 0., 0., 0., 0., 0., 0., 0., 0., 0., 0., 0., 0.,\n",
       "        0., 0., 0., 0., 0., 0., 0., 0., 0., 0., 0., 0., 0., 0., 0., 0., 0., 0., 0., 0., 0., 0., 0., 0.,\n",
       "        0., 0., 0., 0., 0., 0., 0., 0., 0., 0., 0., 0., 0., 0., 0., 0., 0., 0., 0., 0., 0., 0., 0., 0.,\n",
       "        0., 0., 0., 0., 0., 0., 0., 0., 0., 0., 0., 0., 0., 0., 0., 0., 0., 0., 0., 0., 0., 0., 0., 0.,\n",
       "        0., 0., 0., 0., 0., 0., 0., 0., 0., 0., 0., 0., 0., 0., 0., 0., 0., 0., 0., 0., 0., 0., 0., 0.,\n",
       "        0., 0., 0., 0., 0., 0., 0., 0., 0., 0., 0., 0., 0., 0., 0., 0., 0., 0., 0., 0., 0., 0., 0., 0.,\n",
       "        0., 0., 0., 0., 0., 0., 0., 0., 0., 0., 0., 0., 0., 0., 0., 0., 0., 0., 0., 0., 0., 0., 0., 0.,\n",
       "        0., 0., 0., 0., 0., 0., 0., 0., 0., 0., 0., 0., 0., 0., 0., 0., 0., 0., 0., 0., 0., 0., 0., 0.,\n",
       "        0., 0., 0., 0., 0., 0., 0., 0., 0., 0., 0., 0., 0., 0., 0., 0., 0., 0., 0., 0., 0., 0., 0., 0.,\n",
       "        0., 0., 0., 0., 0., 0., 0., 0., 0., 0., 0., 0., 0., 0., 0., 0., 0., 0., 0., 0., 0., 0., 0., 0.,\n",
       "        0., 0., 0., 0., 0., 0., 0., 0., 0., 0., 0., 0., 0., 0., 0., 0., 0., 0., 0., 0., 0., 0., 0., 0.,\n",
       "        0., 0., 0., 0., 0., 0., 0., 0., 0., 0., 0., 0., 0., 0., 0., 0., 0., 0., 0., 0., 0., 0., 0., 0.,\n",
       "        0., 0., 0., 0., 0., 0., 0., 0., 0., 0., 0., 0., 0., 0., 0., 0., 0., 0., 0., 0., 0., 0., 0., 0.,\n",
       "        0., 0., 0., 0., 0., 0., 0., 0., 0., 0., 0., 0., 0., 0., 0., 0., 0., 0., 0., 0., 0., 0., 0., 0.,\n",
       "        0., 0., 0., 0., 0., 0., 0., 0., 0., 0., 0., 0., 0., 0., 0., 0., 0., 0., 0., 0., 0., 0., 0., 0.,\n",
       "        0., 0., 0., 0., 0., 0., 0., 0., 0., 0., 0., 0., 0., 0., 0., 0., 0., 0., 0., 0., 0., 0., 0., 0.,\n",
       "        0., 0., 0., 0., 0., 0., 0., 0., 0., 0., 0., 0., 0., 0., 0., 0., 0., 0., 0., 0., 0., 0., 0., 0.,\n",
       "        0., 0., 0., 0., 0., 0., 0., 0., 0., 0., 0., 0., 0., 0., 0., 0., 0., 0., 0., 0., 0., 0., 0., 0.,\n",
       "        0., 0., 0., 0., 0., 0., 0., 0., 0., 0., 0., 0., 0., 0., 0., 0., 0., 0., 0., 0., 0., 0., 0., 0.,\n",
       "        0., 0., 0., 0., 0., 0., 0., 0., 0., 0., 0., 0., 0., 0., 0., 0., 0., 0., 0., 0., 0., 0., 0., 0.,\n",
       "        0., 0., 0., 0., 0., 0., 0., 0., 0., 0., 0., 0., 0., 0., 0., 0., 0., 0., 0., 0., 0., 0., 0., 0.,\n",
       "        0., 0., 0., 0., 0., 0., 0., 0., 0., 0., 0., 0., 0., 0., 0., 0., 0., 0., 0., 0., 0., 0., 0., 0.,\n",
       "        0., 0., 0., 0., 0., 0., 0., 0., 0., 0., 0., 0., 0., 0., 0., 0., 0., 0., 0., 0., 0., 0., 0., 0.,\n",
       "        0., 0., 0., 0., 0., 0., 0., 0., 0., 0., 0., 0., 0., 0., 0., 0., 0., 0., 0., 0., 0., 0., 0., 0.,\n",
       "        0., 0., 0., 0., 0., 0., 0., 0., 0., 0., 0., 0., 0., 0., 0., 0., 0., 0., 0., 0., 0., 0., 0., 0.,\n",
       "        0., 0., 0., 0., 0., 0., 0., 0., 0., 0., 0., 0., 0., 0., 0., 0., 0., 0., 0., 0., 0., 0., 0., 0.,\n",
       "        0., 0., 0., 0., 0., 0., 0., 0., 0., 0., 0., 0., 0., 0., 0., 0., 0., 0., 0., 0., 0., 0., 0., 0.,\n",
       "        0., 0., 0., 0., 0., 0., 0., 0., 0., 0., 0., 0., 0., 0., 0., 0., 0., 0., 0., 0., 0., 0., 0., 0.,\n",
       "        0., 0., 0., 0., 0., 0., 0., 0., 0., 0., 0., 0., 0., 0., 0., 0., 0., 0., 0., 0., 0., 0., 0., 0.,\n",
       "        0., 0., 0., 0., 0., 0., 0., 0., 0., 0., 0., 0., 0., 0., 0., 0., 0., 0., 0., 0., 0., 0., 0., 0.,\n",
       "        0., 0., 0., 0., 0., 0., 0., 0., 0., 0., 0., 0., 0., 0., 0., 0., 0., 0., 0., 0., 0., 0., 0., 0.,\n",
       "        0., 0., 0., 0., 0., 0., 0., 0., 0., 0., 0., 0., 0., 0., 0., 0., 0., 0., 0., 0., 0., 0., 0., 0.])"
      ]
     },
     "execution_count": 756,
     "metadata": {},
     "output_type": "execute_result"
    }
   ],
   "source": [
    "# pooler_outputっぽいやつのパラメータを初期化 --\n",
    "nn.init.zeros_(m3.state_dict()[\"pooler.dense.weight\"])\n",
    "nn.init.zeros_(m3.state_dict()[\"pooler.dense.bias\"])"
   ]
  },
  {
   "cell_type": "code",
   "execution_count": 757,
   "metadata": {},
   "outputs": [],
   "source": [
    "m3_base_output = m3(input_ids=input_ids, attention_mask=attention_mask)"
   ]
  },
  {
   "cell_type": "markdown",
   "metadata": {},
   "source": [
    "* まず、m3のpooler_outputは全部ゼロであってほしい"
   ]
  },
  {
   "cell_type": "code",
   "execution_count": 758,
   "metadata": {},
   "outputs": [
    {
     "data": {
      "text/plain": [
       "tensor(0., grad_fn=<SumBackward0>)"
      ]
     },
     "execution_count": 758,
     "metadata": {},
     "output_type": "execute_result"
    }
   ],
   "source": [
    "# ok --\n",
    "m3_base_output[\"pooler_output\"].sum()"
   ]
  },
  {
   "cell_type": "markdown",
   "metadata": {},
   "source": [
    "* m2のpooler_outputは当然値を持つ"
   ]
  },
  {
   "cell_type": "code",
   "execution_count": 759,
   "metadata": {},
   "outputs": [
    {
     "data": {
      "text/plain": [
       "tensor(5.0400, grad_fn=<SumBackward0>)"
      ]
     },
     "execution_count": 759,
     "metadata": {},
     "output_type": "execute_result"
    }
   ],
   "source": [
    "# ok --\n",
    "m2_base_output[\"pooler_output\"].sum()"
   ]
  },
  {
   "cell_type": "markdown",
   "metadata": {},
   "source": [
    "* m3もlast_hidden_stateは値を持つ --"
   ]
  },
  {
   "cell_type": "code",
   "execution_count": 760,
   "metadata": {},
   "outputs": [
    {
     "data": {
      "text/plain": [
       "tensor([[[-0.1488,  0.0563, -0.2001,  ..., -0.2476, -0.1276, -0.0199],\n",
       "         [-0.1376,  0.0470, -0.1485,  ..., -0.2500, -0.1300,  0.0111],\n",
       "         [-0.1621,  0.0432, -0.2342,  ..., -0.2326, -0.1819, -0.0077],\n",
       "         ...,\n",
       "         [-0.1684,  0.0294, -0.3133,  ..., -0.1929, -0.0901, -0.0889],\n",
       "         [-0.1868,  0.0360, -0.2739,  ..., -0.2799, -0.0704, -0.0660],\n",
       "         [-0.0763,  0.0404, -0.2715,  ..., -0.2516, -0.0645, -0.0086]]],\n",
       "       grad_fn=<NativeLayerNormBackward0>)"
      ]
     },
     "execution_count": 760,
     "metadata": {},
     "output_type": "execute_result"
    }
   ],
   "source": [
    "m3_base_output[\"last_hidden_state\"]"
   ]
  },
  {
   "cell_type": "markdown",
   "metadata": {},
   "source": [
    "* で、かつm2_base_outputと同じ値を持っている"
   ]
  },
  {
   "cell_type": "code",
   "execution_count": 761,
   "metadata": {},
   "outputs": [
    {
     "data": {
      "text/plain": [
       "tensor([[[-0.1488,  0.0563, -0.2001,  ..., -0.2476, -0.1276, -0.0199],\n",
       "         [-0.1376,  0.0470, -0.1485,  ..., -0.2500, -0.1300,  0.0111],\n",
       "         [-0.1621,  0.0432, -0.2342,  ..., -0.2326, -0.1819, -0.0077],\n",
       "         ...,\n",
       "         [-0.1684,  0.0294, -0.3133,  ..., -0.1929, -0.0901, -0.0889],\n",
       "         [-0.1868,  0.0360, -0.2739,  ..., -0.2799, -0.0704, -0.0660],\n",
       "         [-0.0763,  0.0404, -0.2715,  ..., -0.2516, -0.0645, -0.0086]]],\n",
       "       grad_fn=<NativeLayerNormBackward0>)"
      ]
     },
     "execution_count": 761,
     "metadata": {},
     "output_type": "execute_result"
    }
   ],
   "source": [
    "m2_base_output[\"last_hidden_state\"]"
   ]
  },
  {
   "cell_type": "markdown",
   "metadata": {},
   "source": [
    "### では、BERTの狙ったレイヤーだけ初期化する方法はどうする？ --"
   ]
  },
  {
   "cell_type": "code",
   "execution_count": 762,
   "metadata": {},
   "outputs": [
    {
     "name": "stderr",
     "output_type": "stream",
     "text": [
      "Some weights of the model checkpoint at cl-tohoku/bert-large-japanese were not used when initializing BertModel: ['cls.predictions.decoder.weight', 'cls.predictions.transform.dense.weight', 'cls.predictions.decoder.bias', 'cls.predictions.transform.dense.bias', 'cls.predictions.transform.LayerNorm.bias', 'cls.predictions.transform.LayerNorm.weight', 'cls.predictions.bias', 'cls.seq_relationship.weight', 'cls.seq_relationship.bias']\n",
      "- This IS expected if you are initializing BertModel from the checkpoint of a model trained on another task or with another architecture (e.g. initializing a BertForSequenceClassification model from a BertForPreTraining model).\n",
      "- This IS NOT expected if you are initializing BertModel from the checkpoint of a model that you expect to be exactly identical (initializing a BertForSequenceClassification model from a BertForSequenceClassification model).\n"
     ]
    }
   ],
   "source": [
    "m4 = AutoModel.from_pretrained(\"cl-tohoku/bert-large-japanese\")"
   ]
  },
  {
   "cell_type": "code",
   "execution_count": 763,
   "metadata": {},
   "outputs": [
    {
     "data": {
      "text/plain": [
       "===========================================================================\n",
       "Layer (type:depth-idx)                             Param #\n",
       "===========================================================================\n",
       "BertModel                                          --\n",
       "├─BertEmbeddings: 1-1                              --\n",
       "│    └─Embedding: 2-1                              33,554,432\n",
       "│    └─Embedding: 2-2                              524,288\n",
       "│    └─Embedding: 2-3                              2,048\n",
       "│    └─LayerNorm: 2-4                              2,048\n",
       "│    └─Dropout: 2-5                                --\n",
       "├─BertEncoder: 1-2                                 --\n",
       "│    └─ModuleList: 2-6                             --\n",
       "│    │    └─BertLayer: 3-1                         12,596,224\n",
       "│    │    └─BertLayer: 3-2                         12,596,224\n",
       "│    │    └─BertLayer: 3-3                         12,596,224\n",
       "│    │    └─BertLayer: 3-4                         12,596,224\n",
       "│    │    └─BertLayer: 3-5                         12,596,224\n",
       "│    │    └─BertLayer: 3-6                         12,596,224\n",
       "│    │    └─BertLayer: 3-7                         12,596,224\n",
       "│    │    └─BertLayer: 3-8                         12,596,224\n",
       "│    │    └─BertLayer: 3-9                         12,596,224\n",
       "│    │    └─BertLayer: 3-10                        12,596,224\n",
       "│    │    └─BertLayer: 3-11                        12,596,224\n",
       "│    │    └─BertLayer: 3-12                        12,596,224\n",
       "│    │    └─BertLayer: 3-13                        12,596,224\n",
       "│    │    └─BertLayer: 3-14                        12,596,224\n",
       "│    │    └─BertLayer: 3-15                        12,596,224\n",
       "│    │    └─BertLayer: 3-16                        12,596,224\n",
       "│    │    └─BertLayer: 3-17                        12,596,224\n",
       "│    │    └─BertLayer: 3-18                        12,596,224\n",
       "│    │    └─BertLayer: 3-19                        12,596,224\n",
       "│    │    └─BertLayer: 3-20                        12,596,224\n",
       "│    │    └─BertLayer: 3-21                        12,596,224\n",
       "│    │    └─BertLayer: 3-22                        12,596,224\n",
       "│    │    └─BertLayer: 3-23                        12,596,224\n",
       "│    │    └─BertLayer: 3-24                        12,596,224\n",
       "├─BertPooler: 1-3                                  --\n",
       "│    └─Linear: 2-7                                 1,049,600\n",
       "│    └─Tanh: 2-8                                   --\n",
       "===========================================================================\n",
       "Total params: 337,441,792\n",
       "Trainable params: 337,441,792\n",
       "Non-trainable params: 0\n",
       "==========================================================================="
      ]
     },
     "execution_count": 763,
     "metadata": {},
     "output_type": "execute_result"
    }
   ],
   "source": [
    "summary(m4, depth=3)"
   ]
  },
  {
   "cell_type": "code",
   "execution_count": 764,
   "metadata": {},
   "outputs": [
    {
     "data": {
      "text/plain": [
       "['encoder.layer.23.attention.self.query.weight',\n",
       " 'encoder.layer.23.attention.self.query.bias',\n",
       " 'encoder.layer.23.attention.self.key.weight',\n",
       " 'encoder.layer.23.attention.self.key.bias',\n",
       " 'encoder.layer.23.attention.self.value.weight',\n",
       " 'encoder.layer.23.attention.self.value.bias',\n",
       " 'encoder.layer.23.attention.output.dense.weight',\n",
       " 'encoder.layer.23.attention.output.dense.bias',\n",
       " 'encoder.layer.23.attention.output.LayerNorm.weight',\n",
       " 'encoder.layer.23.attention.output.LayerNorm.bias',\n",
       " 'encoder.layer.23.intermediate.dense.weight',\n",
       " 'encoder.layer.23.intermediate.dense.bias',\n",
       " 'encoder.layer.23.output.dense.weight',\n",
       " 'encoder.layer.23.output.dense.bias',\n",
       " 'encoder.layer.23.output.LayerNorm.weight',\n",
       " 'encoder.layer.23.output.LayerNorm.bias']"
      ]
     },
     "execution_count": 764,
     "metadata": {},
     "output_type": "execute_result"
    }
   ],
   "source": [
    "[param for param in list(m4.state_dict().keys()) if \"23\" in param]"
   ]
  },
  {
   "cell_type": "markdown",
   "metadata": {},
   "source": [
    "### BERTでやるとわかりにくいので、Linearでやる --"
   ]
  },
  {
   "cell_type": "code",
   "execution_count": 812,
   "metadata": {},
   "outputs": [],
   "source": [
    "class QuadLinearModel(nn.Module):\n",
    "    def __init__(self):\n",
    "        super(QuadLinearModel, self).__init__()\n",
    "        self.l0 = nn.Linear(1, 1)\n",
    "        self.l1 = nn.Linear(1, 1)\n",
    "        self.l2 = nn.Linear(1, 1)\n",
    "        self.l3 = nn.Linear(1, 1)\n",
    "\n",
    "    def forward(self, x):\n",
    "        out = self.l0(x)\n",
    "        out = self.l1(out)\n",
    "        out = self.l2(out)\n",
    "        out = self.l3(out)\n",
    "\n",
    "        return out"
   ]
  },
  {
   "cell_type": "code",
   "execution_count": 813,
   "metadata": {},
   "outputs": [
    {
     "data": {
      "text/plain": [
       "=================================================================\n",
       "Layer (type:depth-idx)                   Param #\n",
       "=================================================================\n",
       "QuadLinearModel                          --\n",
       "├─Linear: 1-1                            2\n",
       "├─Linear: 1-2                            2\n",
       "├─Linear: 1-3                            2\n",
       "├─Linear: 1-4                            2\n",
       "=================================================================\n",
       "Total params: 8\n",
       "Trainable params: 8\n",
       "Non-trainable params: 0\n",
       "================================================================="
      ]
     },
     "execution_count": 813,
     "metadata": {},
     "output_type": "execute_result"
    }
   ],
   "source": [
    "model = QuadLinearModel()\n",
    "summary(model)"
   ]
  },
  {
   "cell_type": "code",
   "execution_count": 814,
   "metadata": {},
   "outputs": [
    {
     "data": {
      "text/plain": [
       "OrderedDict([('l0.weight', tensor([[0.4555]])),\n",
       "             ('l0.bias', tensor([0.5718])),\n",
       "             ('l1.weight', tensor([[0.7746]])),\n",
       "             ('l1.bias', tensor([0.4392])),\n",
       "             ('l2.weight', tensor([[0.3896]])),\n",
       "             ('l2.bias', tensor([-0.1883])),\n",
       "             ('l3.weight', tensor([[-0.8489]])),\n",
       "             ('l3.bias', tensor([-0.7753]))])"
      ]
     },
     "execution_count": 814,
     "metadata": {},
     "output_type": "execute_result"
    }
   ],
   "source": [
    "model.state_dict()"
   ]
  },
  {
   "cell_type": "code",
   "execution_count": 833,
   "metadata": {},
   "outputs": [],
   "source": [
    "def torch_init_params_by_name(model, name):\n",
    "    \"\"\"nameを含むnamed_parameterを初期化する関数\"\"\"\n",
    "    init_params = [(param_name, params) for (param_name, params) in model.named_parameters() if name in param_name]\n",
    "    for param in init_params:\n",
    "        print(f\"... {param[0]} initialized ... \")\n",
    "        nn.init.normal_(param[1], mean=0, std=0.02)"
   ]
  },
  {
   "cell_type": "code",
   "execution_count": 837,
   "metadata": {},
   "outputs": [],
   "source": [
    "def torch_freeze_params_by_name(model, name):\n",
    "    \"\"\"nameを含むnamed_parameterをfreeze(required_grad=False)する関数\"\"\"\n",
    "    freeze_params = [(param_name, params) for (param_name, params) in model.named_parameters() if name in param_name]\n",
    "    for param in freeze_params:\n",
    "        print(f\"... {param[0]} freezed ... \")\n",
    "        param[1].requires_grad = False"
   ]
  },
  {
   "cell_type": "code",
   "execution_count": 823,
   "metadata": {},
   "outputs": [
    {
     "name": "stdout",
     "output_type": "stream",
     "text": [
      "<class 'torch.nn.parameter.Parameter'>\n",
      "<class 'torch.nn.parameter.Parameter'>\n"
     ]
    }
   ],
   "source": [
    "torch_freeze_params_by_name(model, name=\"l1\")"
   ]
  },
  {
   "cell_type": "code",
   "execution_count": 824,
   "metadata": {},
   "outputs": [
    {
     "data": {
      "text/plain": [
       "OrderedDict([('l0.weight', tensor([[0.4555]])),\n",
       "             ('l0.bias', tensor([0.5718])),\n",
       "             ('l1.weight', tensor([[0.7746]])),\n",
       "             ('l1.bias', tensor([0.4392])),\n",
       "             ('l2.weight', tensor([[0.3896]])),\n",
       "             ('l2.bias', tensor([-0.1883])),\n",
       "             ('l3.weight', tensor([[-0.8489]])),\n",
       "             ('l3.bias', tensor([-0.7753]))])"
      ]
     },
     "execution_count": 824,
     "metadata": {},
     "output_type": "execute_result"
    }
   ],
   "source": [
    "model.state_dict()"
   ]
  },
  {
   "cell_type": "code",
   "execution_count": 825,
   "metadata": {},
   "outputs": [
    {
     "data": {
      "text/plain": [
       "=================================================================\n",
       "Layer (type:depth-idx)                   Param #\n",
       "=================================================================\n",
       "QuadLinearModel                          --\n",
       "├─Linear: 1-1                            2\n",
       "├─Linear: 1-2                            (2)\n",
       "├─Linear: 1-3                            2\n",
       "├─Linear: 1-4                            2\n",
       "=================================================================\n",
       "Total params: 8\n",
       "Trainable params: 6\n",
       "Non-trainable params: 2\n",
       "================================================================="
      ]
     },
     "execution_count": 825,
     "metadata": {},
     "output_type": "execute_result"
    }
   ],
   "source": [
    "summary(model)"
   ]
  },
  {
   "cell_type": "markdown",
   "metadata": {},
   "source": [
    "### BERT, roBERTaに対して関数を適用してみる --"
   ]
  },
  {
   "cell_type": "code",
   "execution_count": 827,
   "metadata": {},
   "outputs": [
    {
     "name": "stderr",
     "output_type": "stream",
     "text": [
      "Some weights of the model checkpoint at nlp-waseda/roberta-large-japanese-seq512 were not used when initializing RobertaModel: ['lm_head.dense.weight', 'lm_head.layer_norm.bias', 'lm_head.bias', 'lm_head.dense.bias', 'lm_head.layer_norm.weight']\n",
      "- This IS expected if you are initializing RobertaModel from the checkpoint of a model trained on another task or with another architecture (e.g. initializing a BertForSequenceClassification model from a BertForPreTraining model).\n",
      "- This IS NOT expected if you are initializing RobertaModel from the checkpoint of a model that you expect to be exactly identical (initializing a BertForSequenceClassification model from a BertForSequenceClassification model).\n",
      "Some weights of RobertaModel were not initialized from the model checkpoint at nlp-waseda/roberta-large-japanese-seq512 and are newly initialized: ['roberta.pooler.dense.bias', 'roberta.pooler.dense.weight']\n",
      "You should probably TRAIN this model on a down-stream task to be able to use it for predictions and inference.\n"
     ]
    }
   ],
   "source": [
    "model = AutoModel.from_pretrained(\"nlp-waseda/roberta-large-japanese-seq512\")"
   ]
  },
  {
   "cell_type": "code",
   "execution_count": 835,
   "metadata": {},
   "outputs": [
    {
     "name": "stdout",
     "output_type": "stream",
     "text": [
      "... encoder.layer.23.attention.self.query.weight initialized ... \n",
      "... encoder.layer.23.attention.self.query.bias initialized ... \n",
      "... encoder.layer.23.attention.self.key.weight initialized ... \n",
      "... encoder.layer.23.attention.self.key.bias initialized ... \n",
      "... encoder.layer.23.attention.self.value.weight initialized ... \n",
      "... encoder.layer.23.attention.self.value.bias initialized ... \n",
      "... encoder.layer.23.attention.output.dense.weight initialized ... \n",
      "... encoder.layer.23.attention.output.dense.bias initialized ... \n",
      "... encoder.layer.23.attention.output.LayerNorm.weight initialized ... \n",
      "... encoder.layer.23.attention.output.LayerNorm.bias initialized ... \n",
      "... encoder.layer.23.intermediate.dense.weight initialized ... \n",
      "... encoder.layer.23.intermediate.dense.bias initialized ... \n",
      "... encoder.layer.23.output.dense.weight initialized ... \n",
      "... encoder.layer.23.output.dense.bias initialized ... \n",
      "... encoder.layer.23.output.LayerNorm.weight initialized ... \n",
      "... encoder.layer.23.output.LayerNorm.bias initialized ... \n"
     ]
    }
   ],
   "source": [
    "torch_init_params_by_name(model, name=\"23\")"
   ]
  },
  {
   "cell_type": "code",
   "execution_count": 838,
   "metadata": {},
   "outputs": [
    {
     "name": "stdout",
     "output_type": "stream",
     "text": [
      "... encoder.layer.23.attention.self.query.weight freezed ... \n",
      "... encoder.layer.23.attention.self.query.bias freezed ... \n",
      "... encoder.layer.23.attention.self.key.weight freezed ... \n",
      "... encoder.layer.23.attention.self.key.bias freezed ... \n",
      "... encoder.layer.23.attention.self.value.weight freezed ... \n",
      "... encoder.layer.23.attention.self.value.bias freezed ... \n",
      "... encoder.layer.23.attention.output.dense.weight freezed ... \n",
      "... encoder.layer.23.attention.output.dense.bias freezed ... \n",
      "... encoder.layer.23.attention.output.LayerNorm.weight freezed ... \n",
      "... encoder.layer.23.attention.output.LayerNorm.bias freezed ... \n",
      "... encoder.layer.23.intermediate.dense.weight freezed ... \n",
      "... encoder.layer.23.intermediate.dense.bias freezed ... \n",
      "... encoder.layer.23.output.dense.weight freezed ... \n",
      "... encoder.layer.23.output.dense.bias freezed ... \n",
      "... encoder.layer.23.output.LayerNorm.weight freezed ... \n",
      "... encoder.layer.23.output.LayerNorm.bias freezed ... \n"
     ]
    }
   ],
   "source": [
    "torch_freeze_params_by_name(model, name=\"23\")"
   ]
  },
  {
   "cell_type": "code",
   "execution_count": 839,
   "metadata": {},
   "outputs": [
    {
     "data": {
      "text/plain": [
       "================================================================================\n",
       "Layer (type:depth-idx)                                  Param #\n",
       "================================================================================\n",
       "RobertaModel                                            --\n",
       "├─RobertaEmbeddings: 1-1                                --\n",
       "│    └─Embedding: 2-1                                   32,768,000\n",
       "│    └─Embedding: 2-2                                   526,336\n",
       "│    └─Embedding: 2-3                                   2,048\n",
       "│    └─LayerNorm: 2-4                                   2,048\n",
       "│    └─Dropout: 2-5                                     --\n",
       "├─RobertaEncoder: 1-2                                   --\n",
       "│    └─ModuleList: 2-6                                  --\n",
       "│    │    └─RobertaLayer: 3-1                           12,596,224\n",
       "│    │    └─RobertaLayer: 3-2                           12,596,224\n",
       "│    │    └─RobertaLayer: 3-3                           12,596,224\n",
       "│    │    └─RobertaLayer: 3-4                           12,596,224\n",
       "│    │    └─RobertaLayer: 3-5                           12,596,224\n",
       "│    │    └─RobertaLayer: 3-6                           12,596,224\n",
       "│    │    └─RobertaLayer: 3-7                           12,596,224\n",
       "│    │    └─RobertaLayer: 3-8                           12,596,224\n",
       "│    │    └─RobertaLayer: 3-9                           12,596,224\n",
       "│    │    └─RobertaLayer: 3-10                          12,596,224\n",
       "│    │    └─RobertaLayer: 3-11                          12,596,224\n",
       "│    │    └─RobertaLayer: 3-12                          12,596,224\n",
       "│    │    └─RobertaLayer: 3-13                          12,596,224\n",
       "│    │    └─RobertaLayer: 3-14                          12,596,224\n",
       "│    │    └─RobertaLayer: 3-15                          12,596,224\n",
       "│    │    └─RobertaLayer: 3-16                          12,596,224\n",
       "│    │    └─RobertaLayer: 3-17                          12,596,224\n",
       "│    │    └─RobertaLayer: 3-18                          12,596,224\n",
       "│    │    └─RobertaLayer: 3-19                          12,596,224\n",
       "│    │    └─RobertaLayer: 3-20                          12,596,224\n",
       "│    │    └─RobertaLayer: 3-21                          12,596,224\n",
       "│    │    └─RobertaLayer: 3-22                          12,596,224\n",
       "│    │    └─RobertaLayer: 3-23                          12,596,224\n",
       "│    │    └─RobertaLayer: 3-24                          (12,596,224)\n",
       "├─RobertaPooler: 1-3                                    --\n",
       "│    └─Linear: 2-7                                      1,049,600\n",
       "│    └─Tanh: 2-8                                        --\n",
       "================================================================================\n",
       "Total params: 336,657,408\n",
       "Trainable params: 324,061,184\n",
       "Non-trainable params: 12,596,224\n",
       "================================================================================"
      ]
     },
     "execution_count": 839,
     "metadata": {},
     "output_type": "execute_result"
    }
   ],
   "source": [
    "summary(model)"
   ]
  },
  {
   "cell_type": "code",
   "execution_count": 840,
   "metadata": {},
   "outputs": [
    {
     "data": {
      "text/plain": [
       "tensor([[0., 0., 0.,  ..., 0., 0., 0.],\n",
       "        [0., 0., 0.,  ..., 0., 0., 0.],\n",
       "        [0., 0., 0.,  ..., 0., 0., 0.],\n",
       "        ...,\n",
       "        [0., 0., 0.,  ..., 0., 0., 0.],\n",
       "        [0., 0., 0.,  ..., 0., 0., 0.],\n",
       "        [0., 0., 0.,  ..., 0., 0., 0.]])"
      ]
     },
     "execution_count": 840,
     "metadata": {},
     "output_type": "execute_result"
    }
   ],
   "source": [
    "model.state_dict()[\"encoder.layer.23.output.dense.weight\"]"
   ]
  },
  {
   "cell_type": "code",
   "execution_count": null,
   "metadata": {},
   "outputs": [],
   "source": []
  }
 ],
 "metadata": {
  "kernelspec": {
   "display_name": "Python 3.9.6 ('.venv': poetry)",
   "language": "python",
   "name": "python3"
  },
  "language_info": {
   "codemirror_mode": {
    "name": "ipython",
    "version": 3
   },
   "file_extension": ".py",
   "mimetype": "text/x-python",
   "name": "python",
   "nbconvert_exporter": "python",
   "pygments_lexer": "ipython3",
   "version": "3.9.6"
  },
  "orig_nbformat": 4,
  "vscode": {
   "interpreter": {
    "hash": "f007669f58917ef828e563fe3b1481c9ee4c6d5364b91c467fc73ebe5072978b"
   }
  }
 },
 "nbformat": 4,
 "nbformat_minor": 2
}
