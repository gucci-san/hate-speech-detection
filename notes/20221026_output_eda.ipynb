{
 "cells": [
  {
   "cell_type": "markdown",
   "metadata": {},
   "source": [
    "### これまでの結果とoriginal_textを見て検討するnotebook"
   ]
  },
  {
   "cell_type": "code",
   "execution_count": 1,
   "metadata": {},
   "outputs": [
    {
     "name": "stdout",
     "output_type": "stream",
     "text": [
      "INFO: Pandarallel will run on 8 workers.\n",
      "INFO: Pandarallel will use Memory file system to transfer data between the main process and workers.\n",
      "\n",
      "****** SEED fixed : 42 ******\n",
      "\n",
      "\n"
     ]
    }
   ],
   "source": [
    "import pandas as pd\n",
    "import numpy as np\n",
    "import matplotlib.pyplot as plt\n",
    "import seaborn as sns; sns.set()\n",
    "\n",
    "from config import *\n",
    "from bert_utils import *"
   ]
  },
  {
   "cell_type": "markdown",
   "metadata": {},
   "source": [
    "### データ読み込み --"
   ]
  },
  {
   "cell_type": "code",
   "execution_count": 2,
   "metadata": {},
   "outputs": [],
   "source": [
    "train = {\n",
    "    \"raw\": pd.read_feather(\"input/dataset_with_original_text/train_with_original_text.feather\"),\n",
    "    \"best\": pd.read_feather(\"/mnt/sdb/NISHIKA_DATA/hate-speech-detection/output/roberta_large_cat4_fold8/train_df.feather\"),\n",
    "    \"org1\": pd.read_feather(\"output/roberta_large_cat4_org_batch16_acc2_fold8/train_df.feather\"),\n",
    "}"
   ]
  },
  {
   "cell_type": "code",
   "execution_count": 3,
   "metadata": {},
   "outputs": [],
   "source": [
    "test = {\n",
    "    \"raw\": pd.read_feather(\"input/dataset_with_original_text/test_with_original_text.feather\"),\n",
    "    \"best\": pd.read_feather(\"/mnt/sdb/NISHIKA_DATA/hate-speech-detection/output/roberta_large_cat4_fold8/test_df.feather\"),\n",
    "    \"org1\": pd.read_feather(\"output/roberta_large_cat4_org_batch16_acc2_fold8/test_df.feather\"),\n",
    "}"
   ]
  },
  {
   "cell_type": "markdown",
   "metadata": {},
   "source": [
    "### まず、max_len == 76になってない？ --\n",
    "* というより、original_textがclean_textに入ってない気がしますね"
   ]
  },
  {
   "cell_type": "code",
   "execution_count": 4,
   "metadata": {},
   "outputs": [
    {
     "name": "stdout",
     "output_type": "stream",
     "text": [
      "'女 は 精子 が なくて も 男 は 卵子 が なくて も 産める と は おもう 現 段階 でも 倫理 観 が 人間 の 進歩 を 疎外 して る の か な'\n",
      "'女は精子がなくても\\n男は卵子がなくても産めるとはおもう現段階でも\\n倫理観が人間の進歩を疎外してるのかな'\n",
      "'女は精子がなくても __BR__ 男は卵子がなくても産めるとはおもう現段階でも __BR__ 倫理観が人間の進歩を疎外してるのかな\\tいやそれ人類の進歩じゃねーだろ __BR__ それに医療倫理は私達自身をまもってるんだよ？\\t人間の体にメスを入れた人間はそんなこと気にして無かったと思うわ\\n'\n"
     ]
    }
   ],
   "source": [
    "i = 10\n",
    "print(repr(train[\"org1\"].loc[i, \"clean_text\"]))\n",
    "print(repr(train[\"org1\"].loc[i, \"text\"]))\n",
    "print(repr(train[\"org1\"].loc[i, \"original_text\"]))"
   ]
  },
  {
   "cell_type": "markdown",
   "metadata": {},
   "source": [
    "### tokenizeまでを追ってみる --"
   ]
  },
  {
   "cell_type": "code",
   "execution_count": 5,
   "metadata": {},
   "outputs": [],
   "source": [
    "df, train_shape = prepare_dataframe(train_data=\"raw_original_text\")\n",
    "df = df.head(100)\n",
    "df[\"label\"] = 0\n",
    "train_shape = 20"
   ]
  },
  {
   "cell_type": "code",
   "execution_count": 6,
   "metadata": {},
   "outputs": [
    {
     "name": "stdout",
     "output_type": "stream",
     "text": [
      "\u001b[33m... ... Process -> raw_original_text\u001b[39m\n"
     ]
    },
    {
     "data": {
      "application/vnd.jupyter.widget-view+json": {
       "model_id": "3bd75414426b474fb6a70a77f48940e6",
       "version_major": 2,
       "version_minor": 0
      },
      "text/plain": [
       "VBox(children=(HBox(children=(IntProgress(value=0, description='0.00%', max=13), Label(value='0 / 13'))), HBox…"
      ]
     },
     "metadata": {},
     "output_type": "display_data"
    }
   ],
   "source": [
    "train_df, test_df = preprocess_text(df, train_shape, \"nlp-waseda/roberta-large-japanese-seq512\", train_data=\"raw_original_text\")"
   ]
  },
  {
   "cell_type": "code",
   "execution_count": 9,
   "metadata": {},
   "outputs": [
    {
     "data": {
      "text/plain": [
       "'女 は 精子 が なくて も 男 は 卵子 が なくて も 産める と は おもう 現 段階 でも 倫理 観 が 人間 の 進歩 を 疎外 して る の か な [SEP] いや それ 人類 の 進歩 じゃ ねー だろ それ に 医療 倫理 は 私 達 自身 を まもって る んだ よ ? [SEP] 人間 の 体 に メス を 入れた 人間 は そんな こと 気 に して 無かった と 思う わ'"
      ]
     },
     "execution_count": 9,
     "metadata": {},
     "output_type": "execute_result"
    }
   ],
   "source": [
    "train_df[\"clean_text\"][10]"
   ]
  },
  {
   "cell_type": "markdown",
   "metadata": {},
   "source": [
    "* original_textの処理がうまいこといってなかったです\n",
    "* とりあえずそれ使ってサブミットしてみてかな〜\n"
   ]
  },
  {
   "cell_type": "markdown",
   "metadata": {},
   "source": [
    "* やってみた"
   ]
  },
  {
   "cell_type": "code",
   "execution_count": 6,
   "metadata": {},
   "outputs": [],
   "source": [
    "import pandas as pd\n",
    "tt = pd.read_feather(\"/mnt/sdb/NISHIKA_DATA/hate-speech-detection/output/roberta_large_cat4_org_batch16_acc2_fold8/train_df.feather\")"
   ]
  },
  {
   "cell_type": "code",
   "execution_count": 8,
   "metadata": {},
   "outputs": [
    {
     "data": {
      "text/plain": [
       "'女 は 精子 が なくて も 男 は 卵子 が なくて も 産める と は おもう 現 段階 でも 倫理 観 が 人間 の 進歩 を 疎外 して る の か な [SEP] いや それ 人類 の 進歩 じゃ ねー だろ それ に 医療 倫理 は 私 達 自身 を まもって る んだ よ ? [SEP] 人間 の 体 に メス を 入れた 人間 は そんな こと 気 に して 無かった と 思う わ'"
      ]
     },
     "execution_count": 8,
     "metadata": {},
     "output_type": "execute_result"
    }
   ],
   "source": [
    "# ok --\n",
    "tt[\"clean_text\"][10]"
   ]
  },
  {
   "cell_type": "code",
   "execution_count": null,
   "metadata": {},
   "outputs": [],
   "source": []
  }
 ],
 "metadata": {
  "kernelspec": {
   "display_name": "Python 3.9.6 ('.venv': poetry)",
   "language": "python",
   "name": "python3"
  },
  "language_info": {
   "codemirror_mode": {
    "name": "ipython",
    "version": 3
   },
   "file_extension": ".py",
   "mimetype": "text/x-python",
   "name": "python",
   "nbconvert_exporter": "python",
   "pygments_lexer": "ipython3",
   "version": "3.9.6"
  },
  "orig_nbformat": 4,
  "vscode": {
   "interpreter": {
    "hash": "f007669f58917ef828e563fe3b1481c9ee4c6d5364b91c467fc73ebe5072978b"
   }
  }
 },
 "nbformat": 4,
 "nbformat_minor": 2
}
