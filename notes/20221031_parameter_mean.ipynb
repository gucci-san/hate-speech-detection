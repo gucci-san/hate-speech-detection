{
 "cells": [
  {
   "cell_type": "markdown",
   "metadata": {},
   "source": [
    "### 10/31, torchのmodel.parameter()をうまいこと平均できないか? --"
   ]
  },
  {
   "cell_type": "code",
   "execution_count": 1,
   "metadata": {},
   "outputs": [],
   "source": [
    "import torch\n",
    "import torch.nn as nn"
   ]
  },
  {
   "cell_type": "code",
   "execution_count": 2,
   "metadata": {},
   "outputs": [],
   "source": [
    "m1 = nn.Linear(2, 1)\n",
    "m2 = nn.Linear(2, 1)"
   ]
  },
  {
   "cell_type": "code",
   "execution_count": 3,
   "metadata": {},
   "outputs": [
    {
     "data": {
      "text/plain": [
       "OrderedDict([('weight', tensor([[0.6651, 0.2616]])),\n",
       "             ('bias', tensor([0.2608]))])"
      ]
     },
     "execution_count": 3,
     "metadata": {},
     "output_type": "execute_result"
    }
   ],
   "source": [
    "m1.state_dict()"
   ]
  },
  {
   "cell_type": "code",
   "execution_count": 4,
   "metadata": {},
   "outputs": [
    {
     "data": {
      "text/plain": [
       "OrderedDict([('weight', tensor([[ 0.3877, -0.4895]])),\n",
       "             ('bias', tensor([0.5007]))])"
      ]
     },
     "execution_count": 4,
     "metadata": {},
     "output_type": "execute_result"
    }
   ],
   "source": [
    "m2.state_dict()"
   ]
  },
  {
   "cell_type": "code",
   "execution_count": 5,
   "metadata": {},
   "outputs": [
    {
     "data": {
      "text/plain": [
       "Parameter containing:\n",
       "tensor([0.], requires_grad=True)"
      ]
     },
     "execution_count": 5,
     "metadata": {},
     "output_type": "execute_result"
    }
   ],
   "source": [
    "m3 = nn.Linear(2, 1)\n",
    "nn.init.zeros_(list(m3.parameters())[0])\n",
    "nn.init.zeros_(list(m3.parameters())[1])"
   ]
  },
  {
   "cell_type": "code",
   "execution_count": 6,
   "metadata": {},
   "outputs": [
    {
     "data": {
      "text/plain": [
       "OrderedDict([('weight', tensor([[0., 0.]])), ('bias', tensor([0.]))])"
      ]
     },
     "execution_count": 6,
     "metadata": {},
     "output_type": "execute_result"
    }
   ],
   "source": [
    "m3.state_dict()"
   ]
  },
  {
   "cell_type": "markdown",
   "metadata": {},
   "source": [
    "### これは無理"
   ]
  },
  {
   "cell_type": "code",
   "execution_count": 7,
   "metadata": {},
   "outputs": [],
   "source": [
    "for param_id, param in enumerate(list(m3.parameters())):\n",
    "    list(m3.parameters())[param_id] = list(m1.parameters())[param_id] + list(m2.parameters())[param_id]"
   ]
  },
  {
   "cell_type": "code",
   "execution_count": 8,
   "metadata": {},
   "outputs": [
    {
     "data": {
      "text/plain": [
       "OrderedDict([('weight', tensor([[0., 0.]])), ('bias', tensor([0.]))])"
      ]
     },
     "execution_count": 8,
     "metadata": {},
     "output_type": "execute_result"
    }
   ],
   "source": [
    "m3.state_dict()"
   ]
  },
  {
   "cell_type": "markdown",
   "metadata": {},
   "source": [
    "### これはいける"
   ]
  },
  {
   "cell_type": "code",
   "execution_count": 9,
   "metadata": {},
   "outputs": [],
   "source": [
    "def state_dict_divider(state_dict, div=2):\n",
    "    \"\"\"state_dictの値を割り算する関数\"\"\"\n",
    "    for key in state_dict.keys():\n",
    "        state_dict[key] /= float(div)\n",
    "\n",
    "    return state_dict"
   ]
  },
  {
   "cell_type": "code",
   "execution_count": 10,
   "metadata": {},
   "outputs": [
    {
     "data": {
      "text/plain": [
       "OrderedDict([('weight', tensor([[0.6651, 0.2616]])),\n",
       "             ('bias', tensor([0.2608]))])"
      ]
     },
     "execution_count": 10,
     "metadata": {},
     "output_type": "execute_result"
    }
   ],
   "source": [
    "avg_state_dict = m1.state_dict()\n",
    "avg_state_dict"
   ]
  },
  {
   "cell_type": "code",
   "execution_count": 11,
   "metadata": {},
   "outputs": [],
   "source": [
    "for key in avg_state_dict.keys():\n",
    "    avg_state_dict[key] += m2.state_dict()[key]"
   ]
  },
  {
   "cell_type": "code",
   "execution_count": 12,
   "metadata": {},
   "outputs": [],
   "source": [
    "avg_state_dict = state_dict_divider(avg_state_dict, div=2)"
   ]
  },
  {
   "cell_type": "code",
   "execution_count": 13,
   "metadata": {},
   "outputs": [
    {
     "data": {
      "text/plain": [
       "OrderedDict([('weight', tensor([[ 0.5264, -0.1140]])),\n",
       "             ('bias', tensor([0.3807]))])"
      ]
     },
     "execution_count": 13,
     "metadata": {},
     "output_type": "execute_result"
    }
   ],
   "source": [
    "avg_state_dict"
   ]
  },
  {
   "cell_type": "code",
   "execution_count": 14,
   "metadata": {},
   "outputs": [
    {
     "data": {
      "text/plain": [
       "<All keys matched successfully>"
      ]
     },
     "execution_count": 14,
     "metadata": {},
     "output_type": "execute_result"
    }
   ],
   "source": [
    "m3.load_state_dict(avg_state_dict)"
   ]
  },
  {
   "cell_type": "code",
   "execution_count": 15,
   "metadata": {},
   "outputs": [
    {
     "data": {
      "text/plain": [
       "OrderedDict([('weight', tensor([[ 0.5264, -0.1140]])),\n",
       "             ('bias', tensor([0.3807]))])"
      ]
     },
     "execution_count": 15,
     "metadata": {},
     "output_type": "execute_result"
    }
   ],
   "source": [
    "m3.state_dict()"
   ]
  },
  {
   "cell_type": "markdown",
   "metadata": {},
   "source": [
    "### BERT部分でmean取っていいやつとそうでないやつがありそう\n",
    "* position_idsは明らかにintが入ってる"
   ]
  },
  {
   "cell_type": "markdown",
   "metadata": {},
   "source": [
    "### folds-meanを結果meanじゃなくてパラメータmeanで取れば安くなる"
   ]
  },
  {
   "cell_type": "code",
   "execution_count": 16,
   "metadata": {},
   "outputs": [],
   "source": [
    "from glob import glob"
   ]
  },
  {
   "cell_type": "code",
   "execution_count": 17,
   "metadata": {},
   "outputs": [],
   "source": [
    "model_paths = glob(\"/mnt/sdb/NISHIKA_DATA/hate-speech-detection/output/roberta-large_scheduler-warmup/*.pth\")"
   ]
  },
  {
   "cell_type": "code",
   "execution_count": 18,
   "metadata": {},
   "outputs": [],
   "source": [
    "model_paths.sort()"
   ]
  },
  {
   "cell_type": "code",
   "execution_count": 19,
   "metadata": {},
   "outputs": [
    {
     "data": {
      "text/plain": [
       "['/mnt/sdb/NISHIKA_DATA/hate-speech-detection/output/roberta-large_scheduler-warmup/model-fold0.pth',\n",
       " '/mnt/sdb/NISHIKA_DATA/hate-speech-detection/output/roberta-large_scheduler-warmup/model-fold1.pth',\n",
       " '/mnt/sdb/NISHIKA_DATA/hate-speech-detection/output/roberta-large_scheduler-warmup/model-fold2.pth',\n",
       " '/mnt/sdb/NISHIKA_DATA/hate-speech-detection/output/roberta-large_scheduler-warmup/model-fold3.pth',\n",
       " '/mnt/sdb/NISHIKA_DATA/hate-speech-detection/output/roberta-large_scheduler-warmup/model-fold4.pth',\n",
       " '/mnt/sdb/NISHIKA_DATA/hate-speech-detection/output/roberta-large_scheduler-warmup/model-mean_of_folds.pth']"
      ]
     },
     "execution_count": 19,
     "metadata": {},
     "output_type": "execute_result"
    }
   ],
   "source": [
    "model_paths"
   ]
  },
  {
   "cell_type": "code",
   "execution_count": 20,
   "metadata": {},
   "outputs": [],
   "source": [
    "# from tqdm import tqdm\n",
    "# \n",
    "# for i, path in enumerate(model_paths):\n",
    "#     if i == 0:\n",
    "#         avg_state_dict = torch.load(path)[\"model_state_dict\"]\n",
    "#         print(f\"... load {path} to set average-root ... ... \")\n",
    "#     else:\n",
    "#         print(f\"... ... key add : {path}\")\n",
    "#         for key in tqdm(avg_state_dict.keys(), total=len(avg_state_dict.keys())):\n",
    "#             if key.split(\".\")[-1] in [\"weight\", \"bias\"]:\n",
    "#                 state_dict = torch.load(path)[\"model_state_dict\"]\n",
    "#                 avg_state_dict[key] += state_dict[key]\n",
    "# "
   ]
  },
  {
   "cell_type": "code",
   "execution_count": 21,
   "metadata": {},
   "outputs": [],
   "source": [
    "def state_dict_divider(state_dict, div=2):\n",
    "    \"\"\"state_dictの値を割り算する関数\"\"\"\n",
    "    for key in state_dict.keys():\n",
    "        if key.split(\".\")[-1] in [\"weight\", \"bias\"]:\n",
    "            state_dict[key] /= float(div)\n",
    "\n",
    "    return state_dict\n",
    "\n",
    "avg_state_dict = state_dict_divider(avg_state_dict, div=len(model_paths))"
   ]
  },
  {
   "cell_type": "code",
   "execution_count": 22,
   "metadata": {},
   "outputs": [],
   "source": [
    "# torch.save(\n",
    "#     {\n",
    "#         \"model_state_dict\": avg_state_dict,\n",
    "#     },\n",
    "#     f\"/mnt/sdb/NISHIKA_DATA/hate-speech-detection/output/roberta-large_scheduler-warmup/model-mean_of_folds.pth\",\n",
    "# )"
   ]
  },
  {
   "cell_type": "markdown",
   "metadata": {},
   "source": [
    "### define"
   ]
  },
  {
   "cell_type": "code",
   "execution_count": 27,
   "metadata": {},
   "outputs": [],
   "source": [
    "from tqdm import tqdm\n",
    "\n",
    "def state_dict_divider(state_dict, div=2, target=[\"weight\", \"bias\"]):\n",
    "    \"\"\"state_dictの値を割り算する関数\"\"\"\n",
    "    for key in state_dict.keys():\n",
    "        if key.split(\".\")[-1] in target:\n",
    "            state_dict[key] /= float(div)\n",
    "\n",
    "    return state_dict\n",
    "\n",
    "def model_parameter_ensembler(model_paths: list, target=[\"weight\", \"bias\"]):\n",
    "    \"\"\".pthのリストを受け取り、その平均を返す\"\"\"\n",
    "\n",
    "    for i, path in enumerate(model_paths):\n",
    "        if i == 0:\n",
    "            avg_state_dict = torch.load(path)[\"model_state_dict\"]\n",
    "            print(f\"... load {path} to set average-root ... ... \")\n",
    "        else:\n",
    "            print(f\"... ... key add : {path}\")\n",
    "            for key in tqdm(avg_state_dict.keys(), total=len(avg_state_dict.keys())):\n",
    "                if key.split(\".\")[-1] in target:\n",
    "                    state_dict = torch.load(path)[\"model_state_dict\"]\n",
    "                    avg_state_dict[key] += state_dict[key]\n",
    "    avg_state_dict = state_dict_divider(avg_state_dict, div=len(model_paths), target=target)\n",
    "    return avg_state_dict"
   ]
  },
  {
   "cell_type": "code",
   "execution_count": 28,
   "metadata": {},
   "outputs": [
    {
     "name": "stdout",
     "output_type": "stream",
     "text": [
      "... load /mnt/sdb/NISHIKA_DATA/hate-speech-detection/output/roberta-large_scheduler-warmup/model-fold0.pth to set average-root ... ... \n",
      "... ... key add : /mnt/sdb/NISHIKA_DATA/hate-speech-detection/output/roberta-large_scheduler-warmup/model-fold1.pth\n"
     ]
    },
    {
     "name": "stderr",
     "output_type": "stream",
     "text": [
      "100%|██████████| 394/394 [02:05<00:00,  3.15it/s]\n"
     ]
    },
    {
     "name": "stdout",
     "output_type": "stream",
     "text": [
      "... ... key add : /mnt/sdb/NISHIKA_DATA/hate-speech-detection/output/roberta-large_scheduler-warmup/model-fold2.pth\n"
     ]
    },
    {
     "name": "stderr",
     "output_type": "stream",
     "text": [
      "100%|██████████| 394/394 [02:04<00:00,  3.16it/s]\n"
     ]
    },
    {
     "name": "stdout",
     "output_type": "stream",
     "text": [
      "... ... key add : /mnt/sdb/NISHIKA_DATA/hate-speech-detection/output/roberta-large_scheduler-warmup/model-fold3.pth\n"
     ]
    },
    {
     "name": "stderr",
     "output_type": "stream",
     "text": [
      "100%|██████████| 394/394 [02:03<00:00,  3.19it/s]\n"
     ]
    },
    {
     "name": "stdout",
     "output_type": "stream",
     "text": [
      "... ... key add : /mnt/sdb/NISHIKA_DATA/hate-speech-detection/output/roberta-large_scheduler-warmup/model-fold4.pth\n"
     ]
    },
    {
     "name": "stderr",
     "output_type": "stream",
     "text": [
      "100%|██████████| 394/394 [02:05<00:00,  3.14it/s]\n"
     ]
    }
   ],
   "source": [
    "avg_state_dict = model_parameter_ensembler(model_paths[0:5])"
   ]
  },
  {
   "cell_type": "code",
   "execution_count": 32,
   "metadata": {},
   "outputs": [
    {
     "data": {
      "text/plain": [
       "tensor(26.9288, device='cuda:0')"
      ]
     },
     "execution_count": 32,
     "metadata": {},
     "output_type": "execute_result"
    }
   ],
   "source": [
    "torch.sum(torch.abs(avg_state_dict[\"l2.fc.weight\"]))"
   ]
  },
  {
   "cell_type": "code",
   "execution_count": null,
   "metadata": {},
   "outputs": [],
   "source": [
    "torch.sum(torch.abs(avg_state_dict[\"l2.fc.weight\"]))"
   ]
  }
 ],
 "metadata": {
  "kernelspec": {
   "display_name": "Python 3.9.6 ('.venv': poetry)",
   "language": "python",
   "name": "python3"
  },
  "language_info": {
   "codemirror_mode": {
    "name": "ipython",
    "version": 3
   },
   "file_extension": ".py",
   "mimetype": "text/x-python",
   "name": "python",
   "nbconvert_exporter": "python",
   "pygments_lexer": "ipython3",
   "version": "3.9.6"
  },
  "orig_nbformat": 4,
  "vscode": {
   "interpreter": {
    "hash": "f007669f58917ef828e563fe3b1481c9ee4c6d5364b91c467fc73ebe5072978b"
   }
  }
 },
 "nbformat": 4,
 "nbformat_minor": 2
}
