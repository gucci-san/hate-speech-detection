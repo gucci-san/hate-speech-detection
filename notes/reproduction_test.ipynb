{
 "cells": [
  {
   "cell_type": "markdown",
   "metadata": {},
   "source": [
    "### 11/01,これからも再現性が気になることはあると思うので、再現性チェックに関するコードを作成したいと思った\n",
    "* 何をもって再現性が取れている、とするんだ？ --"
   ]
  },
  {
   "cell_type": "code",
   "execution_count": 3,
   "metadata": {},
   "outputs": [],
   "source": [
    "import pandas as pd\n",
    "import numpy as np\n",
    "import torch\n",
    "\n",
    "from glob import glob\n",
    "from tqdm import tqdm"
   ]
  },
  {
   "cell_type": "code",
   "execution_count": 4,
   "metadata": {},
   "outputs": [],
   "source": [
    "path1 = \"/mnt/sdb/NISHIKA_DATA/hate-speech-detection/output/dropout-seed_001/*.pth\"\n",
    "path2 = \"/mnt/sdb/NISHIKA_DATA/hate-speech-detection/output/dropout-seed_002/*.pth\""
   ]
  },
  {
   "cell_type": "code",
   "execution_count": 9,
   "metadata": {},
   "outputs": [],
   "source": [
    "model_paths1 = glob(path1)\n",
    "model_paths2 = glob(path2)\n",
    "model_paths1.sort()\n",
    "model_paths2.sort()"
   ]
  },
  {
   "cell_type": "code",
   "execution_count": 10,
   "metadata": {},
   "outputs": [
    {
     "data": {
      "text/plain": [
       "['/mnt/sdb/NISHIKA_DATA/hate-speech-detection/output/dropout-seed_001/checkpoint-fold0.pth',\n",
       " '/mnt/sdb/NISHIKA_DATA/hate-speech-detection/output/dropout-seed_001/checkpoint-fold1.pth']"
      ]
     },
     "execution_count": 10,
     "metadata": {},
     "output_type": "execute_result"
    }
   ],
   "source": [
    "model_paths1"
   ]
  },
  {
   "cell_type": "code",
   "execution_count": 11,
   "metadata": {},
   "outputs": [
    {
     "data": {
      "text/plain": [
       "['/mnt/sdb/NISHIKA_DATA/hate-speech-detection/output/dropout-seed_002/checkpoint-fold0.pth',\n",
       " '/mnt/sdb/NISHIKA_DATA/hate-speech-detection/output/dropout-seed_002/checkpoint-fold1.pth']"
      ]
     },
     "execution_count": 11,
     "metadata": {},
     "output_type": "execute_result"
    }
   ],
   "source": [
    "model_paths2"
   ]
  },
  {
   "cell_type": "code",
   "execution_count": 13,
   "metadata": {},
   "outputs": [],
   "source": [
    "fold = 0\n",
    "m1 = torch.load(model_paths1[fold])[\"model_state_dict\"]\n",
    "m2 = torch.load(model_paths2[fold])[\"model_state_dict\"]"
   ]
  },
  {
   "cell_type": "code",
   "execution_count": 46,
   "metadata": {},
   "outputs": [
    {
     "data": {
      "text/plain": [
       "tensor([0., 0., 0.,  ..., 0., 0., 0.], device='cuda:0')"
      ]
     },
     "execution_count": 46,
     "metadata": {},
     "output_type": "execute_result"
    }
   ],
   "source": [
    "torch.nn.init.zeros_(m2[\"l1.embeddings.LayerNorm.bias\"])"
   ]
  },
  {
   "cell_type": "code",
   "execution_count": 74,
   "metadata": {},
   "outputs": [],
   "source": [
    "from typing import OrderedDict\n",
    "from colorama import Fore\n",
    "g_ = Fore.GREEN\n",
    "y_ = Fore.YELLOW\n",
    "r_ = Fore.RED\n",
    "sr_ = Fore.RESET\n",
    "\n",
    "def torch_parameter_compare(m1_path:str, m2_path:str) -> list:\n",
    "    \"\"\"2つのpthのパスを受け取り、state_dictの各キーごとにtensorの値が一致するかどうかを確認する関数\"\"\"\n",
    "    print(f\"Compare with\")\n",
    "    print(f\"    --> {m1_path}\")\n",
    "    print(f\"    --> {m2_path}\")\n",
    "\n",
    "    # pthのロード --\n",
    "    m1 = torch.load(m1_path)[\"model_state_dict\"]\n",
    "    m2 = torch.load(m2_path)[\"model_state_dict\"]\n",
    "\n",
    "    # そもそもkeyが完全一致しなければ計算しない, modelのstructureを確認してほしい --\n",
    "    assert (len(set(m1.keys()) - set(m2.keys())) == 0), \"... m1.keys() vs m2.keys() dosen't match ...\"\n",
    "\n",
    "    # 各キーごとにtensorを比較する --\n",
    "    unmatched_keys = []\n",
    "    for key in m1.keys():\n",
    "        key_matches = torch.eq(m1[key], m2[key]).all().item()\n",
    "        if not key_matches:\n",
    "            print(f\"{g_}{key} --> {r_}{key_matches}{sr_}\")\n",
    "            unmatched_keys.append(key)\n",
    "\n",
    "    if len(unmatched_keys) == 0:\n",
    "        print(f\"{g_}        --> All keys matched ... {sr_}\")\n",
    "    else:\n",
    "        print(f\"{y_}        --> Some keys unmatched : {unmatched_keys} {sr_}\")\n",
    "    \n",
    "    return unmatched_keys"
   ]
  },
  {
   "cell_type": "code",
   "execution_count": 75,
   "metadata": {},
   "outputs": [
    {
     "name": "stdout",
     "output_type": "stream",
     "text": [
      "Compare with\n",
      "    --> /mnt/sdb/NISHIKA_DATA/hate-speech-detection/output/dropout-seed_001/checkpoint-fold0.pth\n",
      "    --> /mnt/sdb/NISHIKA_DATA/hate-speech-detection/output/dropout-seed_002/checkpoint-fold0.pth\n",
      "\u001b[32m        --> All keys matched ... \u001b[39m\n",
      "Compare with\n",
      "    --> /mnt/sdb/NISHIKA_DATA/hate-speech-detection/output/dropout-seed_001/checkpoint-fold1.pth\n",
      "    --> /mnt/sdb/NISHIKA_DATA/hate-speech-detection/output/dropout-seed_002/checkpoint-fold1.pth\n",
      "\u001b[32m        --> All keys matched ... \u001b[39m\n"
     ]
    }
   ],
   "source": [
    "for fold in range(0, 2):\n",
    "    _ = torch_parameter_compare(\n",
    "        model_paths1[fold], \n",
    "        model_paths2[fold]\n",
    "        )"
   ]
  },
  {
   "cell_type": "code",
   "execution_count": null,
   "metadata": {},
   "outputs": [],
   "source": []
  }
 ],
 "metadata": {
  "kernelspec": {
   "display_name": "Python 3.9.6 ('.venv': poetry)",
   "language": "python",
   "name": "python3"
  },
  "language_info": {
   "codemirror_mode": {
    "name": "ipython",
    "version": 3
   },
   "file_extension": ".py",
   "mimetype": "text/x-python",
   "name": "python",
   "nbconvert_exporter": "python",
   "pygments_lexer": "ipython3",
   "version": "3.9.6"
  },
  "orig_nbformat": 4,
  "vscode": {
   "interpreter": {
    "hash": "f007669f58917ef828e563fe3b1481c9ee4c6d5364b91c467fc73ebe5072978b"
   }
  }
 },
 "nbformat": 4,
 "nbformat_minor": 2
}
