{
 "cells": [
  {
   "cell_type": "code",
   "execution_count": 1,
   "metadata": {},
   "outputs": [
    {
     "name": "stdout",
     "output_type": "stream",
     "text": [
      "INFO: Pandarallel will run on 8 workers.\n",
      "INFO: Pandarallel will use Memory file system to transfer data between the main process and workers.\n",
      "\n",
      "****** SEED fixed : 42 ******\n",
      "\n",
      "\n",
      "INFO: Pandarallel will run on 8 workers.\n",
      "INFO: Pandarallel will use Memory file system to transfer data between the main process and workers.\n"
     ]
    }
   ],
   "source": [
    "import pandas as pd\n",
    "import numpy as np\n",
    "\n",
    "from sentence_transformers import SentenceTransformer\n",
    "from sentence_transformers.util import pytorch_cos_sim\n",
    "model = SentenceTransformer(\"stsb-xlm-r-multilingual\")\n",
    "\n",
    "from glob import glob\n",
    "from bert_utils import *\n",
    "from config import *\n",
    "\n",
    "from pandarallel import pandarallel\n",
    "pandarallel.initialize(progress_bar=True)"
   ]
  },
  {
   "cell_type": "code",
   "execution_count": 2,
   "metadata": {},
   "outputs": [],
   "source": [
    "train = pd.read_csv(data_path+\"train.csv\")\n",
    "test = pd.read_csv(data_path+\"test.csv\")\n",
    "df = pd.concat([train, test]).reset_index(drop=True)\n",
    "train_shape = train.shape[0]\n",
    "df[\"clean_text\"] = df[\"text\"].map(lambda x: clean_text(x))"
   ]
  },
  {
   "cell_type": "code",
   "execution_count": 3,
   "metadata": {},
   "outputs": [
    {
     "name": "stdout",
     "output_type": "stream",
     "text": [
      "\u001b[33m['./input/news4vip.feather', './input/newsplus.feather', './input/livejupiter.feather']\u001b[39m\n"
     ]
    }
   ],
   "source": [
    "# 対象とするデータの読み込み --\n",
    "corpus_paths = glob(f\"{input_root}*.feather\")\n",
    "Debug_print(corpus_paths)\n",
    "\n",
    "corpus_dfs = []\n",
    "for corpus_path in corpus_paths:\n",
    "    _df = pd.read_feather(corpus_path)\n",
    "    _df = _df.reset_index(drop=False, names=\"id\")\n",
    "    _df[\"id\"] = corpus_path.split(\"/\")[-1].split(\".\")[0] + \"_\" + _df[\"id\"].astype(str)\n",
    "    corpus_dfs.append(_df)\n",
    "corpus_df = pd.concat(corpus_dfs)"
   ]
  },
  {
   "cell_type": "code",
   "execution_count": 4,
   "metadata": {},
   "outputs": [],
   "source": [
    "df_embeddings = model.encode(df[\"clean_text\"].values)"
   ]
  },
  {
   "cell_type": "code",
   "execution_count": 5,
   "metadata": {},
   "outputs": [],
   "source": [
    "#corpus_embeddings = model.encode(corpus_df[\"clean_text\"].values)"
   ]
  },
  {
   "cell_type": "code",
   "execution_count": 6,
   "metadata": {},
   "outputs": [
    {
     "data": {
      "text/plain": [
       "torch.Size([1, 768])"
      ]
     },
     "execution_count": 6,
     "metadata": {},
     "output_type": "execute_result"
    }
   ],
   "source": [
    "sentences = [\n",
    "    \"私はうさぎです\",\n",
    "]\n",
    "targets = model.encode(sentences, convert_to_tensor=True)\n",
    "targets.shape"
   ]
  },
  {
   "cell_type": "code",
   "execution_count": 7,
   "metadata": {},
   "outputs": [],
   "source": [
    "sentence = \"僕はクマ\"\n",
    "emb = model.encode(sentence, convert_to_tensor=True)"
   ]
  },
  {
   "cell_type": "code",
   "execution_count": 8,
   "metadata": {},
   "outputs": [],
   "source": [
    "scores = pytorch_cos_sim(emb, targets)"
   ]
  },
  {
   "cell_type": "code",
   "execution_count": 9,
   "metadata": {},
   "outputs": [
    {
     "data": {
      "text/plain": [
       "tensor([[0.4201]], device='cuda:0')"
      ]
     },
     "execution_count": 9,
     "metadata": {},
     "output_type": "execute_result"
    }
   ],
   "source": [
    "scores"
   ]
  },
  {
   "cell_type": "markdown",
   "metadata": {},
   "source": [
    "### 並列化下書き --"
   ]
  },
  {
   "cell_type": "code",
   "execution_count": 10,
   "metadata": {},
   "outputs": [],
   "source": [
    "def task(_n):\n",
    "    s = 0\n",
    "    for i in range(1, _n+1):\n",
    "        s += i\n",
    "        time.sleep(0.1)\n",
    "    return s"
   ]
  },
  {
   "cell_type": "code",
   "execution_count": 11,
   "metadata": {},
   "outputs": [
    {
     "name": "stdout",
     "output_type": "stream",
     "text": [
      "5.508\n"
     ]
    }
   ],
   "source": [
    "ns = list(np.arange(1, 11))\n",
    "start = time.time()\n",
    "\n",
    "sms_single = []\n",
    "for n in ns:\n",
    "    sms_single.append(task(n))\n",
    "\n",
    "end = time.time()\n",
    "delta = end - start\n",
    "print(np.round(delta, 3))"
   ]
  },
  {
   "cell_type": "markdown",
   "metadata": {},
   "source": [
    "* 並行処理（マルチスレッド）"
   ]
  },
  {
   "cell_type": "code",
   "execution_count": 12,
   "metadata": {},
   "outputs": [
    {
     "name": "stdout",
     "output_type": "stream",
     "text": [
      "1.204\n"
     ]
    }
   ],
   "source": [
    "from concurrent.futures import ThreadPoolExecutor\n",
    "\n",
    "start = time.time()\n",
    "\n",
    "with ThreadPoolExecutor(8) as e:\n",
    "    ret = e.map(task, ns)\n",
    "sms_multi = [r for r in ret]\n",
    "\n",
    "end = time.time()\n",
    "delta = end - start\n",
    "print(np.round(delta, 3))"
   ]
  },
  {
   "cell_type": "markdown",
   "metadata": {},
   "source": [
    "* 並列処理（マルチプロセス）"
   ]
  },
  {
   "cell_type": "code",
   "execution_count": 13,
   "metadata": {},
   "outputs": [
    {
     "name": "stdout",
     "output_type": "stream",
     "text": [
      "1.859\n"
     ]
    }
   ],
   "source": [
    "from concurrent.futures import ProcessPoolExecutor\n",
    "\n",
    "start = time.time()\n",
    "\n",
    "with ProcessPoolExecutor(16) as e:\n",
    "    ret = e.map(task, ns)\n",
    "sms_multi = [r for r in ret]\n",
    "\n",
    "end = time.time()\n",
    "delta = end - start\n",
    "print(np.round(delta, 3))"
   ]
  },
  {
   "cell_type": "code",
   "execution_count": 14,
   "metadata": {},
   "outputs": [],
   "source": [
    "df_embeddings = model.encode(df[\"clean_text\"].values, convert_to_tensor=False)"
   ]
  },
  {
   "cell_type": "code",
   "execution_count": 19,
   "metadata": {},
   "outputs": [],
   "source": [
    "def sentence_bert_embedding(text):\n",
    "    model = SentenceTransformer(\"stsb-xlm-r-multilingual\")\n",
    "    return model.encode(text, convert_to_tensor=True)"
   ]
  },
  {
   "cell_type": "code",
   "execution_count": 20,
   "metadata": {},
   "outputs": [],
   "source": [
    "with ProcessPoolExecutor(16) as e:\n",
    "    ret = e.map(sentence_bert_embedding, df[\"clean_text\"].values)\n",
    "df_embeddings_multi = [r for r in ret]"
   ]
  },
  {
   "cell_type": "code",
   "execution_count": null,
   "metadata": {},
   "outputs": [],
   "source": []
  }
 ],
 "metadata": {
  "interpreter": {
   "hash": "f007669f58917ef828e563fe3b1481c9ee4c6d5364b91c467fc73ebe5072978b"
  },
  "kernelspec": {
   "display_name": "Python 3.9.6 ('.venv': poetry)",
   "language": "python",
   "name": "python3"
  },
  "language_info": {
   "codemirror_mode": {
    "name": "ipython",
    "version": 3
   },
   "file_extension": ".py",
   "mimetype": "text/x-python",
   "name": "python",
   "nbconvert_exporter": "python",
   "pygments_lexer": "ipython3",
   "version": "3.9.6"
  },
  "orig_nbformat": 4
 },
 "nbformat": 4,
 "nbformat_minor": 2
}
