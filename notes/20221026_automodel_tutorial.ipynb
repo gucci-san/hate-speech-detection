{
 "cells": [
  {
   "cell_type": "markdown",
   "metadata": {},
   "source": [
    "## Automodelを列挙していく\n",
    "\n",
    "* https://engineering.mobalab.net/2021/01/29/bert%E3%81%AE%E3%83%A2%E3%83%87%E3%83%AB%E6%A7%8B%E9%80%A0%E3%82%92%E3%82%82%E3%81%86%E5%B0%91%E3%81%97%E8%A9%B3%E3%81%97%E3%81%8F/"
   ]
  },
  {
   "cell_type": "code",
   "execution_count": 20,
   "metadata": {},
   "outputs": [],
   "source": [
    "import torch\n",
    "from transformers import AutoConfig, AutoModel\n",
    "from torchinfo import summary\n",
    "\n",
    "#model_name = \"cl-tohoku/bert-base-japanese-whole-word-masking\"\n",
    "model_name = \"cl-tohoku/bert-large-japanese\""
   ]
  },
  {
   "cell_type": "markdown",
   "metadata": {},
   "source": [
    "### AutoModel (bare)"
   ]
  },
  {
   "cell_type": "code",
   "execution_count": 21,
   "metadata": {},
   "outputs": [
    {
     "name": "stderr",
     "output_type": "stream",
     "text": [
      "Some weights of the model checkpoint at cl-tohoku/bert-large-japanese were not used when initializing BertModel: ['cls.predictions.transform.dense.weight', 'cls.predictions.decoder.bias', 'cls.seq_relationship.weight', 'cls.predictions.decoder.weight', 'cls.predictions.bias', 'cls.seq_relationship.bias', 'cls.predictions.transform.LayerNorm.weight', 'cls.predictions.transform.dense.bias', 'cls.predictions.transform.LayerNorm.bias']\n",
      "- This IS expected if you are initializing BertModel from the checkpoint of a model trained on another task or with another architecture (e.g. initializing a BertForSequenceClassification model from a BertForPreTraining model).\n",
      "- This IS NOT expected if you are initializing BertModel from the checkpoint of a model that you expect to be exactly identical (initializing a BertForSequenceClassification model from a BertForSequenceClassification model).\n"
     ]
    }
   ],
   "source": [
    "m1 = AutoModel.from_pretrained(model_name)"
   ]
  },
  {
   "cell_type": "code",
   "execution_count": 22,
   "metadata": {},
   "outputs": [
    {
     "data": {
      "text/plain": [
       "====================================================================================================\n",
       "Layer (type:depth-idx)                             Output Shape              Param #\n",
       "====================================================================================================\n",
       "BertModel                                          [32, 1024]                --\n",
       "├─BertEmbeddings: 1-1                              [32, 512, 1024]           --\n",
       "│    └─Embedding: 2-1                              [32, 512, 1024]           33,554,432\n",
       "│    └─Embedding: 2-2                              [32, 512, 1024]           2,048\n",
       "│    └─Embedding: 2-3                              [1, 512, 1024]            524,288\n",
       "│    └─LayerNorm: 2-4                              [32, 512, 1024]           2,048\n",
       "│    └─Dropout: 2-5                                [32, 512, 1024]           --\n",
       "├─BertEncoder: 1-2                                 [32, 512, 1024]           --\n",
       "│    └─ModuleList: 2-6                             --                        302,309,376\n",
       "├─BertPooler: 1-3                                  [32, 1024]                --\n",
       "│    └─Linear: 2-7                                 [32, 1024]                1,049,600\n",
       "│    └─Tanh: 2-8                                   [32, 1024]                --\n",
       "====================================================================================================\n",
       "Total params: 337,441,792\n",
       "Trainable params: 337,441,792\n",
       "Non-trainable params: 0\n",
       "Total mult-adds (G): 10.78\n",
       "====================================================================================================\n",
       "Input size (MB): 0.07\n",
       "Forward/backward pass size (MB): 35840.59\n",
       "Params size (MB): 1349.77\n",
       "Estimated Total Size (MB): 37190.42\n",
       "===================================================================================================="
      ]
     },
     "execution_count": 22,
     "metadata": {},
     "output_type": "execute_result"
    }
   ],
   "source": [
    "batch_size = 32\n",
    "max_length = 512\n",
    "summary(m1, input_size=(batch_size, max_length), dtypes=[torch.int, torch.long], depth=2)"
   ]
  },
  {
   "cell_type": "markdown",
   "metadata": {},
   "source": [
    "### AutoModelForClassification\n",
    "* Bareの後ろにDropout-Linearをひっつけてるだけやね"
   ]
  },
  {
   "cell_type": "code",
   "execution_count": 23,
   "metadata": {},
   "outputs": [
    {
     "name": "stderr",
     "output_type": "stream",
     "text": [
      "Some weights of the model checkpoint at cl-tohoku/bert-large-japanese were not used when initializing BertForSequenceClassification: ['cls.predictions.transform.dense.weight', 'cls.predictions.decoder.bias', 'cls.seq_relationship.weight', 'cls.predictions.decoder.weight', 'cls.predictions.bias', 'cls.seq_relationship.bias', 'cls.predictions.transform.LayerNorm.weight', 'cls.predictions.transform.dense.bias', 'cls.predictions.transform.LayerNorm.bias']\n",
      "- This IS expected if you are initializing BertForSequenceClassification from the checkpoint of a model trained on another task or with another architecture (e.g. initializing a BertForSequenceClassification model from a BertForPreTraining model).\n",
      "- This IS NOT expected if you are initializing BertForSequenceClassification from the checkpoint of a model that you expect to be exactly identical (initializing a BertForSequenceClassification model from a BertForSequenceClassification model).\n",
      "Some weights of BertForSequenceClassification were not initialized from the model checkpoint at cl-tohoku/bert-large-japanese and are newly initialized: ['classifier.weight', 'classifier.bias']\n",
      "You should probably TRAIN this model on a down-stream task to be able to use it for predictions and inference.\n"
     ]
    }
   ],
   "source": [
    "from transformers import AutoModelForSequenceClassification\n",
    "m2 = AutoModelForSequenceClassification.from_pretrained(model_name)"
   ]
  },
  {
   "cell_type": "code",
   "execution_count": 24,
   "metadata": {},
   "outputs": [
    {
     "data": {
      "text/plain": [
       "=========================================================================================================\n",
       "Layer (type:depth-idx)                                  Output Shape              Param #\n",
       "=========================================================================================================\n",
       "BertForSequenceClassification                           [32, 2]                   --\n",
       "├─BertModel: 1-1                                        [32, 1024]                --\n",
       "│    └─BertEmbeddings: 2-1                              [32, 512, 1024]           --\n",
       "│    │    └─Embedding: 3-1                              [32, 512, 1024]           33,554,432\n",
       "│    │    └─Embedding: 3-2                              [32, 512, 1024]           2,048\n",
       "│    │    └─Embedding: 3-3                              [1, 512, 1024]            524,288\n",
       "│    │    └─LayerNorm: 3-4                              [32, 512, 1024]           2,048\n",
       "│    │    └─Dropout: 3-5                                [32, 512, 1024]           --\n",
       "│    └─BertEncoder: 2-2                                 [32, 512, 1024]           --\n",
       "│    │    └─ModuleList: 3-6                             --                        302,309,376\n",
       "│    └─BertPooler: 2-3                                  [32, 1024]                --\n",
       "│    │    └─Linear: 3-7                                 [32, 1024]                1,049,600\n",
       "│    │    └─Tanh: 3-8                                   [32, 1024]                --\n",
       "├─Dropout: 1-2                                          [32, 1024]                --\n",
       "├─Linear: 1-3                                           [32, 2]                   2,050\n",
       "=========================================================================================================\n",
       "Total params: 337,443,842\n",
       "Trainable params: 337,443,842\n",
       "Non-trainable params: 0\n",
       "Total mult-adds (G): 10.78\n",
       "=========================================================================================================\n",
       "Input size (MB): 0.07\n",
       "Forward/backward pass size (MB): 35840.59\n",
       "Params size (MB): 1349.78\n",
       "Estimated Total Size (MB): 37190.43\n",
       "========================================================================================================="
      ]
     },
     "execution_count": 24,
     "metadata": {},
     "output_type": "execute_result"
    }
   ],
   "source": [
    "summary(m2, input_size=(batch_size, max_length), dtypes=[torch.int, torch.long], depth=3)"
   ]
  },
  {
   "cell_type": "markdown",
   "metadata": {},
   "source": [
    "### AutoModelForCausalLM"
   ]
  },
  {
   "cell_type": "markdown",
   "metadata": {},
   "source": [
    "* outputのテンソル形が違う\n",
    "* This is a generic model class that will be instantiated as one of the model classes of the library.\n",
    "    * (with a causal language modeling head)\n",
    "        * CLM : Causal Language Model ... 左から右に順々に単語を予測するモデル, https://cl.asahi.com/api_data/language_model.html"
   ]
  },
  {
   "cell_type": "code",
   "execution_count": 25,
   "metadata": {},
   "outputs": [
    {
     "name": "stderr",
     "output_type": "stream",
     "text": [
      "If you want to use `BertLMHeadModel` as a standalone, add `is_decoder=True.`\n",
      "Some weights of the model checkpoint at cl-tohoku/bert-large-japanese were not used when initializing BertLMHeadModel: ['cls.seq_relationship.weight', 'cls.seq_relationship.bias']\n",
      "- This IS expected if you are initializing BertLMHeadModel from the checkpoint of a model trained on another task or with another architecture (e.g. initializing a BertForSequenceClassification model from a BertForPreTraining model).\n",
      "- This IS NOT expected if you are initializing BertLMHeadModel from the checkpoint of a model that you expect to be exactly identical (initializing a BertForSequenceClassification model from a BertForSequenceClassification model).\n"
     ]
    }
   ],
   "source": [
    "from transformers import AutoModelForCausalLM\n",
    "m3 = AutoModelForCausalLM.from_pretrained(model_name)"
   ]
  },
  {
   "cell_type": "code",
   "execution_count": 26,
   "metadata": {},
   "outputs": [
    {
     "data": {
      "text/plain": [
       "=========================================================================================================\n",
       "Layer (type:depth-idx)                                  Output Shape              Param #\n",
       "=========================================================================================================\n",
       "BertLMHeadModel                                         [32, 512, 32768]          --\n",
       "├─BertModel: 1-1                                        [32, 512, 1024]           --\n",
       "│    └─BertEmbeddings: 2-1                              [32, 512, 1024]           --\n",
       "│    │    └─Embedding: 3-1                              [32, 512, 1024]           33,554,432\n",
       "│    │    └─Embedding: 3-2                              [32, 512, 1024]           2,048\n",
       "│    │    └─Embedding: 3-3                              [1, 512, 1024]            524,288\n",
       "│    │    └─LayerNorm: 3-4                              [32, 512, 1024]           2,048\n",
       "│    │    └─Dropout: 3-5                                [32, 512, 1024]           --\n",
       "│    └─BertEncoder: 2-2                                 [32, 512, 1024]           289,713,152\n",
       "│    │    └─ModuleList: 3-54                            --                        (recursive)\n",
       "│    │    │    └─BertLayer: 4-1                         [32, 512, 1024]           12,596,224\n",
       "├─BertOnlyMLMHead: 1-48                                 --                        (recursive)\n",
       "│    └─BertLMPredictionHead: 2-49                       --                        (recursive)\n",
       "│    │    └─BertPredictionHeadTransform: 3-53           --                        (recursive)\n",
       "│    │    │    └─GELUActivation: 4-2                    [32, 512, 4096]           --\n",
       "├─BertModel: 1-49                                       --                        (recursive)\n",
       "│    └─BertEncoder: 2-50                                --                        (recursive)\n",
       "│    │    └─ModuleList: 3-54                            --                        (recursive)\n",
       "│    │    │    └─BertLayer: 4-3                         --                        (recursive)\n",
       "│    │    │    └─BertLayer: 4-4                         [32, 512, 1024]           12,596,224\n",
       "├─BertOnlyMLMHead: 1-48                                 --                        (recursive)\n",
       "│    └─BertLMPredictionHead: 2-49                       --                        (recursive)\n",
       "│    │    └─BertPredictionHeadTransform: 3-53           --                        (recursive)\n",
       "│    │    │    └─GELUActivation: 4-5                    [32, 512, 4096]           --\n",
       "├─BertModel: 1-49                                       --                        (recursive)\n",
       "│    └─BertEncoder: 2-50                                --                        (recursive)\n",
       "│    │    └─ModuleList: 3-54                            --                        (recursive)\n",
       "│    │    │    └─BertLayer: 4-6                         --                        (recursive)\n",
       "│    │    │    └─BertLayer: 4-7                         [32, 512, 1024]           12,596,224\n",
       "├─BertOnlyMLMHead: 1-48                                 --                        (recursive)\n",
       "│    └─BertLMPredictionHead: 2-49                       --                        (recursive)\n",
       "│    │    └─BertPredictionHeadTransform: 3-53           --                        (recursive)\n",
       "│    │    │    └─GELUActivation: 4-8                    [32, 512, 4096]           --\n",
       "├─BertModel: 1-49                                       --                        (recursive)\n",
       "│    └─BertEncoder: 2-50                                --                        (recursive)\n",
       "│    │    └─ModuleList: 3-54                            --                        (recursive)\n",
       "│    │    │    └─BertLayer: 4-9                         --                        (recursive)\n",
       "│    │    │    └─BertLayer: 4-10                        [32, 512, 1024]           12,596,224\n",
       "├─BertOnlyMLMHead: 1-48                                 --                        (recursive)\n",
       "│    └─BertLMPredictionHead: 2-49                       --                        (recursive)\n",
       "│    │    └─BertPredictionHeadTransform: 3-53           --                        (recursive)\n",
       "│    │    │    └─GELUActivation: 4-11                   [32, 512, 4096]           --\n",
       "├─BertModel: 1-49                                       --                        (recursive)\n",
       "│    └─BertEncoder: 2-50                                --                        (recursive)\n",
       "│    │    └─ModuleList: 3-54                            --                        (recursive)\n",
       "│    │    │    └─BertLayer: 4-12                        --                        (recursive)\n",
       "│    │    │    └─BertLayer: 4-13                        [32, 512, 1024]           12,596,224\n",
       "├─BertOnlyMLMHead: 1-48                                 --                        (recursive)\n",
       "│    └─BertLMPredictionHead: 2-49                       --                        (recursive)\n",
       "│    │    └─BertPredictionHeadTransform: 3-53           --                        (recursive)\n",
       "│    │    │    └─GELUActivation: 4-14                   [32, 512, 4096]           --\n",
       "├─BertModel: 1-49                                       --                        (recursive)\n",
       "│    └─BertEncoder: 2-50                                --                        (recursive)\n",
       "│    │    └─ModuleList: 3-54                            --                        (recursive)\n",
       "│    │    │    └─BertLayer: 4-15                        --                        (recursive)\n",
       "│    │    │    └─BertLayer: 4-16                        [32, 512, 1024]           12,596,224\n",
       "├─BertOnlyMLMHead: 1-48                                 --                        (recursive)\n",
       "│    └─BertLMPredictionHead: 2-49                       --                        (recursive)\n",
       "│    │    └─BertPredictionHeadTransform: 3-53           --                        (recursive)\n",
       "│    │    │    └─GELUActivation: 4-17                   [32, 512, 4096]           --\n",
       "├─BertModel: 1-49                                       --                        (recursive)\n",
       "│    └─BertEncoder: 2-50                                --                        (recursive)\n",
       "│    │    └─ModuleList: 3-54                            --                        (recursive)\n",
       "│    │    │    └─BertLayer: 4-18                        --                        (recursive)\n",
       "│    │    │    └─BertLayer: 4-19                        [32, 512, 1024]           12,596,224\n",
       "├─BertOnlyMLMHead: 1-48                                 --                        (recursive)\n",
       "│    └─BertLMPredictionHead: 2-49                       --                        (recursive)\n",
       "│    │    └─BertPredictionHeadTransform: 3-53           --                        (recursive)\n",
       "│    │    │    └─GELUActivation: 4-20                   [32, 512, 4096]           --\n",
       "├─BertModel: 1-49                                       --                        (recursive)\n",
       "│    └─BertEncoder: 2-50                                --                        (recursive)\n",
       "│    │    └─ModuleList: 3-54                            --                        (recursive)\n",
       "│    │    │    └─BertLayer: 4-21                        --                        (recursive)\n",
       "│    │    │    └─BertLayer: 4-22                        [32, 512, 1024]           12,596,224\n",
       "├─BertOnlyMLMHead: 1-48                                 --                        (recursive)\n",
       "│    └─BertLMPredictionHead: 2-49                       --                        (recursive)\n",
       "│    │    └─BertPredictionHeadTransform: 3-53           --                        (recursive)\n",
       "│    │    │    └─GELUActivation: 4-23                   [32, 512, 4096]           --\n",
       "├─BertModel: 1-49                                       --                        (recursive)\n",
       "│    └─BertEncoder: 2-50                                --                        (recursive)\n",
       "│    │    └─ModuleList: 3-54                            --                        (recursive)\n",
       "│    │    │    └─BertLayer: 4-24                        --                        (recursive)\n",
       "│    │    │    └─BertLayer: 4-25                        [32, 512, 1024]           12,596,224\n",
       "├─BertOnlyMLMHead: 1-48                                 --                        (recursive)\n",
       "│    └─BertLMPredictionHead: 2-49                       --                        (recursive)\n",
       "│    │    └─BertPredictionHeadTransform: 3-53           --                        (recursive)\n",
       "│    │    │    └─GELUActivation: 4-26                   [32, 512, 4096]           --\n",
       "├─BertModel: 1-49                                       --                        (recursive)\n",
       "│    └─BertEncoder: 2-50                                --                        (recursive)\n",
       "│    │    └─ModuleList: 3-54                            --                        (recursive)\n",
       "│    │    │    └─BertLayer: 4-27                        --                        (recursive)\n",
       "│    │    │    └─BertLayer: 4-28                        [32, 512, 1024]           12,596,224\n",
       "├─BertOnlyMLMHead: 1-48                                 --                        (recursive)\n",
       "│    └─BertLMPredictionHead: 2-49                       --                        (recursive)\n",
       "│    │    └─BertPredictionHeadTransform: 3-53           --                        (recursive)\n",
       "│    │    │    └─GELUActivation: 4-29                   [32, 512, 4096]           --\n",
       "├─BertModel: 1-49                                       --                        (recursive)\n",
       "│    └─BertEncoder: 2-50                                --                        (recursive)\n",
       "│    │    └─ModuleList: 3-54                            --                        (recursive)\n",
       "│    │    │    └─BertLayer: 4-30                        --                        (recursive)\n",
       "│    │    │    └─BertLayer: 4-31                        [32, 512, 1024]           12,596,224\n",
       "├─BertOnlyMLMHead: 1-48                                 --                        (recursive)\n",
       "│    └─BertLMPredictionHead: 2-49                       --                        (recursive)\n",
       "│    │    └─BertPredictionHeadTransform: 3-53           --                        (recursive)\n",
       "│    │    │    └─GELUActivation: 4-32                   [32, 512, 4096]           --\n",
       "├─BertModel: 1-49                                       --                        (recursive)\n",
       "│    └─BertEncoder: 2-50                                --                        (recursive)\n",
       "│    │    └─ModuleList: 3-54                            --                        (recursive)\n",
       "│    │    │    └─BertLayer: 4-33                        --                        (recursive)\n",
       "│    │    │    └─BertLayer: 4-34                        [32, 512, 1024]           12,596,224\n",
       "├─BertOnlyMLMHead: 1-48                                 --                        (recursive)\n",
       "│    └─BertLMPredictionHead: 2-49                       --                        (recursive)\n",
       "│    │    └─BertPredictionHeadTransform: 3-53           --                        (recursive)\n",
       "│    │    │    └─GELUActivation: 4-35                   [32, 512, 4096]           --\n",
       "├─BertModel: 1-49                                       --                        (recursive)\n",
       "│    └─BertEncoder: 2-50                                --                        (recursive)\n",
       "│    │    └─ModuleList: 3-54                            --                        (recursive)\n",
       "│    │    │    └─BertLayer: 4-36                        --                        (recursive)\n",
       "│    │    │    └─BertLayer: 4-37                        [32, 512, 1024]           12,596,224\n",
       "├─BertOnlyMLMHead: 1-48                                 --                        (recursive)\n",
       "│    └─BertLMPredictionHead: 2-49                       --                        (recursive)\n",
       "│    │    └─BertPredictionHeadTransform: 3-53           --                        (recursive)\n",
       "│    │    │    └─GELUActivation: 4-38                   [32, 512, 4096]           --\n",
       "├─BertModel: 1-49                                       --                        (recursive)\n",
       "│    └─BertEncoder: 2-50                                --                        (recursive)\n",
       "│    │    └─ModuleList: 3-54                            --                        (recursive)\n",
       "│    │    │    └─BertLayer: 4-39                        --                        (recursive)\n",
       "│    │    │    └─BertLayer: 4-40                        [32, 512, 1024]           12,596,224\n",
       "├─BertOnlyMLMHead: 1-48                                 --                        (recursive)\n",
       "│    └─BertLMPredictionHead: 2-49                       --                        (recursive)\n",
       "│    │    └─BertPredictionHeadTransform: 3-53           --                        (recursive)\n",
       "│    │    │    └─GELUActivation: 4-41                   [32, 512, 4096]           --\n",
       "├─BertModel: 1-49                                       --                        (recursive)\n",
       "│    └─BertEncoder: 2-50                                --                        (recursive)\n",
       "│    │    └─ModuleList: 3-54                            --                        (recursive)\n",
       "│    │    │    └─BertLayer: 4-42                        --                        (recursive)\n",
       "│    │    │    └─BertLayer: 4-43                        [32, 512, 1024]           12,596,224\n",
       "├─BertOnlyMLMHead: 1-48                                 --                        (recursive)\n",
       "│    └─BertLMPredictionHead: 2-49                       --                        (recursive)\n",
       "│    │    └─BertPredictionHeadTransform: 3-53           --                        (recursive)\n",
       "│    │    │    └─GELUActivation: 4-44                   [32, 512, 4096]           --\n",
       "├─BertModel: 1-49                                       --                        (recursive)\n",
       "│    └─BertEncoder: 2-50                                --                        (recursive)\n",
       "│    │    └─ModuleList: 3-54                            --                        (recursive)\n",
       "│    │    │    └─BertLayer: 4-45                        --                        (recursive)\n",
       "│    │    │    └─BertLayer: 4-46                        [32, 512, 1024]           12,596,224\n",
       "├─BertOnlyMLMHead: 1-48                                 --                        (recursive)\n",
       "│    └─BertLMPredictionHead: 2-49                       --                        (recursive)\n",
       "│    │    └─BertPredictionHeadTransform: 3-53           --                        (recursive)\n",
       "│    │    │    └─GELUActivation: 4-47                   [32, 512, 4096]           --\n",
       "├─BertModel: 1-49                                       --                        (recursive)\n",
       "│    └─BertEncoder: 2-50                                --                        (recursive)\n",
       "│    │    └─ModuleList: 3-54                            --                        (recursive)\n",
       "│    │    │    └─BertLayer: 4-48                        --                        (recursive)\n",
       "│    │    │    └─BertLayer: 4-49                        [32, 512, 1024]           12,596,224\n",
       "├─BertOnlyMLMHead: 1-48                                 --                        (recursive)\n",
       "│    └─BertLMPredictionHead: 2-49                       --                        (recursive)\n",
       "│    │    └─BertPredictionHeadTransform: 3-53           --                        (recursive)\n",
       "│    │    │    └─GELUActivation: 4-50                   [32, 512, 4096]           --\n",
       "├─BertModel: 1-49                                       --                        (recursive)\n",
       "│    └─BertEncoder: 2-50                                --                        (recursive)\n",
       "│    │    └─ModuleList: 3-54                            --                        (recursive)\n",
       "│    │    │    └─BertLayer: 4-51                        --                        (recursive)\n",
       "│    │    │    └─BertLayer: 4-52                        [32, 512, 1024]           12,596,224\n",
       "├─BertOnlyMLMHead: 1-48                                 --                        (recursive)\n",
       "│    └─BertLMPredictionHead: 2-49                       --                        (recursive)\n",
       "│    │    └─BertPredictionHeadTransform: 3-53           --                        (recursive)\n",
       "│    │    │    └─GELUActivation: 4-53                   [32, 512, 4096]           --\n",
       "├─BertModel: 1-49                                       --                        (recursive)\n",
       "│    └─BertEncoder: 2-50                                --                        (recursive)\n",
       "│    │    └─ModuleList: 3-54                            --                        (recursive)\n",
       "│    │    │    └─BertLayer: 4-54                        --                        (recursive)\n",
       "│    │    │    └─BertLayer: 4-55                        [32, 512, 1024]           12,596,224\n",
       "├─BertOnlyMLMHead: 1-48                                 --                        (recursive)\n",
       "│    └─BertLMPredictionHead: 2-49                       --                        (recursive)\n",
       "│    │    └─BertPredictionHeadTransform: 3-53           --                        (recursive)\n",
       "│    │    │    └─GELUActivation: 4-56                   [32, 512, 4096]           --\n",
       "├─BertModel: 1-49                                       --                        (recursive)\n",
       "│    └─BertEncoder: 2-50                                --                        (recursive)\n",
       "│    │    └─ModuleList: 3-54                            --                        (recursive)\n",
       "│    │    │    └─BertLayer: 4-57                        --                        (recursive)\n",
       "│    │    │    └─BertLayer: 4-58                        [32, 512, 1024]           12,596,224\n",
       "├─BertOnlyMLMHead: 1-48                                 --                        (recursive)\n",
       "│    └─BertLMPredictionHead: 2-49                       --                        (recursive)\n",
       "│    │    └─BertPredictionHeadTransform: 3-53           --                        (recursive)\n",
       "│    │    │    └─GELUActivation: 4-59                   [32, 512, 4096]           --\n",
       "├─BertModel: 1-49                                       --                        (recursive)\n",
       "│    └─BertEncoder: 2-50                                --                        (recursive)\n",
       "│    │    └─ModuleList: 3-54                            --                        (recursive)\n",
       "│    │    │    └─BertLayer: 4-60                        --                        (recursive)\n",
       "│    │    │    └─BertLayer: 4-61                        [32, 512, 1024]           12,596,224\n",
       "├─BertOnlyMLMHead: 1-48                                 --                        (recursive)\n",
       "│    └─BertLMPredictionHead: 2-49                       --                        (recursive)\n",
       "│    │    └─BertPredictionHeadTransform: 3-53           --                        (recursive)\n",
       "│    │    │    └─GELUActivation: 4-62                   [32, 512, 4096]           --\n",
       "├─BertModel: 1-49                                       --                        (recursive)\n",
       "│    └─BertEncoder: 2-50                                --                        (recursive)\n",
       "│    │    └─ModuleList: 3-54                            --                        (recursive)\n",
       "│    │    │    └─BertLayer: 4-63                        --                        (recursive)\n",
       "│    │    │    └─BertLayer: 4-64                        [32, 512, 1024]           12,596,224\n",
       "├─BertOnlyMLMHead: 1-48                                 --                        (recursive)\n",
       "│    └─BertLMPredictionHead: 2-49                       --                        (recursive)\n",
       "│    │    └─BertPredictionHeadTransform: 3-53           --                        (recursive)\n",
       "│    │    │    └─GELUActivation: 4-65                   [32, 512, 4096]           --\n",
       "├─BertModel: 1-49                                       --                        (recursive)\n",
       "│    └─BertEncoder: 2-50                                --                        (recursive)\n",
       "│    │    └─ModuleList: 3-54                            --                        (recursive)\n",
       "│    │    │    └─BertLayer: 4-66                        --                        (recursive)\n",
       "│    │    │    └─BertLayer: 4-67                        [32, 512, 1024]           12,596,224\n",
       "├─BertOnlyMLMHead: 1-48                                 --                        (recursive)\n",
       "│    └─BertLMPredictionHead: 2-49                       --                        (recursive)\n",
       "│    │    └─BertPredictionHeadTransform: 3-53           --                        (recursive)\n",
       "│    │    │    └─GELUActivation: 4-68                   [32, 512, 4096]           --\n",
       "├─BertModel: 1-49                                       --                        (recursive)\n",
       "│    └─BertEncoder: 2-50                                --                        (recursive)\n",
       "│    │    └─ModuleList: 3-54                            --                        (recursive)\n",
       "│    │    │    └─BertLayer: 4-69                        --                        (recursive)\n",
       "│    │    │    └─BertLayer: 4-70                        [32, 512, 1024]           12,596,224\n",
       "├─BertOnlyMLMHead: 1-48                                 --                        (recursive)\n",
       "│    └─BertLMPredictionHead: 2-49                       --                        (recursive)\n",
       "│    │    └─BertPredictionHeadTransform: 3-53           --                        (recursive)\n",
       "│    │    │    └─GELUActivation: 4-71                   [32, 512, 4096]           --\n",
       "├─BertModel: 1-49                                       --                        (recursive)\n",
       "│    └─BertEncoder: 2-50                                --                        (recursive)\n",
       "│    │    └─ModuleList: 3-54                            --                        (recursive)\n",
       "│    │    │    └─BertLayer: 4-72                        --                        (recursive)\n",
       "├─BertOnlyMLMHead: 1-50                                 [32, 512, 32768]          --\n",
       "│    └─BertLMPredictionHead: 2-51                       [32, 512, 32768]          --\n",
       "│    │    └─BertPredictionHeadTransform: 3-55           [32, 512, 1024]           --\n",
       "│    │    │    └─Linear: 4-73                           [32, 512, 1024]           1,049,600\n",
       "│    │    │    └─GELUActivation: 4-74                   [32, 512, 1024]           --\n",
       "│    │    │    └─LayerNorm: 4-75                        [32, 512, 1024]           2,048\n",
       "│    │    └─Linear: 3-56                                [32, 512, 32768]          33,587,200\n",
       "=========================================================================================================\n",
       "Total params: 337,476,608\n",
       "Trainable params: 337,476,608\n",
       "Non-trainable params: 0\n",
       "Total mult-adds (G): 11.86\n",
       "=========================================================================================================\n",
       "Input size (MB): 0.07\n",
       "Forward/backward pass size (MB): 40403.73\n",
       "Params size (MB): 1484.12\n",
       "Estimated Total Size (MB): 41887.92\n",
       "========================================================================================================="
      ]
     },
     "execution_count": 26,
     "metadata": {},
     "output_type": "execute_result"
    }
   ],
   "source": [
    "summary(m3, input_size=(batch_size, max_length), dtypes=[torch.int, torch.long], depth=4)"
   ]
  },
  {
   "cell_type": "markdown",
   "metadata": {},
   "source": [
    "### AutoModelForMaskedLM"
   ]
  },
  {
   "cell_type": "code",
   "execution_count": 27,
   "metadata": {},
   "outputs": [
    {
     "name": "stderr",
     "output_type": "stream",
     "text": [
      "If you want to use `BertLMHeadModel` as a standalone, add `is_decoder=True.`\n",
      "Some weights of the model checkpoint at cl-tohoku/bert-large-japanese were not used when initializing BertLMHeadModel: ['cls.seq_relationship.weight', 'cls.seq_relationship.bias']\n",
      "- This IS expected if you are initializing BertLMHeadModel from the checkpoint of a model trained on another task or with another architecture (e.g. initializing a BertForSequenceClassification model from a BertForPreTraining model).\n",
      "- This IS NOT expected if you are initializing BertLMHeadModel from the checkpoint of a model that you expect to be exactly identical (initializing a BertForSequenceClassification model from a BertForSequenceClassification model).\n"
     ]
    }
   ],
   "source": [
    "from transformers import AutoModelForCausalLM\n",
    "m4 = AutoModelForCausalLM.from_pretrained(model_name)"
   ]
  },
  {
   "cell_type": "code",
   "execution_count": 28,
   "metadata": {},
   "outputs": [
    {
     "data": {
      "text/plain": [
       "=========================================================================================================\n",
       "Layer (type:depth-idx)                                  Output Shape              Param #\n",
       "=========================================================================================================\n",
       "BertLMHeadModel                                         [32, 512, 32768]          --\n",
       "├─BertModel: 1-1                                        [32, 512, 1024]           336,392,192\n",
       "├─BertOnlyMLMHead: 1-48                                 --                        (recursive)\n",
       "├─BertModel: 1-49                                       --                        (recursive)\n",
       "├─BertOnlyMLMHead: 1-48                                 --                        (recursive)\n",
       "├─BertModel: 1-49                                       --                        (recursive)\n",
       "├─BertOnlyMLMHead: 1-48                                 --                        (recursive)\n",
       "├─BertModel: 1-49                                       --                        (recursive)\n",
       "├─BertOnlyMLMHead: 1-48                                 --                        (recursive)\n",
       "├─BertModel: 1-49                                       --                        (recursive)\n",
       "├─BertOnlyMLMHead: 1-48                                 --                        (recursive)\n",
       "├─BertModel: 1-49                                       --                        (recursive)\n",
       "├─BertOnlyMLMHead: 1-48                                 --                        (recursive)\n",
       "├─BertModel: 1-49                                       --                        (recursive)\n",
       "├─BertOnlyMLMHead: 1-48                                 --                        (recursive)\n",
       "├─BertModel: 1-49                                       --                        (recursive)\n",
       "├─BertOnlyMLMHead: 1-48                                 --                        (recursive)\n",
       "├─BertModel: 1-49                                       --                        (recursive)\n",
       "├─BertOnlyMLMHead: 1-48                                 --                        (recursive)\n",
       "├─BertModel: 1-49                                       --                        (recursive)\n",
       "├─BertOnlyMLMHead: 1-48                                 --                        (recursive)\n",
       "├─BertModel: 1-49                                       --                        (recursive)\n",
       "├─BertOnlyMLMHead: 1-48                                 --                        (recursive)\n",
       "├─BertModel: 1-49                                       --                        (recursive)\n",
       "├─BertOnlyMLMHead: 1-48                                 --                        (recursive)\n",
       "├─BertModel: 1-49                                       --                        (recursive)\n",
       "├─BertOnlyMLMHead: 1-48                                 --                        (recursive)\n",
       "├─BertModel: 1-49                                       --                        (recursive)\n",
       "├─BertOnlyMLMHead: 1-48                                 --                        (recursive)\n",
       "├─BertModel: 1-49                                       --                        (recursive)\n",
       "├─BertOnlyMLMHead: 1-48                                 --                        (recursive)\n",
       "├─BertModel: 1-49                                       --                        (recursive)\n",
       "├─BertOnlyMLMHead: 1-48                                 --                        (recursive)\n",
       "├─BertModel: 1-49                                       --                        (recursive)\n",
       "├─BertOnlyMLMHead: 1-48                                 --                        (recursive)\n",
       "├─BertModel: 1-49                                       --                        (recursive)\n",
       "├─BertOnlyMLMHead: 1-48                                 --                        (recursive)\n",
       "├─BertModel: 1-49                                       --                        (recursive)\n",
       "├─BertOnlyMLMHead: 1-48                                 --                        (recursive)\n",
       "├─BertModel: 1-49                                       --                        (recursive)\n",
       "├─BertOnlyMLMHead: 1-48                                 --                        (recursive)\n",
       "├─BertModel: 1-49                                       --                        (recursive)\n",
       "├─BertOnlyMLMHead: 1-48                                 --                        (recursive)\n",
       "├─BertModel: 1-49                                       --                        (recursive)\n",
       "├─BertOnlyMLMHead: 1-48                                 --                        (recursive)\n",
       "├─BertModel: 1-49                                       --                        (recursive)\n",
       "├─BertOnlyMLMHead: 1-48                                 --                        (recursive)\n",
       "├─BertModel: 1-49                                       --                        (recursive)\n",
       "├─BertOnlyMLMHead: 1-48                                 --                        (recursive)\n",
       "├─BertModel: 1-49                                       --                        (recursive)\n",
       "├─BertOnlyMLMHead: 1-50                                 [32, 512, 32768]          34,638,848\n",
       "=========================================================================================================\n",
       "Total params: 337,476,608\n",
       "Trainable params: 337,476,608\n",
       "Non-trainable params: 0\n",
       "Total mult-adds (G): 11.86\n",
       "=========================================================================================================\n",
       "Input size (MB): 0.07\n",
       "Forward/backward pass size (MB): 40403.73\n",
       "Params size (MB): 1484.12\n",
       "Estimated Total Size (MB): 41887.92\n",
       "========================================================================================================="
      ]
     },
     "execution_count": 28,
     "metadata": {},
     "output_type": "execute_result"
    }
   ],
   "source": [
    "summary(m4, input_size=(batch_size, max_length), dtypes=[torch.int, torch.long], depth=1)"
   ]
  },
  {
   "cell_type": "code",
   "execution_count": null,
   "metadata": {},
   "outputs": [],
   "source": []
  }
 ],
 "metadata": {
  "kernelspec": {
   "display_name": "Python 3.9.6 ('.venv': poetry)",
   "language": "python",
   "name": "python3"
  },
  "language_info": {
   "codemirror_mode": {
    "name": "ipython",
    "version": 3
   },
   "file_extension": ".py",
   "mimetype": "text/x-python",
   "name": "python",
   "nbconvert_exporter": "python",
   "pygments_lexer": "ipython3",
   "version": "3.9.6"
  },
  "orig_nbformat": 4,
  "vscode": {
   "interpreter": {
    "hash": "f007669f58917ef828e563fe3b1481c9ee4c6d5364b91c467fc73ebe5072978b"
   }
  }
 },
 "nbformat": 4,
 "nbformat_minor": 2
}
