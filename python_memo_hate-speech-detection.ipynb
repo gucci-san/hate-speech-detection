{
 "cells": [
  {
   "cell_type": "markdown",
   "metadata": {},
   "source": [
    "## hate-speech-detectionでのpythonメモ"
   ]
  },
  {
   "cell_type": "code",
   "execution_count": 34,
   "metadata": {},
   "outputs": [],
   "source": [
    "import pandas as pd\n",
    "import numpy as np\n",
    "import matplotlib.pyplot as plt\n",
    "import seaborn as sns\n",
    "\n",
    "import MeCab"
   ]
  },
  {
   "cell_type": "markdown",
   "metadata": {},
   "source": [
    "### 日本語でtf-idfをやる場合"
   ]
  },
  {
   "cell_type": "code",
   "execution_count": 35,
   "metadata": {},
   "outputs": [],
   "source": [
    "import re\n",
    "from sklearn.feature_extraction.text import CountVectorizer\n",
    "def clear(text):\n",
    "    text = re.sub(r'、', '', text)\n",
    "    text = re.sub(r'。', '', text)\n",
    "    text = re.sub(r'\\n', '', text)\n",
    " \n",
    "    return text\n",
    "\n",
    "\n",
    "text_list = [\n",
    "    \"私の名前は、Aです。\",\n",
    "    \"私は、ブログを書いています。\",\n",
    "    \"ブログの内容は、データ解析に関するものです\",\n",
    "    \"ブログは、定期的に更新しています\",\n",
    "]\n",
    "text_list_raw = text_list"
   ]
  },
  {
   "cell_type": "code",
   "execution_count": 36,
   "metadata": {},
   "outputs": [],
   "source": [
    "from config import dic_neologd\n",
    "\n",
    "for i in range(len(text_list)):\n",
    "    tagger = MeCab.Tagger(f\"-Owakati -d {dic_neologd}\")\n",
    "    text_list[i] = clear(tagger.parse(text_list[i]))"
   ]
  },
  {
   "cell_type": "code",
   "execution_count": 37,
   "metadata": {},
   "outputs": [
    {
     "data": {
      "text/plain": [
       "['私 の 名前 は  A です  ',\n",
       " '私 は  ブログ を 書い て い ます  ',\n",
       " 'ブログ の 内容 は  データ 解析 に関する もの です ',\n",
       " 'ブログ は  定期的 に 更新 し て い ます ']"
      ]
     },
     "execution_count": 37,
     "metadata": {},
     "output_type": "execute_result"
    }
   ],
   "source": [
    "text_list"
   ]
  },
  {
   "cell_type": "code",
   "execution_count": null,
   "metadata": {},
   "outputs": [],
   "source": [
    "bow = CountVectorizer()\n",
    "count = bow.fit_transform(text_list)\n",
    "vec = count.toarray()"
   ]
  },
  {
   "cell_type": "code",
   "execution_count": null,
   "metadata": {},
   "outputs": [],
   "source": []
  }
 ],
 "metadata": {
  "interpreter": {
   "hash": "f007669f58917ef828e563fe3b1481c9ee4c6d5364b91c467fc73ebe5072978b"
  },
  "kernelspec": {
   "display_name": "Python 3.9.6 ('.venv': poetry)",
   "language": "python",
   "name": "python3"
  },
  "language_info": {
   "codemirror_mode": {
    "name": "ipython",
    "version": 3
   },
   "file_extension": ".py",
   "mimetype": "text/x-python",
   "name": "python",
   "nbconvert_exporter": "python",
   "pygments_lexer": "ipython3",
   "version": "3.9.6"
  },
  "orig_nbformat": 4
 },
 "nbformat": 4,
 "nbformat_minor": 2
}
