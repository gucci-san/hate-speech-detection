{
 "cells": [
  {
   "cell_type": "markdown",
   "metadata": {},
   "source": [
    "### 11/3, random-seedのみを変えた10例について検討 + plotlyチュートリアル"
   ]
  },
  {
   "cell_type": "code",
   "execution_count": 2,
   "metadata": {},
   "outputs": [],
   "source": [
    "import pandas as pd\n",
    "import numpy as np\n",
    "\n",
    "import matplotlib.pyplot as plt\n",
    "import plotly.express as px\n",
    "import plotly.graph_objects as go\n",
    "from plotly.subplots import make_subplots"
   ]
  },
  {
   "cell_type": "code",
   "execution_count": 3,
   "metadata": {},
   "outputs": [],
   "source": [
    "log_df = pd.read_csv(\"./experiment/experiment_log.csv\")\n",
    "log_df = log_df.loc[log_df[\"run_id\"].map(lambda x: \"cat4_batch4_acc8_seed\" in x), :]"
   ]
  },
  {
   "cell_type": "code",
   "execution_count": 4,
   "metadata": {},
   "outputs": [],
   "source": [
    "log_df[\"model\"] = log_df[\"run_id\"].map(lambda x: x.split(\"_\")[0])"
   ]
  },
  {
   "cell_type": "code",
   "execution_count": 5,
   "metadata": {},
   "outputs": [
    {
     "data": {
      "text/html": [
       "<div>\n",
       "<style scoped>\n",
       "    .dataframe tbody tr th:only-of-type {\n",
       "        vertical-align: middle;\n",
       "    }\n",
       "\n",
       "    .dataframe tbody tr th {\n",
       "        vertical-align: top;\n",
       "    }\n",
       "\n",
       "    .dataframe thead th {\n",
       "        text-align: right;\n",
       "    }\n",
       "</style>\n",
       "<table border=\"1\" class=\"dataframe\">\n",
       "  <thead>\n",
       "    <tr style=\"text-align: right;\">\n",
       "      <th></th>\n",
       "      <th>Single_Public_LB</th>\n",
       "      <th>all_valid_metric</th>\n",
       "      <th>mean_valid_metric</th>\n",
       "      <th>run_id</th>\n",
       "      <th>seed</th>\n",
       "    </tr>\n",
       "  </thead>\n",
       "  <tbody>\n",
       "    <tr>\n",
       "      <th>106</th>\n",
       "      <td>0.755</td>\n",
       "      <td>0.737342</td>\n",
       "      <td>0.737031</td>\n",
       "      <td>roberta-large_cat4_batch4_acc8_seed0</td>\n",
       "      <td>0.0</td>\n",
       "    </tr>\n",
       "    <tr>\n",
       "      <th>107</th>\n",
       "      <td>0.703</td>\n",
       "      <td>0.691152</td>\n",
       "      <td>0.691405</td>\n",
       "      <td>roberta-large_cat4_batch4_acc8_seed1</td>\n",
       "      <td>1.0</td>\n",
       "    </tr>\n",
       "    <tr>\n",
       "      <th>108</th>\n",
       "      <td>0.651</td>\n",
       "      <td>0.662116</td>\n",
       "      <td>0.661627</td>\n",
       "      <td>roberta-large_cat4_batch4_acc8_seed2</td>\n",
       "      <td>2.0</td>\n",
       "    </tr>\n",
       "    <tr>\n",
       "      <th>109</th>\n",
       "      <td>0.705</td>\n",
       "      <td>0.708520</td>\n",
       "      <td>0.709560</td>\n",
       "      <td>roberta-large_cat4_batch4_acc8_seed3</td>\n",
       "      <td>3.0</td>\n",
       "    </tr>\n",
       "    <tr>\n",
       "      <th>110</th>\n",
       "      <td>0.685</td>\n",
       "      <td>0.593002</td>\n",
       "      <td>0.534125</td>\n",
       "      <td>roberta-large_cat4_batch4_acc8_seed4</td>\n",
       "      <td>4.0</td>\n",
       "    </tr>\n",
       "    <tr>\n",
       "      <th>111</th>\n",
       "      <td>0.752</td>\n",
       "      <td>0.723005</td>\n",
       "      <td>0.722984</td>\n",
       "      <td>roberta-large_cat4_batch4_acc8_seed5</td>\n",
       "      <td>5.0</td>\n",
       "    </tr>\n",
       "    <tr>\n",
       "      <th>112</th>\n",
       "      <td>0.760</td>\n",
       "      <td>0.711921</td>\n",
       "      <td>0.714895</td>\n",
       "      <td>roberta-large_cat4_batch4_acc8_seed6</td>\n",
       "      <td>6.0</td>\n",
       "    </tr>\n",
       "    <tr>\n",
       "      <th>113</th>\n",
       "      <td>0.764</td>\n",
       "      <td>0.703518</td>\n",
       "      <td>0.699871</td>\n",
       "      <td>roberta-large_cat4_batch4_acc8_seed7</td>\n",
       "      <td>7.0</td>\n",
       "    </tr>\n",
       "    <tr>\n",
       "      <th>114</th>\n",
       "      <td>0.751</td>\n",
       "      <td>0.689320</td>\n",
       "      <td>0.682540</td>\n",
       "      <td>roberta-large_cat4_batch4_acc8_seed8</td>\n",
       "      <td>8.0</td>\n",
       "    </tr>\n",
       "    <tr>\n",
       "      <th>115</th>\n",
       "      <td>0.695</td>\n",
       "      <td>0.629091</td>\n",
       "      <td>0.568414</td>\n",
       "      <td>roberta-large_cat4_batch4_acc8_seed9</td>\n",
       "      <td>9.0</td>\n",
       "    </tr>\n",
       "    <tr>\n",
       "      <th>116</th>\n",
       "      <td>NaN</td>\n",
       "      <td>0.550427</td>\n",
       "      <td>0.547982</td>\n",
       "      <td>bert-base-whm_cat4_batch4_acc8_seed0</td>\n",
       "      <td>0.0</td>\n",
       "    </tr>\n",
       "    <tr>\n",
       "      <th>117</th>\n",
       "      <td>NaN</td>\n",
       "      <td>0.549645</td>\n",
       "      <td>0.546217</td>\n",
       "      <td>bert-base-whm_cat4_batch4_acc8_seed1</td>\n",
       "      <td>1.0</td>\n",
       "    </tr>\n",
       "    <tr>\n",
       "      <th>118</th>\n",
       "      <td>NaN</td>\n",
       "      <td>0.535316</td>\n",
       "      <td>0.532152</td>\n",
       "      <td>bert-base-whm_cat4_batch4_acc8_seed2</td>\n",
       "      <td>2.0</td>\n",
       "    </tr>\n",
       "    <tr>\n",
       "      <th>119</th>\n",
       "      <td>NaN</td>\n",
       "      <td>0.536122</td>\n",
       "      <td>0.523735</td>\n",
       "      <td>bert-base-whm_cat4_batch4_acc8_seed3</td>\n",
       "      <td>3.0</td>\n",
       "    </tr>\n",
       "    <tr>\n",
       "      <th>120</th>\n",
       "      <td>NaN</td>\n",
       "      <td>0.535156</td>\n",
       "      <td>0.520508</td>\n",
       "      <td>bert-base-whm_cat4_batch4_acc8_seed4</td>\n",
       "      <td>4.0</td>\n",
       "    </tr>\n",
       "    <tr>\n",
       "      <th>121</th>\n",
       "      <td>NaN</td>\n",
       "      <td>0.513619</td>\n",
       "      <td>0.507765</td>\n",
       "      <td>bert-base-whm_cat4_batch4_acc8_seed5</td>\n",
       "      <td>5.0</td>\n",
       "    </tr>\n",
       "    <tr>\n",
       "      <th>122</th>\n",
       "      <td>NaN</td>\n",
       "      <td>0.468172</td>\n",
       "      <td>0.467055</td>\n",
       "      <td>bert-base-whm_cat4_batch4_acc8_seed6</td>\n",
       "      <td>6.0</td>\n",
       "    </tr>\n",
       "    <tr>\n",
       "      <th>123</th>\n",
       "      <td>NaN</td>\n",
       "      <td>0.494118</td>\n",
       "      <td>0.492769</td>\n",
       "      <td>bert-base-whm_cat4_batch4_acc8_seed7</td>\n",
       "      <td>7.0</td>\n",
       "    </tr>\n",
       "    <tr>\n",
       "      <th>124</th>\n",
       "      <td>NaN</td>\n",
       "      <td>0.555970</td>\n",
       "      <td>0.548508</td>\n",
       "      <td>bert-base-whm_cat4_batch4_acc8_seed8</td>\n",
       "      <td>8.0</td>\n",
       "    </tr>\n",
       "    <tr>\n",
       "      <th>125</th>\n",
       "      <td>NaN</td>\n",
       "      <td>0.527881</td>\n",
       "      <td>0.515877</td>\n",
       "      <td>bert-base-whm_cat4_batch4_acc8_seed9</td>\n",
       "      <td>9.0</td>\n",
       "    </tr>\n",
       "    <tr>\n",
       "      <th>126</th>\n",
       "      <td>NaN</td>\n",
       "      <td>0.568807</td>\n",
       "      <td>0.557198</td>\n",
       "      <td>bert-large_cat4_batch4_acc8_seed0</td>\n",
       "      <td>0.0</td>\n",
       "    </tr>\n",
       "    <tr>\n",
       "      <th>127</th>\n",
       "      <td>NaN</td>\n",
       "      <td>0.554386</td>\n",
       "      <td>0.548197</td>\n",
       "      <td>bert-large_cat4_batch4_acc8_seed1</td>\n",
       "      <td>1.0</td>\n",
       "    </tr>\n",
       "    <tr>\n",
       "      <th>128</th>\n",
       "      <td>NaN</td>\n",
       "      <td>0.484472</td>\n",
       "      <td>0.480887</td>\n",
       "      <td>bert-large_cat4_batch4_acc8_seed2</td>\n",
       "      <td>2.0</td>\n",
       "    </tr>\n",
       "    <tr>\n",
       "      <th>129</th>\n",
       "      <td>NaN</td>\n",
       "      <td>0.483034</td>\n",
       "      <td>0.478471</td>\n",
       "      <td>bert-large_cat4_batch4_acc8_seed3</td>\n",
       "      <td>3.0</td>\n",
       "    </tr>\n",
       "    <tr>\n",
       "      <th>130</th>\n",
       "      <td>NaN</td>\n",
       "      <td>0.551595</td>\n",
       "      <td>0.551893</td>\n",
       "      <td>bert-large_cat4_batch4_acc8_seed4</td>\n",
       "      <td>4.0</td>\n",
       "    </tr>\n",
       "    <tr>\n",
       "      <th>131</th>\n",
       "      <td>NaN</td>\n",
       "      <td>0.581633</td>\n",
       "      <td>0.575102</td>\n",
       "      <td>bert-large_cat4_batch4_acc8_seed5</td>\n",
       "      <td>5.0</td>\n",
       "    </tr>\n",
       "    <tr>\n",
       "      <th>132</th>\n",
       "      <td>NaN</td>\n",
       "      <td>0.505882</td>\n",
       "      <td>0.502925</td>\n",
       "      <td>bert-large_cat4_batch4_acc8_seed6</td>\n",
       "      <td>6.0</td>\n",
       "    </tr>\n",
       "    <tr>\n",
       "      <th>133</th>\n",
       "      <td>NaN</td>\n",
       "      <td>0.569930</td>\n",
       "      <td>0.567278</td>\n",
       "      <td>bert-large_cat4_batch4_acc8_seed7</td>\n",
       "      <td>7.0</td>\n",
       "    </tr>\n",
       "    <tr>\n",
       "      <th>134</th>\n",
       "      <td>NaN</td>\n",
       "      <td>0.540925</td>\n",
       "      <td>0.537761</td>\n",
       "      <td>bert-large_cat4_batch4_acc8_seed8</td>\n",
       "      <td>8.0</td>\n",
       "    </tr>\n",
       "    <tr>\n",
       "      <th>135</th>\n",
       "      <td>NaN</td>\n",
       "      <td>0.548387</td>\n",
       "      <td>0.540942</td>\n",
       "      <td>bert-large_cat4_batch4_acc8_seed9</td>\n",
       "      <td>9.0</td>\n",
       "    </tr>\n",
       "    <tr>\n",
       "      <th>136</th>\n",
       "      <td>NaN</td>\n",
       "      <td>0.656911</td>\n",
       "      <td>0.657133</td>\n",
       "      <td>xlm-roberta-large_cat4_batch4_acc8_seed0</td>\n",
       "      <td>0.0</td>\n",
       "    </tr>\n",
       "    <tr>\n",
       "      <th>137</th>\n",
       "      <td>NaN</td>\n",
       "      <td>0.605634</td>\n",
       "      <td>0.605784</td>\n",
       "      <td>xlm-roberta-large_cat4_batch4_acc8_seed1</td>\n",
       "      <td>1.0</td>\n",
       "    </tr>\n",
       "    <tr>\n",
       "      <th>138</th>\n",
       "      <td>NaN</td>\n",
       "      <td>0.688245</td>\n",
       "      <td>0.680499</td>\n",
       "      <td>xlm-roberta-large_cat4_batch4_acc8_seed2</td>\n",
       "      <td>2.0</td>\n",
       "    </tr>\n",
       "    <tr>\n",
       "      <th>139</th>\n",
       "      <td>NaN</td>\n",
       "      <td>0.668942</td>\n",
       "      <td>0.672026</td>\n",
       "      <td>xlm-roberta-large_cat4_batch4_acc8_seed3</td>\n",
       "      <td>3.0</td>\n",
       "    </tr>\n",
       "    <tr>\n",
       "      <th>140</th>\n",
       "      <td>NaN</td>\n",
       "      <td>0.688742</td>\n",
       "      <td>0.690639</td>\n",
       "      <td>xlm-roberta-large_cat4_batch4_acc8_seed4</td>\n",
       "      <td>4.0</td>\n",
       "    </tr>\n",
       "  </tbody>\n",
       "</table>\n",
       "</div>"
      ],
      "text/plain": [
       "     Single_Public_LB  all_valid_metric  mean_valid_metric  \\\n",
       "106             0.755          0.737342           0.737031   \n",
       "107             0.703          0.691152           0.691405   \n",
       "108             0.651          0.662116           0.661627   \n",
       "109             0.705          0.708520           0.709560   \n",
       "110             0.685          0.593002           0.534125   \n",
       "111             0.752          0.723005           0.722984   \n",
       "112             0.760          0.711921           0.714895   \n",
       "113             0.764          0.703518           0.699871   \n",
       "114             0.751          0.689320           0.682540   \n",
       "115             0.695          0.629091           0.568414   \n",
       "116               NaN          0.550427           0.547982   \n",
       "117               NaN          0.549645           0.546217   \n",
       "118               NaN          0.535316           0.532152   \n",
       "119               NaN          0.536122           0.523735   \n",
       "120               NaN          0.535156           0.520508   \n",
       "121               NaN          0.513619           0.507765   \n",
       "122               NaN          0.468172           0.467055   \n",
       "123               NaN          0.494118           0.492769   \n",
       "124               NaN          0.555970           0.548508   \n",
       "125               NaN          0.527881           0.515877   \n",
       "126               NaN          0.568807           0.557198   \n",
       "127               NaN          0.554386           0.548197   \n",
       "128               NaN          0.484472           0.480887   \n",
       "129               NaN          0.483034           0.478471   \n",
       "130               NaN          0.551595           0.551893   \n",
       "131               NaN          0.581633           0.575102   \n",
       "132               NaN          0.505882           0.502925   \n",
       "133               NaN          0.569930           0.567278   \n",
       "134               NaN          0.540925           0.537761   \n",
       "135               NaN          0.548387           0.540942   \n",
       "136               NaN          0.656911           0.657133   \n",
       "137               NaN          0.605634           0.605784   \n",
       "138               NaN          0.688245           0.680499   \n",
       "139               NaN          0.668942           0.672026   \n",
       "140               NaN          0.688742           0.690639   \n",
       "\n",
       "                                       run_id  seed  \n",
       "106      roberta-large_cat4_batch4_acc8_seed0   0.0  \n",
       "107      roberta-large_cat4_batch4_acc8_seed1   1.0  \n",
       "108      roberta-large_cat4_batch4_acc8_seed2   2.0  \n",
       "109      roberta-large_cat4_batch4_acc8_seed3   3.0  \n",
       "110      roberta-large_cat4_batch4_acc8_seed4   4.0  \n",
       "111      roberta-large_cat4_batch4_acc8_seed5   5.0  \n",
       "112      roberta-large_cat4_batch4_acc8_seed6   6.0  \n",
       "113      roberta-large_cat4_batch4_acc8_seed7   7.0  \n",
       "114      roberta-large_cat4_batch4_acc8_seed8   8.0  \n",
       "115      roberta-large_cat4_batch4_acc8_seed9   9.0  \n",
       "116      bert-base-whm_cat4_batch4_acc8_seed0   0.0  \n",
       "117      bert-base-whm_cat4_batch4_acc8_seed1   1.0  \n",
       "118      bert-base-whm_cat4_batch4_acc8_seed2   2.0  \n",
       "119      bert-base-whm_cat4_batch4_acc8_seed3   3.0  \n",
       "120      bert-base-whm_cat4_batch4_acc8_seed4   4.0  \n",
       "121      bert-base-whm_cat4_batch4_acc8_seed5   5.0  \n",
       "122      bert-base-whm_cat4_batch4_acc8_seed6   6.0  \n",
       "123      bert-base-whm_cat4_batch4_acc8_seed7   7.0  \n",
       "124      bert-base-whm_cat4_batch4_acc8_seed8   8.0  \n",
       "125      bert-base-whm_cat4_batch4_acc8_seed9   9.0  \n",
       "126         bert-large_cat4_batch4_acc8_seed0   0.0  \n",
       "127         bert-large_cat4_batch4_acc8_seed1   1.0  \n",
       "128         bert-large_cat4_batch4_acc8_seed2   2.0  \n",
       "129         bert-large_cat4_batch4_acc8_seed3   3.0  \n",
       "130         bert-large_cat4_batch4_acc8_seed4   4.0  \n",
       "131         bert-large_cat4_batch4_acc8_seed5   5.0  \n",
       "132         bert-large_cat4_batch4_acc8_seed6   6.0  \n",
       "133         bert-large_cat4_batch4_acc8_seed7   7.0  \n",
       "134         bert-large_cat4_batch4_acc8_seed8   8.0  \n",
       "135         bert-large_cat4_batch4_acc8_seed9   9.0  \n",
       "136  xlm-roberta-large_cat4_batch4_acc8_seed0   0.0  \n",
       "137  xlm-roberta-large_cat4_batch4_acc8_seed1   1.0  \n",
       "138  xlm-roberta-large_cat4_batch4_acc8_seed2   2.0  \n",
       "139  xlm-roberta-large_cat4_batch4_acc8_seed3   3.0  \n",
       "140  xlm-roberta-large_cat4_batch4_acc8_seed4   4.0  "
      ]
     },
     "execution_count": 5,
     "metadata": {},
     "output_type": "execute_result"
    }
   ],
   "source": [
    "log_df.loc[:, [\"Single_Public_LB\", \"all_valid_metric\", \"mean_valid_metric\", \"run_id\", \"seed\"]]"
   ]
  },
  {
   "cell_type": "code",
   "execution_count": 6,
   "metadata": {},
   "outputs": [
    {
     "name": "stderr",
     "output_type": "stream",
     "text": [
      "/tmp/ipykernel_1564820/417702080.py:1: FutureWarning: ['run_id', 'output_path', 'train_data', 'use_amp', 'model_name', 'model_custom_header', 'mixout', 'learning_rate', 'scheduler_name', 'save_checkpoint'] did not aggregate successfully. If any error is raised this will raise in a future version of pandas. Drop these columns/ops to avoid this warning.\n",
      "  describe_df = np.round(log_df.groupby(\"model\").agg([\"mean\", \"std\"])[\"all_valid_metric\"].copy(), 3)\n"
     ]
    }
   ],
   "source": [
    "describe_df = np.round(log_df.groupby(\"model\").agg([\"mean\", \"std\"])[\"all_valid_metric\"].copy(), 3)"
   ]
  },
  {
   "cell_type": "code",
   "execution_count": 37,
   "metadata": {},
   "outputs": [
    {
     "data": {
      "text/html": [
       "<div>\n",
       "<style scoped>\n",
       "    .dataframe tbody tr th:only-of-type {\n",
       "        vertical-align: middle;\n",
       "    }\n",
       "\n",
       "    .dataframe tbody tr th {\n",
       "        vertical-align: top;\n",
       "    }\n",
       "\n",
       "    .dataframe thead th {\n",
       "        text-align: right;\n",
       "    }\n",
       "</style>\n",
       "<table border=\"1\" class=\"dataframe\">\n",
       "  <thead>\n",
       "    <tr style=\"text-align: right;\">\n",
       "      <th></th>\n",
       "      <th>mean</th>\n",
       "      <th>std</th>\n",
       "    </tr>\n",
       "    <tr>\n",
       "      <th>model</th>\n",
       "      <th></th>\n",
       "      <th></th>\n",
       "    </tr>\n",
       "  </thead>\n",
       "  <tbody>\n",
       "    <tr>\n",
       "      <th>bert-base-whm</th>\n",
       "      <td>0.527</td>\n",
       "      <td>0.028</td>\n",
       "    </tr>\n",
       "    <tr>\n",
       "      <th>bert-large</th>\n",
       "      <td>0.539</td>\n",
       "      <td>0.036</td>\n",
       "    </tr>\n",
       "    <tr>\n",
       "      <th>xlm-roberta-large</th>\n",
       "      <td>0.662</td>\n",
       "      <td>0.034</td>\n",
       "    </tr>\n",
       "  </tbody>\n",
       "</table>\n",
       "</div>"
      ],
      "text/plain": [
       "                    mean    std\n",
       "model                          \n",
       "bert-base-whm      0.527  0.028\n",
       "bert-large         0.539  0.036\n",
       "xlm-roberta-large  0.662  0.034"
      ]
     },
     "execution_count": 37,
     "metadata": {},
     "output_type": "execute_result"
    }
   ],
   "source": [
    "describe_df.iloc[[0, 1, 3], :]"
   ]
  },
  {
   "cell_type": "code",
   "execution_count": 8,
   "metadata": {},
   "outputs": [
    {
     "data": {
      "text/plain": [
       "['bert-large', 'roberta-large', 'xlm-roberta-large']"
      ]
     },
     "execution_count": 8,
     "metadata": {},
     "output_type": "execute_result"
    }
   ],
   "source": [
    "describe_df.iloc[[0, 1, 3]:, :].index.tolist()"
   ]
  },
  {
   "cell_type": "markdown",
   "metadata": {},
   "source": [
    "### 主な気づき\n",
    "* update_annotationsは打った時点で存在するannotationに作用する\n",
    "    * subplot_titleに対するupdate_annotationは後ろからaddするannotationには聞いてない"
   ]
  },
  {
   "cell_type": "code",
   "execution_count": 39,
   "metadata": {},
   "outputs": [
    {
     "data": {
      "application/vnd.plotly.v1+json": {
       "config": {
        "plotlyServerURL": "https://plot.ly"
       },
       "data": [
        {
         "boxmean": false,
         "fillcolor": "#e0e0e0",
         "line": {
          "color": "#a0a0a0"
         },
         "type": "box",
         "width": 0.59,
         "x": [
          "bert-base-whm",
          "bert-base-whm",
          "bert-base-whm",
          "bert-base-whm",
          "bert-base-whm",
          "bert-base-whm",
          "bert-base-whm",
          "bert-base-whm",
          "bert-base-whm",
          "bert-base-whm"
         ],
         "xaxis": "x",
         "y": [
          0.550427,
          0.549645,
          0.535316,
          0.536122,
          0.535156,
          0.513619,
          0.468172,
          0.494118,
          0.55597,
          0.527881
         ],
         "yaxis": "y"
        },
        {
         "boxmean": false,
         "fillcolor": "#e0e0e0",
         "line": {
          "color": "#a0a0a0"
         },
         "type": "box",
         "width": 0.59,
         "x": [
          "bert-large",
          "bert-large",
          "bert-large",
          "bert-large",
          "bert-large",
          "bert-large",
          "bert-large",
          "bert-large",
          "bert-large",
          "bert-large"
         ],
         "xaxis": "x",
         "y": [
          0.568807,
          0.554386,
          0.484472,
          0.483034,
          0.551595,
          0.581633,
          0.505882,
          0.56993,
          0.540925,
          0.548387
         ],
         "yaxis": "y"
        },
        {
         "boxmean": false,
         "fillcolor": "#e0efff",
         "line": {
          "color": "#7fbfff"
         },
         "type": "box",
         "width": 0.59,
         "x": [
          "xlm-roberta-large",
          "xlm-roberta-large",
          "xlm-roberta-large",
          "xlm-roberta-large",
          "xlm-roberta-large"
         ],
         "xaxis": "x",
         "y": [
          0.656911,
          0.605634,
          0.688245,
          0.668942,
          0.688742
         ],
         "yaxis": "y"
        },
        {
         "cells": {
          "align": [
           "center",
           "center",
           "center"
          ],
          "fill": {
           "color": [
            "#c1e0ff",
            "#dbedff",
            "#dbedff"
           ]
          },
          "font": {
           "size": 16
          },
          "height": 32,
          "values": [
           [
            "bert-base-whm",
            "bert-large",
            "xlm-roberta-large"
           ],
           [
            0.527,
            0.539,
            0.662
           ],
           [
            0.028,
            0.036,
            0.034
           ]
          ]
         },
         "columnwidth": [
          1.4,
          1,
          1
         ],
         "domain": {
          "x": [
           0.55,
           1
          ],
          "y": [
           0,
           1
          ]
         },
         "header": {
          "align": [
           "center",
           "center",
           "center"
          ],
          "fill": {
           "color": "#add6ff"
          },
          "font": {
           "size": 18
          },
          "height": 42,
          "values": [
           "model",
           "mean",
           "std"
          ]
         },
         "type": "table"
        }
       ],
       "layout": {
        "annotations": [
         {
          "font": {
           "color": "gray",
           "size": 20
          },
          "showarrow": false,
          "text": "乱数シードを変えたときのf1-scoreの箱ひげ図",
          "x": 0.225,
          "xanchor": "center",
          "xref": "paper",
          "y": 1.04,
          "yanchor": "bottom",
          "yref": "paper"
         },
         {
          "font": {
           "color": "gray",
           "size": 20
          },
          "showarrow": false,
          "text": "乱数シードを変えたときのモデルごとの平均・標準偏差",
          "x": 0.775,
          "xanchor": "center",
          "xref": "paper",
          "y": 1.04,
          "yanchor": "bottom",
          "yref": "paper"
         },
         {
          "align": "left",
          "bgcolor": "#f9ffff",
          "font": {
           "size": 16
          },
          "showarrow": false,
          "text": "【計算条件】<br>・train_data: 5256<br>・stratified kfold: 5<br>・train batch size: 4<br>・gradient accumulation steps: 8              <br>・learning rate: 1e-5, (with linear warmup)   <br>・optimizer: AdamW<br>・Out-of-Foldで計算したlabelを用いてf1-scoreを計算<br><br>",
          "x": 0.56,
          "xanchor": "left",
          "xref": "paper",
          "y": 0.45
         }
        ],
        "height": 700,
        "hoverlabel": {
         "bgcolor": "lightblue",
         "font": {
          "size": 14
         }
        },
        "hovermode": "closest",
        "margin": {
         "b": 100,
         "l": 120,
         "r": 120,
         "t": 150
        },
        "paper_bgcolor": "#FFFFFF",
        "plot_bgcolor": "#FFFFFF",
        "showlegend": false,
        "template": {
         "data": {
          "bar": [
           {
            "error_x": {
             "color": "#2a3f5f"
            },
            "error_y": {
             "color": "#2a3f5f"
            },
            "marker": {
             "line": {
              "color": "#E5ECF6",
              "width": 0.5
             },
             "pattern": {
              "fillmode": "overlay",
              "size": 10,
              "solidity": 0.2
             }
            },
            "type": "bar"
           }
          ],
          "barpolar": [
           {
            "marker": {
             "line": {
              "color": "#E5ECF6",
              "width": 0.5
             },
             "pattern": {
              "fillmode": "overlay",
              "size": 10,
              "solidity": 0.2
             }
            },
            "type": "barpolar"
           }
          ],
          "carpet": [
           {
            "aaxis": {
             "endlinecolor": "#2a3f5f",
             "gridcolor": "white",
             "linecolor": "white",
             "minorgridcolor": "white",
             "startlinecolor": "#2a3f5f"
            },
            "baxis": {
             "endlinecolor": "#2a3f5f",
             "gridcolor": "white",
             "linecolor": "white",
             "minorgridcolor": "white",
             "startlinecolor": "#2a3f5f"
            },
            "type": "carpet"
           }
          ],
          "choropleth": [
           {
            "colorbar": {
             "outlinewidth": 0,
             "ticks": ""
            },
            "type": "choropleth"
           }
          ],
          "contour": [
           {
            "colorbar": {
             "outlinewidth": 0,
             "ticks": ""
            },
            "colorscale": [
             [
              0,
              "#0d0887"
             ],
             [
              0.1111111111111111,
              "#46039f"
             ],
             [
              0.2222222222222222,
              "#7201a8"
             ],
             [
              0.3333333333333333,
              "#9c179e"
             ],
             [
              0.4444444444444444,
              "#bd3786"
             ],
             [
              0.5555555555555556,
              "#d8576b"
             ],
             [
              0.6666666666666666,
              "#ed7953"
             ],
             [
              0.7777777777777778,
              "#fb9f3a"
             ],
             [
              0.8888888888888888,
              "#fdca26"
             ],
             [
              1,
              "#f0f921"
             ]
            ],
            "type": "contour"
           }
          ],
          "contourcarpet": [
           {
            "colorbar": {
             "outlinewidth": 0,
             "ticks": ""
            },
            "type": "contourcarpet"
           }
          ],
          "heatmap": [
           {
            "colorbar": {
             "outlinewidth": 0,
             "ticks": ""
            },
            "colorscale": [
             [
              0,
              "#0d0887"
             ],
             [
              0.1111111111111111,
              "#46039f"
             ],
             [
              0.2222222222222222,
              "#7201a8"
             ],
             [
              0.3333333333333333,
              "#9c179e"
             ],
             [
              0.4444444444444444,
              "#bd3786"
             ],
             [
              0.5555555555555556,
              "#d8576b"
             ],
             [
              0.6666666666666666,
              "#ed7953"
             ],
             [
              0.7777777777777778,
              "#fb9f3a"
             ],
             [
              0.8888888888888888,
              "#fdca26"
             ],
             [
              1,
              "#f0f921"
             ]
            ],
            "type": "heatmap"
           }
          ],
          "heatmapgl": [
           {
            "colorbar": {
             "outlinewidth": 0,
             "ticks": ""
            },
            "colorscale": [
             [
              0,
              "#0d0887"
             ],
             [
              0.1111111111111111,
              "#46039f"
             ],
             [
              0.2222222222222222,
              "#7201a8"
             ],
             [
              0.3333333333333333,
              "#9c179e"
             ],
             [
              0.4444444444444444,
              "#bd3786"
             ],
             [
              0.5555555555555556,
              "#d8576b"
             ],
             [
              0.6666666666666666,
              "#ed7953"
             ],
             [
              0.7777777777777778,
              "#fb9f3a"
             ],
             [
              0.8888888888888888,
              "#fdca26"
             ],
             [
              1,
              "#f0f921"
             ]
            ],
            "type": "heatmapgl"
           }
          ],
          "histogram": [
           {
            "marker": {
             "pattern": {
              "fillmode": "overlay",
              "size": 10,
              "solidity": 0.2
             }
            },
            "type": "histogram"
           }
          ],
          "histogram2d": [
           {
            "colorbar": {
             "outlinewidth": 0,
             "ticks": ""
            },
            "colorscale": [
             [
              0,
              "#0d0887"
             ],
             [
              0.1111111111111111,
              "#46039f"
             ],
             [
              0.2222222222222222,
              "#7201a8"
             ],
             [
              0.3333333333333333,
              "#9c179e"
             ],
             [
              0.4444444444444444,
              "#bd3786"
             ],
             [
              0.5555555555555556,
              "#d8576b"
             ],
             [
              0.6666666666666666,
              "#ed7953"
             ],
             [
              0.7777777777777778,
              "#fb9f3a"
             ],
             [
              0.8888888888888888,
              "#fdca26"
             ],
             [
              1,
              "#f0f921"
             ]
            ],
            "type": "histogram2d"
           }
          ],
          "histogram2dcontour": [
           {
            "colorbar": {
             "outlinewidth": 0,
             "ticks": ""
            },
            "colorscale": [
             [
              0,
              "#0d0887"
             ],
             [
              0.1111111111111111,
              "#46039f"
             ],
             [
              0.2222222222222222,
              "#7201a8"
             ],
             [
              0.3333333333333333,
              "#9c179e"
             ],
             [
              0.4444444444444444,
              "#bd3786"
             ],
             [
              0.5555555555555556,
              "#d8576b"
             ],
             [
              0.6666666666666666,
              "#ed7953"
             ],
             [
              0.7777777777777778,
              "#fb9f3a"
             ],
             [
              0.8888888888888888,
              "#fdca26"
             ],
             [
              1,
              "#f0f921"
             ]
            ],
            "type": "histogram2dcontour"
           }
          ],
          "mesh3d": [
           {
            "colorbar": {
             "outlinewidth": 0,
             "ticks": ""
            },
            "type": "mesh3d"
           }
          ],
          "parcoords": [
           {
            "line": {
             "colorbar": {
              "outlinewidth": 0,
              "ticks": ""
             }
            },
            "type": "parcoords"
           }
          ],
          "pie": [
           {
            "automargin": true,
            "type": "pie"
           }
          ],
          "scatter": [
           {
            "fillpattern": {
             "fillmode": "overlay",
             "size": 10,
             "solidity": 0.2
            },
            "type": "scatter"
           }
          ],
          "scatter3d": [
           {
            "line": {
             "colorbar": {
              "outlinewidth": 0,
              "ticks": ""
             }
            },
            "marker": {
             "colorbar": {
              "outlinewidth": 0,
              "ticks": ""
             }
            },
            "type": "scatter3d"
           }
          ],
          "scattercarpet": [
           {
            "marker": {
             "colorbar": {
              "outlinewidth": 0,
              "ticks": ""
             }
            },
            "type": "scattercarpet"
           }
          ],
          "scattergeo": [
           {
            "marker": {
             "colorbar": {
              "outlinewidth": 0,
              "ticks": ""
             }
            },
            "type": "scattergeo"
           }
          ],
          "scattergl": [
           {
            "marker": {
             "colorbar": {
              "outlinewidth": 0,
              "ticks": ""
             }
            },
            "type": "scattergl"
           }
          ],
          "scattermapbox": [
           {
            "marker": {
             "colorbar": {
              "outlinewidth": 0,
              "ticks": ""
             }
            },
            "type": "scattermapbox"
           }
          ],
          "scatterpolar": [
           {
            "marker": {
             "colorbar": {
              "outlinewidth": 0,
              "ticks": ""
             }
            },
            "type": "scatterpolar"
           }
          ],
          "scatterpolargl": [
           {
            "marker": {
             "colorbar": {
              "outlinewidth": 0,
              "ticks": ""
             }
            },
            "type": "scatterpolargl"
           }
          ],
          "scatterternary": [
           {
            "marker": {
             "colorbar": {
              "outlinewidth": 0,
              "ticks": ""
             }
            },
            "type": "scatterternary"
           }
          ],
          "surface": [
           {
            "colorbar": {
             "outlinewidth": 0,
             "ticks": ""
            },
            "colorscale": [
             [
              0,
              "#0d0887"
             ],
             [
              0.1111111111111111,
              "#46039f"
             ],
             [
              0.2222222222222222,
              "#7201a8"
             ],
             [
              0.3333333333333333,
              "#9c179e"
             ],
             [
              0.4444444444444444,
              "#bd3786"
             ],
             [
              0.5555555555555556,
              "#d8576b"
             ],
             [
              0.6666666666666666,
              "#ed7953"
             ],
             [
              0.7777777777777778,
              "#fb9f3a"
             ],
             [
              0.8888888888888888,
              "#fdca26"
             ],
             [
              1,
              "#f0f921"
             ]
            ],
            "type": "surface"
           }
          ],
          "table": [
           {
            "cells": {
             "fill": {
              "color": "#EBF0F8"
             },
             "line": {
              "color": "white"
             }
            },
            "header": {
             "fill": {
              "color": "#C8D4E3"
             },
             "line": {
              "color": "white"
             }
            },
            "type": "table"
           }
          ]
         },
         "layout": {
          "annotationdefaults": {
           "arrowcolor": "#2a3f5f",
           "arrowhead": 0,
           "arrowwidth": 1
          },
          "autotypenumbers": "strict",
          "coloraxis": {
           "colorbar": {
            "outlinewidth": 0,
            "ticks": ""
           }
          },
          "colorscale": {
           "diverging": [
            [
             0,
             "#8e0152"
            ],
            [
             0.1,
             "#c51b7d"
            ],
            [
             0.2,
             "#de77ae"
            ],
            [
             0.3,
             "#f1b6da"
            ],
            [
             0.4,
             "#fde0ef"
            ],
            [
             0.5,
             "#f7f7f7"
            ],
            [
             0.6,
             "#e6f5d0"
            ],
            [
             0.7,
             "#b8e186"
            ],
            [
             0.8,
             "#7fbc41"
            ],
            [
             0.9,
             "#4d9221"
            ],
            [
             1,
             "#276419"
            ]
           ],
           "sequential": [
            [
             0,
             "#0d0887"
            ],
            [
             0.1111111111111111,
             "#46039f"
            ],
            [
             0.2222222222222222,
             "#7201a8"
            ],
            [
             0.3333333333333333,
             "#9c179e"
            ],
            [
             0.4444444444444444,
             "#bd3786"
            ],
            [
             0.5555555555555556,
             "#d8576b"
            ],
            [
             0.6666666666666666,
             "#ed7953"
            ],
            [
             0.7777777777777778,
             "#fb9f3a"
            ],
            [
             0.8888888888888888,
             "#fdca26"
            ],
            [
             1,
             "#f0f921"
            ]
           ],
           "sequentialminus": [
            [
             0,
             "#0d0887"
            ],
            [
             0.1111111111111111,
             "#46039f"
            ],
            [
             0.2222222222222222,
             "#7201a8"
            ],
            [
             0.3333333333333333,
             "#9c179e"
            ],
            [
             0.4444444444444444,
             "#bd3786"
            ],
            [
             0.5555555555555556,
             "#d8576b"
            ],
            [
             0.6666666666666666,
             "#ed7953"
            ],
            [
             0.7777777777777778,
             "#fb9f3a"
            ],
            [
             0.8888888888888888,
             "#fdca26"
            ],
            [
             1,
             "#f0f921"
            ]
           ]
          },
          "colorway": [
           "#636efa",
           "#EF553B",
           "#00cc96",
           "#ab63fa",
           "#FFA15A",
           "#19d3f3",
           "#FF6692",
           "#B6E880",
           "#FF97FF",
           "#FECB52"
          ],
          "font": {
           "color": "#2a3f5f"
          },
          "geo": {
           "bgcolor": "white",
           "lakecolor": "white",
           "landcolor": "#E5ECF6",
           "showlakes": true,
           "showland": true,
           "subunitcolor": "white"
          },
          "hoverlabel": {
           "align": "left"
          },
          "hovermode": "closest",
          "mapbox": {
           "style": "light"
          },
          "paper_bgcolor": "white",
          "plot_bgcolor": "#E5ECF6",
          "polar": {
           "angularaxis": {
            "gridcolor": "white",
            "linecolor": "white",
            "ticks": ""
           },
           "bgcolor": "#E5ECF6",
           "radialaxis": {
            "gridcolor": "white",
            "linecolor": "white",
            "ticks": ""
           }
          },
          "scene": {
           "xaxis": {
            "backgroundcolor": "#E5ECF6",
            "gridcolor": "white",
            "gridwidth": 2,
            "linecolor": "white",
            "showbackground": true,
            "ticks": "",
            "zerolinecolor": "white"
           },
           "yaxis": {
            "backgroundcolor": "#E5ECF6",
            "gridcolor": "white",
            "gridwidth": 2,
            "linecolor": "white",
            "showbackground": true,
            "ticks": "",
            "zerolinecolor": "white"
           },
           "zaxis": {
            "backgroundcolor": "#E5ECF6",
            "gridcolor": "white",
            "gridwidth": 2,
            "linecolor": "white",
            "showbackground": true,
            "ticks": "",
            "zerolinecolor": "white"
           }
          },
          "shapedefaults": {
           "line": {
            "color": "#2a3f5f"
           }
          },
          "ternary": {
           "aaxis": {
            "gridcolor": "white",
            "linecolor": "white",
            "ticks": ""
           },
           "baxis": {
            "gridcolor": "white",
            "linecolor": "white",
            "ticks": ""
           },
           "bgcolor": "#E5ECF6",
           "caxis": {
            "gridcolor": "white",
            "linecolor": "white",
            "ticks": ""
           }
          },
          "title": {
           "x": 0.05
          },
          "xaxis": {
           "automargin": true,
           "gridcolor": "white",
           "linecolor": "white",
           "ticks": "",
           "title": {
            "standoff": 15
           },
           "zerolinecolor": "white",
           "zerolinewidth": 2
          },
          "yaxis": {
           "automargin": true,
           "gridcolor": "white",
           "linecolor": "white",
           "ticks": "",
           "title": {
            "standoff": 15
           },
           "zerolinecolor": "white",
           "zerolinewidth": 2
          }
         }
        },
        "title": {
         "font": {
          "color": "gray",
          "size": 28
         },
         "text": "<b>乱数シードによるf1-scoreのバラつきの検討</b>",
         "x": 0.5,
         "xanchor": "center",
         "xref": "container",
         "y": 0.94
        },
        "width": 1520,
        "xaxis": {
         "anchor": "y",
         "color": "gray",
         "domain": [
          0,
          0.45
         ],
         "linecolor": "gray",
         "linewidth": 2,
         "tickfont": {
          "size": 18
         },
         "title": {
          "font": {
           "size": 26
          },
          "text": "model_name [str]"
         }
        },
        "yaxis": {
         "anchor": "x",
         "color": "gray",
         "domain": [
          0,
          1
         ],
         "gridcolor": "lightgray",
         "linecolor": "white",
         "linewidth": 4,
         "range": [
          0.44,
          0.72
         ],
         "tickfont": {
          "size": 18
         },
         "title": {
          "font": {
           "size": 26
          },
          "text": "f1-score [-]"
         }
        }
       }
      }
     },
     "metadata": {},
     "output_type": "display_data"
    }
   ],
   "source": [
    "# 基本イメージはfig, axと同じ。Figureを定義してAxesを後から足していく --\n",
    "fig = make_subplots(\n",
    "    rows=1, cols=2, \n",
    "    column_width=[0.5, 0.5], specs=[[{}, {\"type\": \"domain\"}]],\n",
    "    subplot_titles=[\"乱数シードを変えたときのf1-scoreの箱ひげ図\", \"乱数シードを変えたときのモデルごとの平均・標準偏差\"],\n",
    "    )\n",
    "fig.update_annotations(font=dict(size=20, color=\"gray\"), y=1.04)\n",
    "\n",
    "# add boxplots for each model -- \n",
    "colorlist = [\"gray\", \"gray\", \"gray\", \"blue\"]\n",
    "boxplot_color_dict = {\n",
    "    \"gray\": (\"#a0a0a0\", \"#e0e0e0\"),\n",
    "    \"blue\": (\"#7fbfff\", \"#e0efff\"),\n",
    "}\n",
    "for model, color in zip(log_df[\"model\"].unique(), colorlist):\n",
    "\n",
    "    # nlp-waseda/roberta は一応隠そう --\n",
    "    if model == \"roberta-large\": continue\n",
    "\n",
    "    fig.add_trace(\n",
    "        go.Box(\n",
    "            x=log_df[log_df[\"model\"] == model][\"model\"],\n",
    "            y=log_df[log_df[\"model\"] == model][\"all_valid_metric\"],\n",
    "            width=0.59,\n",
    "            boxmean=False,\n",
    "            line=dict(color=boxplot_color_dict[color][0]),\n",
    "            fillcolor=boxplot_color_dict[color][1],\n",
    "        ),\n",
    "        row=1, col=1\n",
    "    )\n",
    "\n",
    "fig.add_trace(\n",
    "    go.Table(\n",
    "        header=dict(\n",
    "            values=[\"model\"] + describe_df.iloc[[0, 1, 3], :].columns.tolist(),\n",
    "            font=dict(size=18),\n",
    "            height=42,\n",
    "            align=[\"center\", \"center\", \"center\"],\n",
    "            fill_color=\"#add6ff\",\n",
    "\n",
    "        ),\n",
    "        cells=dict(\n",
    "            values=[describe_df.iloc[[0, 1, 3], :].index.tolist(), describe_df.iloc[[0, 1, 3], 0].values, describe_df.iloc[[0, 1, 3], 1].values],\n",
    "            font=dict(size=16),\n",
    "            height=32,\n",
    "            align=[\"center\", \"center\", \"center\"],\n",
    "            fill_color=[\"#c1e0ff\", \"#dbedff\", \"#dbedff\"],\n",
    "        ),\n",
    "        columnwidth=[1.4, 1, 1],\n",
    "    ),\n",
    "    row=1, col=2\n",
    ")\n",
    "\n",
    "\n",
    "# add explanation text --\n",
    "fig.add_annotation(\n",
    "    x=0.56, y=0.45, xref=\"paper\",\n",
    "    align=\"left\", font=dict(size=16), showarrow=False, bgcolor=\"#f9ffff\", xanchor=\"left\",\n",
    "    text=\n",
    "        \"【計算条件】<br>\"\\\n",
    "        \"・train_data: 5256<br>\"\n",
    "        \"・stratified kfold: 5<br>\"\\\n",
    "        \"・train batch size: 4<br>\"\\\n",
    "        \"・gradient accumulation steps: 8              <br>\"\\\n",
    "        \"・learning rate: 1e-5, (with linear warmup)   <br>\"\\\n",
    "        \"・optimizer: AdamW<br>\"\\\n",
    "        \"・Out-of-Foldで計算したlabelを用いてf1-scoreを計算<br><br>\"\\\n",
    "    )\n",
    "\n",
    "fig.update_layout(\n",
    "    # plot area --\n",
    "    margin=dict(l=120, r=120, t=150, b=100), # facecolor部分の余白 --\n",
    "    paper_bgcolor=\"#FFFFFF\", # facecolor --\n",
    "    width=1520, height=700, # graph area size --\n",
    "    plot_bgcolor=\"#FFFFFF\",\n",
    "\n",
    "    # title and axis --\n",
    "    title=dict(text=\"<b>乱数シードによるf1-scoreのバラつきの検討</b>\", font=dict(size=28, color=\"gray\"), xref=\"container\", xanchor=\"center\", x=0.5, y=0.94),\n",
    "    xaxis=dict(title=\"model_name [str]\", title_font=dict(size=26), tickfont=dict(size=18), color=\"gray\", linecolor=\"gray\", linewidth=2),\n",
    "    yaxis=dict(title=\"f1-score [-]\", title_font=dict(size=26), tickfont=dict(size=18), color=\"gray\", linecolor=\"white\", linewidth=4, gridcolor=\"lightgray\", range=[0.44, 0.72]),\n",
    "\n",
    "    showlegend=False,\n",
    "\n",
    "    # hover --\n",
    "    hovermode=\"closest\",\n",
    "    hoverlabel=dict(bgcolor=\"lightblue\", font_size=14)\n",
    ")\n",
    "fig.show()"
   ]
  }
 ],
 "metadata": {
  "kernelspec": {
   "display_name": "Python 3.9.6 ('.venv': poetry)",
   "language": "python",
   "name": "python3"
  },
  "language_info": {
   "codemirror_mode": {
    "name": "ipython",
    "version": 3
   },
   "file_extension": ".py",
   "mimetype": "text/x-python",
   "name": "python",
   "nbconvert_exporter": "python",
   "pygments_lexer": "ipython3",
   "version": "3.9.6"
  },
  "orig_nbformat": 4,
  "vscode": {
   "interpreter": {
    "hash": "f007669f58917ef828e563fe3b1481c9ee4c6d5364b91c467fc73ebe5072978b"
   }
  }
 },
 "nbformat": 4,
 "nbformat_minor": 2
}
