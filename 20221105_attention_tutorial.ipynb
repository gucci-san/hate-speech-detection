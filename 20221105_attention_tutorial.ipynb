{
 "cells": [
  {
   "cell_type": "markdown",
   "metadata": {},
   "source": [
    "### 11/05, BERTを真に理解したいnotebook(1)"
   ]
  },
  {
   "cell_type": "code",
   "execution_count": 7,
   "metadata": {},
   "outputs": [],
   "source": [
    "import torch\n",
    "import torch.nn as nn\n",
    "\n",
    "from transformers import AutoModel, AutoConfig, AutoTokenizer\n",
    "from torchinfo import summary\n",
    "\n",
    "model_name = \"bert-base-uncased\""
   ]
  },
  {
   "cell_type": "code",
   "execution_count": 6,
   "metadata": {},
   "outputs": [
    {
     "data": {
      "application/vnd.jupyter.widget-view+json": {
       "model_id": "b537f37941b7402489a08b16b05cfcb6",
       "version_major": 2,
       "version_minor": 0
      },
      "text/plain": [
       "Downloading:   0%|          | 0.00/440M [00:00<?, ?B/s]"
      ]
     },
     "metadata": {},
     "output_type": "display_data"
    },
    {
     "name": "stderr",
     "output_type": "stream",
     "text": [
      "Some weights of the model checkpoint at bert-base-uncased were not used when initializing BertModel: ['cls.predictions.transform.LayerNorm.weight', 'cls.predictions.transform.LayerNorm.bias', 'cls.predictions.transform.dense.bias', 'cls.seq_relationship.weight', 'cls.predictions.bias', 'cls.seq_relationship.bias', 'cls.predictions.transform.dense.weight', 'cls.predictions.decoder.weight']\n",
      "- This IS expected if you are initializing BertModel from the checkpoint of a model trained on another task or with another architecture (e.g. initializing a BertForSequenceClassification model from a BertForPreTraining model).\n",
      "- This IS NOT expected if you are initializing BertModel from the checkpoint of a model that you expect to be exactly identical (initializing a BertForSequenceClassification model from a BertForSequenceClassification model).\n"
     ]
    }
   ],
   "source": [
    "tokenizer = AutoTokenizer.from_pretrained(model_name)\n",
    "config = AutoConfig.from_pretrained(model_name)\n",
    "model = AutoModel.from_pretrained(model_name)"
   ]
  },
  {
   "cell_type": "code",
   "execution_count": 11,
   "metadata": {},
   "outputs": [
    {
     "data": {
      "text/plain": [
       "====================================================================================================\n",
       "Layer (type:depth-idx)                             Output Shape              Param #\n",
       "====================================================================================================\n",
       "BertModel                                          [32, 768]                 --\n",
       "├─BertEmbeddings: 1-1                              [32, 128, 768]            --\n",
       "│    └─Embedding: 2-1                              [32, 128, 768]            23,440,896\n",
       "│    └─Embedding: 2-2                              [32, 128, 768]            1,536\n",
       "│    └─Embedding: 2-3                              [1, 128, 768]             393,216\n",
       "│    └─LayerNorm: 2-4                              [32, 128, 768]            1,536\n",
       "│    └─Dropout: 2-5                                [32, 128, 768]            --\n",
       "├─BertEncoder: 1-2                                 [32, 128, 768]            --\n",
       "│    └─ModuleList: 2-6                             --                        --\n",
       "│    │    └─BertLayer: 3-1                         [32, 128, 768]            7,087,872\n",
       "│    │    └─BertLayer: 3-32                        --                        (recursive)\n",
       "│    │    └─BertLayer: 3-3                         --                        (recursive)\n",
       "│    │    └─BertLayer: 3-4                         [32, 128, 768]            7,087,872\n",
       "│    │    └─BertLayer: 3-32                        --                        (recursive)\n",
       "│    │    └─BertLayer: 3-6                         --                        (recursive)\n",
       "│    │    └─BertLayer: 3-7                         [32, 128, 768]            7,087,872\n",
       "│    │    └─BertLayer: 3-32                        --                        (recursive)\n",
       "│    │    └─BertLayer: 3-9                         --                        (recursive)\n",
       "│    │    └─BertLayer: 3-10                        [32, 128, 768]            7,087,872\n",
       "│    │    └─BertLayer: 3-32                        --                        (recursive)\n",
       "│    │    └─BertLayer: 3-12                        --                        (recursive)\n",
       "│    │    └─BertLayer: 3-13                        [32, 128, 768]            7,087,872\n",
       "│    │    └─BertLayer: 3-32                        --                        (recursive)\n",
       "│    │    └─BertLayer: 3-15                        --                        (recursive)\n",
       "│    │    └─BertLayer: 3-16                        [32, 128, 768]            7,087,872\n",
       "│    │    └─BertLayer: 3-32                        --                        (recursive)\n",
       "│    │    └─BertLayer: 3-18                        --                        (recursive)\n",
       "│    │    └─BertLayer: 3-19                        [32, 128, 768]            7,087,872\n",
       "│    │    └─BertLayer: 3-32                        --                        (recursive)\n",
       "│    │    └─BertLayer: 3-21                        --                        (recursive)\n",
       "│    │    └─BertLayer: 3-22                        [32, 128, 768]            7,087,872\n",
       "│    │    └─BertLayer: 3-32                        --                        (recursive)\n",
       "│    │    └─BertLayer: 3-24                        --                        (recursive)\n",
       "│    │    └─BertLayer: 3-25                        [32, 128, 768]            7,087,872\n",
       "│    │    └─BertLayer: 3-32                        --                        (recursive)\n",
       "│    │    └─BertLayer: 3-27                        --                        (recursive)\n",
       "│    │    └─BertLayer: 3-28                        [32, 128, 768]            7,087,872\n",
       "│    │    └─BertLayer: 3-32                        --                        (recursive)\n",
       "│    │    └─BertLayer: 3-30                        --                        (recursive)\n",
       "│    │    └─BertLayer: 3-31                        [32, 128, 768]            7,087,872\n",
       "│    │    └─BertLayer: 3-32                        --                        (recursive)\n",
       "│    │    └─BertLayer: 3-33                        --                        (recursive)\n",
       "│    │    └─BertLayer: 3-34                        [32, 128, 768]            7,087,872\n",
       "├─BertPooler: 1-3                                  [32, 768]                 --\n",
       "│    └─Linear: 2-7                                 [32, 768]                 590,592\n",
       "│    └─Tanh: 2-8                                   [32, 768]                 --\n",
       "====================================================================================================\n",
       "Total params: 109,482,240\n",
       "Trainable params: 109,482,240\n",
       "Non-trainable params: 0\n",
       "Total mult-adds (G): 3.49\n",
       "====================================================================================================\n",
       "Input size (MB): 0.02\n",
       "Forward/backward pass size (MB): 3398.37\n",
       "Params size (MB): 437.93\n",
       "Estimated Total Size (MB): 3836.31\n",
       "===================================================================================================="
      ]
     },
     "execution_count": 11,
     "metadata": {},
     "output_type": "execute_result"
    }
   ],
   "source": [
    "summary(model, input_size=[32, 128], dtypes=[torch.int, torch.long], depth=3)"
   ]
  }
 ],
 "metadata": {
  "kernelspec": {
   "display_name": "Python 3.9.6 ('.venv': poetry)",
   "language": "python",
   "name": "python3"
  },
  "language_info": {
   "codemirror_mode": {
    "name": "ipython",
    "version": 3
   },
   "file_extension": ".py",
   "mimetype": "text/x-python",
   "name": "python",
   "nbconvert_exporter": "python",
   "pygments_lexer": "ipython3",
   "version": "3.9.6"
  },
  "orig_nbformat": 4,
  "vscode": {
   "interpreter": {
    "hash": "f007669f58917ef828e563fe3b1481c9ee4c6d5364b91c467fc73ebe5072978b"
   }
  }
 },
 "nbformat": 4,
 "nbformat_minor": 2
}
